{
 "cells": [
  {
   "cell_type": "code",
   "execution_count": 3,
   "metadata": {},
   "outputs": [],
   "source": [
    "import matplotlib.pyplot as plt\n",
    "from ekpy import control\n",
    "from ekpy.control.instruments import keysight81150a, keysightdsox3024a\n",
    "from PVloop import PVHysteresis\n",
    "import numpy as np\n",
    "import time\n",
    "from datetime import timedelta"
   ]
  },
  {
   "cell_type": "code",
   "execution_count": 4,
   "metadata": {},
   "outputs": [
    {
     "data": {
      "text/plain": [
       "('GPIB0::7::INSTR',\n",
       " 'GPIB0::8::INSTR',\n",
       " 'USB0::0x0957::0x17A6::MY63080078::0::INSTR')"
      ]
     },
     "execution_count": 4,
     "metadata": {},
     "output_type": "execute_result"
    }
   ],
   "source": [
    "rm = control.ResourceManager()\n",
    "rm.list_resources()"
   ]
  },
  {
   "cell_type": "code",
   "execution_count": 5,
   "metadata": {},
   "outputs": [],
   "source": [
    "scope = rm.open_resource('GPIB0::7::INSTR')\n",
    "wavegen = rm.open_resource('GPIB0::8::INSTR')"
   ]
  },
  {
   "cell_type": "code",
   "execution_count": 6,
   "metadata": {},
   "outputs": [
    {
     "data": {
      "text/plain": [
       "'AGILENT TECHNOLOGIES,DSO-X 3024A,MY63080078,02.65.2021030741\\n'"
      ]
     },
     "execution_count": 6,
     "metadata": {},
     "output_type": "execute_result"
    }
   ],
   "source": [
    "keysightdsox3024a.idn(scope)"
   ]
  },
  {
   "cell_type": "code",
   "execution_count": 7,
   "metadata": {},
   "outputs": [
    {
     "data": {
      "text/plain": [
       "'Agilent Technologies,81150A,MY53821602,3.0.0.0-4.6\\n'"
      ]
     },
     "execution_count": 7,
     "metadata": {},
     "output_type": "execute_result"
    }
   ],
   "source": [
    "keysight81150a.idn(wavegen)"
   ]
  },
  {
   "cell_type": "code",
   "execution_count": 6,
   "metadata": {},
   "outputs": [],
   "source": [
    "def wakeup_sherry(wavegen, channel='2', num_cycles='1e6', voltage='2', pulse_width='20e-6'):\n",
    "    \"\"\"\n",
    "    This program will make a bipolar pulse and then configure it accordingly\n",
    "    wavegen (pyvisa.resources.gpib.GPIBInstrument): Keysight 81150a\n",
    "    channel (str): channel to output too ['1', '2']\n",
    "    \n",
    "    notes: do not need an offset by default half is positive half is negative. Also Voltage is measured from 0 to a peak\n",
    "    not peak-to-peak even though the instrument panel says it is... Make sure to change cabling\n",
    "    \"\"\"\n",
    "    frequency = 1/(2*float(pulse_width))\n",
    "    keysight81150a.initialize(wavegen)\n",
    "    keysight81150a.set_output_wf(wavegen, channel, 'squ', frequency, voltage)\n",
    "    total_wait_time = int(float(num_cycles)*(2* float(pulse_width)))\n",
    "    td_str = str(timedelta(seconds=total_wait_time))\n",
    "    print(\"Estimated total wait time is: {}\".format(td_str))\n",
    "    print(\"Check cabling is good to go for wakeup\")\n",
    "    #check for user input if itme is ok\n",
    "    affirmative = input(\"Print y if the allotted time is correct\")\n",
    "    if affirmative == 'y':\n",
    "        keysight81150a.enable_output(wavegen, channel)\n",
    "        time.sleep(total_wait_time)\n",
    "        keysight81150a.enable_output(wavegen, channel, False)\n",
    "        print(\"Make sure to check cabling is correct now\")"
   ]
  },
  {
   "cell_type": "code",
   "execution_count": 7,
   "metadata": {},
   "outputs": [
    {
     "name": "stdout",
     "output_type": "stream",
     "text": [
      "Estimated total wait time is: 0:00:40\n",
      "Check cabling is good to go for wakeup\n"
     ]
    }
   ],
   "source": [
    "wakeup_sherry(wavegen)"
   ]
  },
  {
   "cell_type": "code",
   "execution_count": 8,
   "metadata": {},
   "outputs": [],
   "source": [
    "keysight81150a.enable_output(wavegen, '2', False)"
   ]
  },
  {
   "cell_type": "code",
   "execution_count": 8,
   "metadata": {},
   "outputs": [],
   "source": [
    "exp_fe = PVHysteresis(wavegen,scope)\n",
    "\n",
    "# specify run function (if desired)\n",
    "# options are: run_function aka i havent added a different one\n",
    "\n",
    "\n",
    "# config data path\n",
    "Data_folder_path = \"C:/Users/geofr/Desktop/Research/Data/FE/PV/\"\n",
    "\n",
    "exp_fe.config_path(Data_folder_path + r'BTO')"
   ]
  },
  {
   "cell_type": "code",
   "execution_count": 14,
   "metadata": {},
   "outputs": [],
   "source": [
    "voltages = ['1', '1.5', '2'] \n",
    "scan_params = {\n",
    "    'voltage':voltages,\n",
    "\n",
    "}\n",
    "\n",
    "run_function_args = {\n",
    "    'wavegen':wavegen,\n",
    "    'scope':scope,\n",
    "    'initial_delay':'5e-5',\n",
    "    'pulse_delay':'5e-6',\n",
    "    'freq': '10', \n",
    "    'voltage':'2',\n",
    "    'capacitor_area':'4e-8',\n",
    "    'thickness':'10e-9',\n",
    "    'permittivity':'30',\n",
    "\t'amplification':'8',\n",
    "}\n",
    "\n",
    "order = ['voltage',]"
   ]
  },
  {
   "cell_type": "code",
   "execution_count": 15,
   "metadata": {},
   "outputs": [
    {
     "name": "stdout",
     "output_type": "stream",
     "text": [
      "Scan 1 of 9. {'freq': '10', 'voltage': '1'}\n",
      "terminating.\n",
      "done.\n"
     ]
    },
    {
     "ename": "VisaIOError",
     "evalue": "VI_ERROR_TMO (-1073807339): Timeout expired before operation completed.",
     "output_type": "error",
     "traceback": [
      "\u001b[1;31m---------------------------------------------------------------------------\u001b[0m",
      "\u001b[1;31mVisaIOError\u001b[0m                               Traceback (most recent call last)",
      "Cell \u001b[1;32mIn[15], line 1\u001b[0m\n\u001b[1;32m----> 1\u001b[0m \u001b[43mexp_fe\u001b[49m\u001b[38;5;241;43m.\u001b[39;49m\u001b[43mn_param_scan\u001b[49m\u001b[43m(\u001b[49m\u001b[43mscan_params\u001b[49m\u001b[43m,\u001b[49m\u001b[43m \u001b[49m\u001b[43mrun_function_args\u001b[49m\u001b[43m,\u001b[49m\u001b[43m \u001b[49m\u001b[43morder\u001b[49m\u001b[43m,\u001b[49m\u001b[43m \u001b[49m\u001b[43mntrials\u001b[49m\u001b[38;5;241;43m=\u001b[39;49m\u001b[38;5;241;43m1\u001b[39;49m\u001b[43m,\u001b[49m\u001b[43m \u001b[49m\u001b[43mplot\u001b[49m\u001b[38;5;241;43m=\u001b[39;49m\u001b[38;5;28;43;01mFalse\u001b[39;49;00m\u001b[43m)\u001b[49m\n",
      "File \u001b[1;32mc:\\Users\\geofr\\AppData\\Local\\Programs\\Python\\Python312\\Lib\\site-packages\\ekpy\\control\\core.py:441\u001b[0m, in \u001b[0;36mexperiment.n_param_scan\u001b[1;34m(self, kw_scan_params, fixed_params, scan_param_order, ntrials, print_progress, plot, use_analysis_file)\u001b[0m\n\u001b[0;32m    439\u001b[0m \u001b[38;5;28;01mexcept\u001b[39;00m \u001b[38;5;167;01mException\u001b[39;00m \u001b[38;5;28;01mas\u001b[39;00m e:\n\u001b[0;32m    440\u001b[0m \t\u001b[38;5;28mprint\u001b[39m(\u001b[38;5;124m'\u001b[39m\u001b[38;5;124mterminating.\u001b[39m\u001b[38;5;124m'\u001b[39m)\n\u001b[1;32m--> 441\u001b[0m \t\u001b[38;5;28;01mraise\u001b[39;00m e\n\u001b[0;32m    442\u001b[0m \u001b[38;5;28;01mfinally\u001b[39;00m:\n\u001b[0;32m    443\u001b[0m \t\u001b[38;5;28mself\u001b[39m\u001b[38;5;241m.\u001b[39mterminate()\n",
      "File \u001b[1;32mc:\\Users\\geofr\\AppData\\Local\\Programs\\Python\\Python312\\Lib\\site-packages\\ekpy\\control\\core.py:427\u001b[0m, in \u001b[0;36mexperiment.n_param_scan\u001b[1;34m(self, kw_scan_params, fixed_params, scan_param_order, ntrials, print_progress, plot, use_analysis_file)\u001b[0m\n\u001b[0;32m    424\u001b[0m iteration \u001b[38;5;241m+\u001b[39m\u001b[38;5;241m=\u001b[39m \u001b[38;5;241m1\u001b[39m\n\u001b[0;32m    425\u001b[0m \u001b[38;5;28mprint\u001b[39m(\u001b[38;5;124m'\u001b[39m\u001b[38;5;124mScan \u001b[39m\u001b[38;5;132;01m{}\u001b[39;00m\u001b[38;5;124m of \u001b[39m\u001b[38;5;132;01m{}\u001b[39;00m\u001b[38;5;124m. \u001b[39m\u001b[38;5;132;01m{}\u001b[39;00m\u001b[38;5;124m'\u001b[39m\u001b[38;5;241m.\u001b[39mformat(iteration, total_scans, current_scan_params))\n\u001b[1;32m--> 427\u001b[0m trial_df \u001b[38;5;241m=\u001b[39m \u001b[43mtrial\u001b[49m\u001b[43m(\u001b[49m\u001b[38;5;28;43mself\u001b[39;49m\u001b[38;5;241;43m.\u001b[39;49m\u001b[43mrun_function\u001b[49m\u001b[43m,\u001b[49m\u001b[43m \u001b[49m\u001b[43mkwargs\u001b[49m\u001b[43m,\u001b[49m\u001b[43m \u001b[49m\u001b[38;5;28;43mself\u001b[39;49m\u001b[38;5;241;43m.\u001b[39;49m\u001b[43mpath\u001b[49m\u001b[43m,\u001b[49m\u001b[43m \u001b[49m\u001b[43mreturn_df\u001b[49m\u001b[38;5;241;43m=\u001b[39;49m\u001b[38;5;28;43;01mTrue\u001b[39;49;00m\u001b[43m)\u001b[49m\n\u001b[0;32m    428\u001b[0m \u001b[38;5;28;01mif\u001b[39;00m plot:\n\u001b[0;32m    429\u001b[0m \t\u001b[38;5;28mself\u001b[39m\u001b[38;5;241m.\u001b[39m_plot(trial_df, kwargs)\n",
      "File \u001b[1;32mc:\\Users\\geofr\\AppData\\Local\\Programs\\Python\\Python312\\Lib\\site-packages\\ekpy\\control\\core.py:464\u001b[0m, in \u001b[0;36mtrial\u001b[1;34m(run_function, run_function_args, path, return_df, save_meta_data_pickle)\u001b[0m\n\u001b[0;32m    447\u001b[0m \u001b[38;5;28;01mdef\u001b[39;00m \u001b[38;5;21mtrial\u001b[39m(run_function, run_function_args, path, return_df\u001b[38;5;241m=\u001b[39m\u001b[38;5;28;01mFalse\u001b[39;00m, save_meta_data_pickle\u001b[38;5;241m=\u001b[39m\u001b[38;5;28;01mTrue\u001b[39;00m):\n\u001b[0;32m    448\u001b[0m \u001b[38;5;250m\t\u001b[39m\u001b[38;5;124;03m\"\"\"\u001b[39;00m\n\u001b[0;32m    449\u001b[0m \u001b[38;5;124;03m\tA trial for an experiment. This will save each trial (as csv) to path with a unique name (indexed by trial if an identical basename already exists). Also creates and saves meta data to path. The specified run_function must return ((str) base_name, (dict) meta_data, (pandas.dataframe) data).\u001b[39;00m\n\u001b[0;32m    450\u001b[0m \n\u001b[1;32m   (...)\u001b[0m\n\u001b[0;32m    462\u001b[0m \n\u001b[0;32m    463\u001b[0m \u001b[38;5;124;03m\t\"\"\"\u001b[39;00m\n\u001b[1;32m--> 464\u001b[0m \tbase_name, meta_data, df \u001b[38;5;241m=\u001b[39m \u001b[43mrun_function\u001b[49m\u001b[43m(\u001b[49m\u001b[38;5;241;43m*\u001b[39;49m\u001b[38;5;241;43m*\u001b[39;49m\u001b[43mrun_function_args\u001b[49m\u001b[43m)\u001b[49m\n\u001b[0;32m    465\u001b[0m \t\u001b[38;5;28;01mtry\u001b[39;00m:\n\u001b[0;32m    466\u001b[0m \t\texisting_meta_data \u001b[38;5;241m=\u001b[39m pd\u001b[38;5;241m.\u001b[39mread_csv(os\u001b[38;5;241m.\u001b[39mpath\u001b[38;5;241m.\u001b[39mjoin(path, \u001b[38;5;124m'\u001b[39m\u001b[38;5;124mmeta_data.csv\u001b[39m\u001b[38;5;124m'\u001b[39m))\n",
      "File \u001b[1;32mc:\\Users\\geofr\\Desktop\\Research\\Github\\FE\\PV\\PVloop.py:175\u001b[0m, in \u001b[0;36mrun_function\u001b[1;34m(scope, wavegen, initial_delay, pulse_delay, freq, voltage, capacitor_area, thickness, permittivity, amplification, voltage_channel, current_channel)\u001b[0m\n\u001b[0;32m    171\u001b[0m keysight81150a\u001b[38;5;241m.\u001b[39menable_output(wavegen, \u001b[38;5;124m'\u001b[39m\u001b[38;5;124m2\u001b[39m\u001b[38;5;124m'\u001b[39m)\n\u001b[0;32m    174\u001b[0m keysight81150a\u001b[38;5;241m.\u001b[39msend_software_trigger(wavegen)\n\u001b[1;32m--> 175\u001b[0m \u001b[43mscope\u001b[49m\u001b[38;5;241;43m.\u001b[39;49m\u001b[43mquery\u001b[49m\u001b[43m(\u001b[49m\u001b[38;5;124;43m\"\u001b[39;49m\u001b[38;5;124;43m*OPC?\u001b[39;49m\u001b[38;5;124;43m\"\u001b[39;49m\u001b[43m)\u001b[49m\n\u001b[0;32m    176\u001b[0m keysightdsox3024a\u001b[38;5;241m.\u001b[39msetup_wf(scope, source\u001b[38;5;241m=\u001b[39m\u001b[38;5;124m'\u001b[39m\u001b[38;5;124mCHAN1\u001b[39m\u001b[38;5;124m'\u001b[39m)\n\u001b[0;32m    177\u001b[0m metadata_v, time_v, wfm_v \u001b[38;5;241m=\u001b[39m keysightdsox3024a\u001b[38;5;241m.\u001b[39mquery_wf(scope) \n",
      "File \u001b[1;32mc:\\Users\\geofr\\AppData\\Local\\Programs\\Python\\Python312\\Lib\\site-packages\\pyvisa\\resources\\messagebased.py:647\u001b[0m, in \u001b[0;36mMessageBasedResource.query\u001b[1;34m(self, message, delay)\u001b[0m\n\u001b[0;32m    644\u001b[0m \u001b[38;5;28;01mif\u001b[39;00m delay \u001b[38;5;241m>\u001b[39m \u001b[38;5;241m0.0\u001b[39m:\n\u001b[0;32m    645\u001b[0m     time\u001b[38;5;241m.\u001b[39msleep(delay)\n\u001b[1;32m--> 647\u001b[0m \u001b[38;5;28;01mreturn\u001b[39;00m \u001b[38;5;28;43mself\u001b[39;49m\u001b[38;5;241;43m.\u001b[39;49m\u001b[43mread\u001b[49m\u001b[43m(\u001b[49m\u001b[43m)\u001b[49m\n",
      "File \u001b[1;32mc:\\Users\\geofr\\AppData\\Local\\Programs\\Python\\Python312\\Lib\\site-packages\\pyvisa\\resources\\messagebased.py:485\u001b[0m, in \u001b[0;36mMessageBasedResource.read\u001b[1;34m(self, termination, encoding)\u001b[0m\n\u001b[0;32m    483\u001b[0m \u001b[38;5;28;01mif\u001b[39;00m termination \u001b[38;5;129;01mis\u001b[39;00m \u001b[38;5;28;01mNone\u001b[39;00m:\n\u001b[0;32m    484\u001b[0m     termination \u001b[38;5;241m=\u001b[39m \u001b[38;5;28mself\u001b[39m\u001b[38;5;241m.\u001b[39m_read_termination\n\u001b[1;32m--> 485\u001b[0m     message \u001b[38;5;241m=\u001b[39m \u001b[38;5;28;43mself\u001b[39;49m\u001b[38;5;241;43m.\u001b[39;49m\u001b[43m_read_raw\u001b[49m\u001b[43m(\u001b[49m\u001b[43m)\u001b[49m\u001b[38;5;241m.\u001b[39mdecode(enco)\n\u001b[0;32m    486\u001b[0m \u001b[38;5;28;01melse\u001b[39;00m:\n\u001b[0;32m    487\u001b[0m     \u001b[38;5;28;01mwith\u001b[39;00m \u001b[38;5;28mself\u001b[39m\u001b[38;5;241m.\u001b[39mread_termination_context(termination):\n",
      "File \u001b[1;32mc:\\Users\\geofr\\AppData\\Local\\Programs\\Python\\Python312\\Lib\\site-packages\\pyvisa\\resources\\messagebased.py:441\u001b[0m, in \u001b[0;36mMessageBasedResource._read_raw\u001b[1;34m(self, size)\u001b[0m\n\u001b[0;32m    434\u001b[0m     \u001b[38;5;28;01mwhile\u001b[39;00m status \u001b[38;5;241m==\u001b[39m loop_status:\n\u001b[0;32m    435\u001b[0m         logger\u001b[38;5;241m.\u001b[39mdebug(\n\u001b[0;32m    436\u001b[0m             \u001b[38;5;124m\"\u001b[39m\u001b[38;5;132;01m%s\u001b[39;00m\u001b[38;5;124m - reading \u001b[39m\u001b[38;5;132;01m%d\u001b[39;00m\u001b[38;5;124m bytes (last status \u001b[39m\u001b[38;5;132;01m%r\u001b[39;00m\u001b[38;5;124m)\u001b[39m\u001b[38;5;124m\"\u001b[39m,\n\u001b[0;32m    437\u001b[0m             \u001b[38;5;28mself\u001b[39m\u001b[38;5;241m.\u001b[39m_resource_name,\n\u001b[0;32m    438\u001b[0m             size,\n\u001b[0;32m    439\u001b[0m             status,\n\u001b[0;32m    440\u001b[0m         )\n\u001b[1;32m--> 441\u001b[0m         chunk, status \u001b[38;5;241m=\u001b[39m \u001b[38;5;28;43mself\u001b[39;49m\u001b[38;5;241;43m.\u001b[39;49m\u001b[43mvisalib\u001b[49m\u001b[38;5;241;43m.\u001b[39;49m\u001b[43mread\u001b[49m\u001b[43m(\u001b[49m\u001b[38;5;28;43mself\u001b[39;49m\u001b[38;5;241;43m.\u001b[39;49m\u001b[43msession\u001b[49m\u001b[43m,\u001b[49m\u001b[43m \u001b[49m\u001b[43msize\u001b[49m\u001b[43m)\u001b[49m\n\u001b[0;32m    442\u001b[0m         ret\u001b[38;5;241m.\u001b[39mextend(chunk)\n\u001b[0;32m    443\u001b[0m \u001b[38;5;28;01mexcept\u001b[39;00m errors\u001b[38;5;241m.\u001b[39mVisaIOError \u001b[38;5;28;01mas\u001b[39;00m e:\n",
      "File \u001b[1;32mc:\\Users\\geofr\\AppData\\Local\\Programs\\Python\\Python312\\Lib\\site-packages\\pyvisa\\ctwrapper\\functions.py:2336\u001b[0m, in \u001b[0;36mread\u001b[1;34m(library, session, count)\u001b[0m\n\u001b[0;32m   2334\u001b[0m buffer \u001b[38;5;241m=\u001b[39m create_string_buffer(count)\n\u001b[0;32m   2335\u001b[0m return_count \u001b[38;5;241m=\u001b[39m ViUInt32()\n\u001b[1;32m-> 2336\u001b[0m ret \u001b[38;5;241m=\u001b[39m \u001b[43mlibrary\u001b[49m\u001b[38;5;241;43m.\u001b[39;49m\u001b[43mviRead\u001b[49m\u001b[43m(\u001b[49m\u001b[43msession\u001b[49m\u001b[43m,\u001b[49m\u001b[43m \u001b[49m\u001b[43mbuffer\u001b[49m\u001b[43m,\u001b[49m\u001b[43m \u001b[49m\u001b[43mcount\u001b[49m\u001b[43m,\u001b[49m\u001b[43m \u001b[49m\u001b[43mbyref\u001b[49m\u001b[43m(\u001b[49m\u001b[43mreturn_count\u001b[49m\u001b[43m)\u001b[49m\u001b[43m)\u001b[49m\n\u001b[0;32m   2337\u001b[0m \u001b[38;5;28;01mreturn\u001b[39;00m buffer\u001b[38;5;241m.\u001b[39mraw[: return_count\u001b[38;5;241m.\u001b[39mvalue], ret\n",
      "File \u001b[1;32mc:\\Users\\geofr\\AppData\\Local\\Programs\\Python\\Python312\\Lib\\site-packages\\pyvisa\\ctwrapper\\highlevel.py:226\u001b[0m, in \u001b[0;36mIVIVisaLibrary._return_handler\u001b[1;34m(self, ret_value, func, arguments)\u001b[0m\n\u001b[0;32m    223\u001b[0m         \u001b[38;5;66;03m# Set session back to a safe value\u001b[39;00m\n\u001b[0;32m    224\u001b[0m         session \u001b[38;5;241m=\u001b[39m \u001b[38;5;28;01mNone\u001b[39;00m\n\u001b[1;32m--> 226\u001b[0m \u001b[38;5;28;01mreturn\u001b[39;00m \u001b[38;5;28;43mself\u001b[39;49m\u001b[38;5;241;43m.\u001b[39;49m\u001b[43mhandle_return_value\u001b[49m\u001b[43m(\u001b[49m\u001b[43msession\u001b[49m\u001b[43m,\u001b[49m\u001b[43m \u001b[49m\u001b[43mret_value\u001b[49m\u001b[43m)\u001b[49m\n",
      "File \u001b[1;32mc:\\Users\\geofr\\AppData\\Local\\Programs\\Python\\Python312\\Lib\\site-packages\\pyvisa\\highlevel.py:251\u001b[0m, in \u001b[0;36mVisaLibraryBase.handle_return_value\u001b[1;34m(self, session, status_code)\u001b[0m\n\u001b[0;32m    248\u001b[0m     \u001b[38;5;28mself\u001b[39m\u001b[38;5;241m.\u001b[39m_last_status_in_session[session] \u001b[38;5;241m=\u001b[39m rv\n\u001b[0;32m    250\u001b[0m \u001b[38;5;28;01mif\u001b[39;00m rv \u001b[38;5;241m<\u001b[39m \u001b[38;5;241m0\u001b[39m:\n\u001b[1;32m--> 251\u001b[0m     \u001b[38;5;28;01mraise\u001b[39;00m errors\u001b[38;5;241m.\u001b[39mVisaIOError(rv)\n\u001b[0;32m    253\u001b[0m \u001b[38;5;28;01mif\u001b[39;00m rv \u001b[38;5;129;01min\u001b[39;00m \u001b[38;5;28mself\u001b[39m\u001b[38;5;241m.\u001b[39missue_warning_on:\n\u001b[0;32m    254\u001b[0m     \u001b[38;5;28;01mif\u001b[39;00m session \u001b[38;5;129;01mand\u001b[39;00m rv \u001b[38;5;129;01mnot\u001b[39;00m \u001b[38;5;129;01min\u001b[39;00m \u001b[38;5;28mself\u001b[39m\u001b[38;5;241m.\u001b[39m_ignore_warning_in_session[session]:\n",
      "\u001b[1;31mVisaIOError\u001b[0m: VI_ERROR_TMO (-1073807339): Timeout expired before operation completed."
     ]
    }
   ],
   "source": [
    "exp_fe.n_param_scan(scan_params, run_function_args, order, ntrials=1, plot=False)"
   ]
  },
  {
   "cell_type": "code",
   "execution_count": null,
   "metadata": {},
   "outputs": [],
   "source": []
  }
 ],
 "metadata": {
  "kernelspec": {
   "display_name": "Python 3",
   "language": "python",
   "name": "python3"
  },
  "language_info": {
   "codemirror_mode": {
    "name": "ipython",
    "version": 3
   },
   "file_extension": ".py",
   "mimetype": "text/x-python",
   "name": "python",
   "nbconvert_exporter": "python",
   "pygments_lexer": "ipython3",
   "version": "3.12.0"
  }
 },
 "nbformat": 4,
 "nbformat_minor": 2
}
