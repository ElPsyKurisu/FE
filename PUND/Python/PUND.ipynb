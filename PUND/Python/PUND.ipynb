{
 "cells": [
  {
   "cell_type": "code",
   "execution_count": 1,
   "metadata": {},
   "outputs": [
    {
     "name": "stdout",
     "output_type": "stream",
     "text": [
      "2\n"
     ]
    }
   ],
   "source": [
    "import matplotlib.pyplot as plt\n",
    "from ekpy import control\n",
    "from ekpy.control.instruments import keysight81150a, keysightdsox3024a\n",
    "from PUND import PUND\n",
    "import numpy as np\n",
    "import time\n",
    "from datetime import timedelta"
   ]
  },
  {
   "cell_type": "code",
   "execution_count": 2,
   "metadata": {},
   "outputs": [
    {
     "data": {
      "text/plain": [
       "('GPIB0::7::INSTR',\n",
       " 'GPIB0::8::INSTR',\n",
       " 'USB0::0x0957::0x17A6::MY63080078::0::INSTR')"
      ]
     },
     "execution_count": 2,
     "metadata": {},
     "output_type": "execute_result"
    }
   ],
   "source": [
    "rm = control.ResourceManager()\n",
    "rm.list_resources()"
   ]
  },
  {
   "cell_type": "code",
   "execution_count": 3,
   "metadata": {},
   "outputs": [],
   "source": [
    "scope = rm.open_resource('GPIB0::7::INSTR')\n",
    "wavegen = rm.open_resource('GPIB0::8::INSTR')"
   ]
  },
  {
   "cell_type": "code",
   "execution_count": 4,
   "metadata": {},
   "outputs": [
    {
     "data": {
      "text/plain": [
       "'AGILENT TECHNOLOGIES,DSO-X 3024A,MY63080078,02.65.2021030741\\n'"
      ]
     },
     "execution_count": 4,
     "metadata": {},
     "output_type": "execute_result"
    }
   ],
   "source": [
    "keysightdsox3024a.idn(scope)"
   ]
  },
  {
   "cell_type": "code",
   "execution_count": 5,
   "metadata": {},
   "outputs": [
    {
     "data": {
      "text/plain": [
       "'Agilent Technologies,81150A,MY53821602,3.0.0.0-4.6\\n'"
      ]
     },
     "execution_count": 5,
     "metadata": {},
     "output_type": "execute_result"
    }
   ],
   "source": [
    "keysight81150a.idn(wavegen)"
   ]
  },
  {
   "cell_type": "code",
   "execution_count": 6,
   "metadata": {},
   "outputs": [],
   "source": [
    "exp_fe = PUND(wavegen,scope)\n",
    "\n",
    "# specify run function (if desired)\n",
    "# options are: run_function aka i havent added a different one\n",
    "\n",
    "\n",
    "# config data path\n",
    "Data_folder_path = r\"C:\\Users\\geofr\\Desktop\\Research\\Data\\FE\\PUND\\Python\"\n",
    "exp_fe.config_path(Data_folder_path + '/BTO10')"
   ]
  },
  {
   "cell_type": "code",
   "execution_count": 9,
   "metadata": {},
   "outputs": [
    {
     "name": "stdout",
     "output_type": "stream",
     "text": [
      "['0.5', '1', '1.5', '2']\n"
     ]
    }
   ],
   "source": [
    "\n",
    "voltages = [] \n",
    "i=0.1 #note will give us 0 data which should be nothing lol\n",
    "while i < 2.01:\n",
    "    voltages.append(\"{}\".format(round(i, 2)))\n",
    "    i +=0.1\n",
    "voltages = ['0.5', '1', '1.5', '2']\n",
    "print(voltages)\n",
    "scan_params = {\n",
    "    'voltage_max':voltages\n",
    "}\n",
    "\n",
    "run_function_args = {\n",
    "    'wavegen':wavegen,\n",
    "    'scope':scope,\n",
    "    'pulse_width':'2e-6',\n",
    "    'pulse_delay':'2e-4',\n",
    "    'voltage_max':'2',\n",
    "    'num_points':'20',\n",
    "    'step_size':None,\n",
    "    'capacitor_area':'4e-8',\n",
    "    'thickness':'10e-9',\n",
    "    'permittivity':'30',\n",
    "}\n",
    "\n",
    "order = ['voltage_max',]"
   ]
  },
  {
   "cell_type": "code",
   "execution_count": 10,
   "metadata": {},
   "outputs": [
    {
     "name": "stdout",
     "output_type": "stream",
     "text": [
      "Scan 1 of 4. {'voltage_max': '0.5'}\n",
      "c:\\Users\\geofr\\Desktop\\Research\\Github\\FE\\PUND\\Python\n",
      "Scan 2 of 4. {'voltage_max': '1'}\n",
      "c:\\Users\\geofr\\Desktop\\Research\\Github\\FE\\PUND\\Python\n",
      "Scan 3 of 4. {'voltage_max': '1.5'}\n",
      "c:\\Users\\geofr\\Desktop\\Research\\Github\\FE\\PUND\\Python\n",
      "Scan 4 of 4. {'voltage_max': '2'}\n",
      "c:\\Users\\geofr\\Desktop\\Research\\Github\\FE\\PUND\\Python\n",
      "done.\n"
     ]
    },
    {
     "data": {
      "image/png": "[encoded data removed]",
      "text/plain": [
       "<Figure size 640x480 with 1 Axes>"
      ]
     },
     "metadata": {},
     "output_type": "display_data"
    }
   ],
   "source": [
    "exp_fe.n_param_scan(scan_params, run_function_args, order, ntrials=1, plot=False, use_analysis_file=True)"
   ]
  },
  {
   "cell_type": "code",
   "execution_count": null,
   "metadata": {},
   "outputs": [],
   "source": []
  }
 ],
 "metadata": {
  "kernelspec": {
   "display_name": "Python 3",
   "language": "python",
   "name": "python3"
  },
  "language_info": {
   "codemirror_mode": {
    "name": "ipython",
    "version": 3
   },
   "file_extension": ".py",
   "mimetype": "text/x-python",
   "name": "python",
   "nbconvert_exporter": "python",
   "pygments_lexer": "ipython3",
   "version": "3.12.0"
  }
 },
 "nbformat": 4,
 "nbformat_minor": 2
}
