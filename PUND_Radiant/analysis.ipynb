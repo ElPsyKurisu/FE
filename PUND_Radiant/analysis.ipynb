{
 "cells": [
  {
   "cell_type": "code",
   "execution_count": 1,
   "metadata": {},
   "outputs": [],
   "source": [
    "from ekpy import analysis\n",
    "import numpy as np\n",
    "import scipy.integrate as it\n",
    "from scipy.signal import find_peaks, savgol_filter, peak_widths\n",
    "import matplotlib.pyplot as plt\n",
    "import pandas as pd"
   ]
  },
  {
   "cell_type": "code",
   "execution_count": 18,
   "metadata": {},
   "outputs": [
    {
     "name": "stderr",
     "output_type": "stream",
     "text": [
      "C:\\Users\\geofr\\AppData\\Local\\Temp\\ipykernel_11068\\3186997117.py:1: ParserWarning: Falling back to the 'python' engine because the 'c' engine does not support skipfooter; you can avoid this warning by specifying engine='python'.\n",
      "  data = pd.read_csv(r\"C:\\Users\\geofr\\Desktop\\Research\\Ferroelectrics\\Test Sample Data BTO\\Jesse PUND 1ms with preset.txt\", skiprows=51, skipfooter=19, encoding='mbcs')\n"
     ]
    },
    {
     "data": {
      "text/html": [
       "<div>\n",
       "<style scoped>\n",
       "    .dataframe tbody tr th:only-of-type {\n",
       "        vertical-align: middle;\n",
       "    }\n",
       "\n",
       "    .dataframe tbody tr th {\n",
       "        vertical-align: top;\n",
       "    }\n",
       "\n",
       "    .dataframe thead th {\n",
       "        text-align: right;\n",
       "    }\n",
       "</style>\n",
       "<table border=\"1\" class=\"dataframe\">\n",
       "  <thead>\n",
       "    <tr style=\"text-align: right;\">\n",
       "      <th></th>\n",
       "      <th>Point</th>\n",
       "      <th>Time (ms)</th>\n",
       "      <th>Drive Voltage</th>\n",
       "      <th>Measured Polarization (µC/cm2)</th>\n",
       "      <th>Capacitance (µF)</th>\n",
       "      <th>Normalized Capacitance (µF/cm2)</th>\n",
       "      <th>Dielectric Constant</th>\n",
       "      <th>Instantaneous Current (mA)</th>\n",
       "    </tr>\n",
       "  </thead>\n",
       "  <tbody>\n",
       "    <tr>\n",
       "      <th>0</th>\n",
       "      <td>1</td>\n",
       "      <td>0.0000</td>\n",
       "      <td>-0.0205</td>\n",
       "      <td>-20.299144</td>\n",
       "      <td>17.623298</td>\n",
       "      <td>176232.980748</td>\n",
       "      <td>5.970935</td>\n",
       "      <td>-0.011579</td>\n",
       "    </tr>\n",
       "    <tr>\n",
       "      <th>1</th>\n",
       "      <td>2</td>\n",
       "      <td>0.0005</td>\n",
       "      <td>-0.0430</td>\n",
       "      <td>-20.357036</td>\n",
       "      <td>17.623298</td>\n",
       "      <td>176232.980748</td>\n",
       "      <td>5.970935</td>\n",
       "      <td>-0.011579</td>\n",
       "    </tr>\n",
       "    <tr>\n",
       "      <th>2</th>\n",
       "      <td>3</td>\n",
       "      <td>0.0010</td>\n",
       "      <td>-0.0636</td>\n",
       "      <td>-20.400561</td>\n",
       "      <td>13.249633</td>\n",
       "      <td>132496.328592</td>\n",
       "      <td>4.489097</td>\n",
       "      <td>-0.008705</td>\n",
       "    </tr>\n",
       "    <tr>\n",
       "      <th>3</th>\n",
       "      <td>4</td>\n",
       "      <td>0.0015</td>\n",
       "      <td>-0.0820</td>\n",
       "      <td>-20.437325</td>\n",
       "      <td>11.191437</td>\n",
       "      <td>111914.374636</td>\n",
       "      <td>3.791762</td>\n",
       "      <td>-0.007353</td>\n",
       "    </tr>\n",
       "    <tr>\n",
       "      <th>4</th>\n",
       "      <td>5</td>\n",
       "      <td>0.0020</td>\n",
       "      <td>-0.1031</td>\n",
       "      <td>-20.510853</td>\n",
       "      <td>22.382875</td>\n",
       "      <td>223828.749271</td>\n",
       "      <td>7.583523</td>\n",
       "      <td>-0.014706</td>\n",
       "    </tr>\n",
       "    <tr>\n",
       "      <th>...</th>\n",
       "      <td>...</td>\n",
       "      <td>...</td>\n",
       "      <td>...</td>\n",
       "      <td>...</td>\n",
       "      <td>...</td>\n",
       "      <td>...</td>\n",
       "      <td>...</td>\n",
       "      <td>...</td>\n",
       "    </tr>\n",
       "    <tr>\n",
       "      <th>9070</th>\n",
       "      <td>9071</td>\n",
       "      <td>4.5350</td>\n",
       "      <td>-0.1012</td>\n",
       "      <td>-22.946986</td>\n",
       "      <td>22.640149</td>\n",
       "      <td>226401.493516</td>\n",
       "      <td>7.670690</td>\n",
       "      <td>0.014875</td>\n",
       "    </tr>\n",
       "    <tr>\n",
       "      <th>9071</th>\n",
       "      <td>9072</td>\n",
       "      <td>4.5355</td>\n",
       "      <td>-0.0828</td>\n",
       "      <td>-22.876417</td>\n",
       "      <td>21.482414</td>\n",
       "      <td>214824.144416</td>\n",
       "      <td>7.278439</td>\n",
       "      <td>0.014114</td>\n",
       "    </tr>\n",
       "    <tr>\n",
       "      <th>9072</th>\n",
       "      <td>9073</td>\n",
       "      <td>4.5360</td>\n",
       "      <td>-0.0636</td>\n",
       "      <td>-22.794015</td>\n",
       "      <td>25.084256</td>\n",
       "      <td>250842.563839</td>\n",
       "      <td>8.498776</td>\n",
       "      <td>0.016480</td>\n",
       "    </tr>\n",
       "    <tr>\n",
       "      <th>9073</th>\n",
       "      <td>9074</td>\n",
       "      <td>4.5365</td>\n",
       "      <td>-0.0420</td>\n",
       "      <td>-22.698091</td>\n",
       "      <td>29.200647</td>\n",
       "      <td>292006.471751</td>\n",
       "      <td>9.893447</td>\n",
       "      <td>0.019185</td>\n",
       "    </tr>\n",
       "    <tr>\n",
       "      <th>9074</th>\n",
       "      <td>9075</td>\n",
       "      <td>4.5370</td>\n",
       "      <td>-0.0242</td>\n",
       "      <td>-22.584419</td>\n",
       "      <td>29.200647</td>\n",
       "      <td>292006.471751</td>\n",
       "      <td>9.893447</td>\n",
       "      <td>0.022734</td>\n",
       "    </tr>\n",
       "  </tbody>\n",
       "</table>\n",
       "<p>9075 rows × 8 columns</p>\n",
       "</div>"
      ],
      "text/plain": [
       "      Point  Time (ms)  Drive Voltage  Measured Polarization (µC/cm2)  \\\n",
       "0         1     0.0000        -0.0205                      -20.299144   \n",
       "1         2     0.0005        -0.0430                      -20.357036   \n",
       "2         3     0.0010        -0.0636                      -20.400561   \n",
       "3         4     0.0015        -0.0820                      -20.437325   \n",
       "4         5     0.0020        -0.1031                      -20.510853   \n",
       "...     ...        ...            ...                             ...   \n",
       "9070   9071     4.5350        -0.1012                      -22.946986   \n",
       "9071   9072     4.5355        -0.0828                      -22.876417   \n",
       "9072   9073     4.5360        -0.0636                      -22.794015   \n",
       "9073   9074     4.5365        -0.0420                      -22.698091   \n",
       "9074   9075     4.5370        -0.0242                      -22.584419   \n",
       "\n",
       "      Capacitance (µF)  Normalized Capacitance (µF/cm2)  Dielectric Constant  \\\n",
       "0            17.623298                    176232.980748             5.970935   \n",
       "1            17.623298                    176232.980748             5.970935   \n",
       "2            13.249633                    132496.328592             4.489097   \n",
       "3            11.191437                    111914.374636             3.791762   \n",
       "4            22.382875                    223828.749271             7.583523   \n",
       "...                ...                              ...                  ...   \n",
       "9070         22.640149                    226401.493516             7.670690   \n",
       "9071         21.482414                    214824.144416             7.278439   \n",
       "9072         25.084256                    250842.563839             8.498776   \n",
       "9073         29.200647                    292006.471751             9.893447   \n",
       "9074         29.200647                    292006.471751             9.893447   \n",
       "\n",
       "      Instantaneous Current (mA)  \n",
       "0                      -0.011579  \n",
       "1                      -0.011579  \n",
       "2                      -0.008705  \n",
       "3                      -0.007353  \n",
       "4                      -0.014706  \n",
       "...                          ...  \n",
       "9070                    0.014875  \n",
       "9071                    0.014114  \n",
       "9072                    0.016480  \n",
       "9073                    0.019185  \n",
       "9074                    0.022734  \n",
       "\n",
       "[9075 rows x 8 columns]"
      ]
     },
     "execution_count": 18,
     "metadata": {},
     "output_type": "execute_result"
    }
   ],
   "source": [
    "data = pd.read_csv(r\"C:\\Users\\geofr\\Desktop\\Research\\Ferroelectrics\\Test Sample Data BTO\\Jesse PUND 1ms with preset.txt\", skiprows=51, skipfooter=19, encoding='mbcs')\n",
    "data"
   ]
  },
  {
   "cell_type": "code",
   "execution_count": 21,
   "metadata": {},
   "outputs": [],
   "source": [
    "voltage_arr = data['Drive Voltage']\n",
    "polaraization_arr = data['Measured Polarization (µC/cm2)']\n",
    "time_arr = data['Time (ms)']"
   ]
  },
  {
   "cell_type": "code",
   "execution_count": 22,
   "metadata": {},
   "outputs": [
    {
     "data": {
      "text/plain": [
       "[<matplotlib.lines.Line2D at 0x2609cd26db0>]"
      ]
     },
     "execution_count": 22,
     "metadata": {},
     "output_type": "execute_result"
    },
    {
     "data": {
      "image/png": "[encoded data removed]",
      "text/plain": [
       "<Figure size 640x480 with 1 Axes>"
      ]
     },
     "metadata": {},
     "output_type": "display_data"
    }
   ],
   "source": [
    "plt.plot(time_arr, voltage_arr)"
   ]
  },
  {
   "cell_type": "code",
   "execution_count": 20,
   "metadata": {},
   "outputs": [
    {
     "data": {
      "text/plain": [
       "[<matplotlib.lines.Line2D at 0x2609cd12e40>]"
      ]
     },
     "execution_count": 20,
     "metadata": {},
     "output_type": "execute_result"
    },
    {
     "data": {
      "image/png": "[encoded data removed]",
      "text/plain": [
       "<Figure size 640x480 with 1 Axes>"
      ]
     },
     "metadata": {},
     "output_type": "display_data"
    }
   ],
   "source": [
    "plt.plot(voltage_arr, polaraization_arr)"
   ]
  },
  {
   "cell_type": "code",
   "execution_count": null,
   "metadata": {},
   "outputs": [],
   "source": []
  }
 ],
 "metadata": {
  "kernelspec": {
   "display_name": "Python 3",
   "language": "python",
   "name": "python3"
  },
  "language_info": {
   "codemirror_mode": {
    "name": "ipython",
    "version": 3
   },
   "file_extension": ".py",
   "mimetype": "text/x-python",
   "name": "python",
   "nbconvert_exporter": "python",
   "pygments_lexer": "ipython3",
   "version": "3.12.0"
  }
 },
 "nbformat": 4,
 "nbformat_minor": 2
}
