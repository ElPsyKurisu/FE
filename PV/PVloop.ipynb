{
 "cells": [
  {
   "cell_type": "code",
   "execution_count": 1,
   "metadata": {},
   "outputs": [
    {
     "name": "stdout",
     "output_type": "stream",
     "text": [
      "2\n"
     ]
    }
   ],
   "source": [
    "import matplotlib.pyplot as plt\n",
    "from ekpy import control\n",
    "from ekpy.control.instruments import keysight81150a, keysightdsox3024a\n",
    "from PVloop import FEHysteresis\n",
    "import numpy as np\n",
    "import time\n",
    "from datetime import timedelta"
   ]
  },
  {
   "cell_type": "code",
   "execution_count": 2,
   "metadata": {},
   "outputs": [
    {
     "data": {
      "text/plain": [
       "('GPIB0::7::INSTR',\n",
       " 'GPIB0::8::INSTR',\n",
       " 'USB0::0x0957::0x17A6::MY63080078::0::INSTR')"
      ]
     },
     "execution_count": 2,
     "metadata": {},
     "output_type": "execute_result"
    }
   ],
   "source": [
    "rm = control.ResourceManager()\n",
    "rm.list_resources()"
   ]
  },
  {
   "cell_type": "code",
   "execution_count": 3,
   "metadata": {},
   "outputs": [],
   "source": [
    "scope = rm.open_resource('GPIB0::7::INSTR')\n",
    "wavegen = rm.open_resource('GPIB0::8::INSTR')"
   ]
  },
  {
   "cell_type": "code",
   "execution_count": 4,
   "metadata": {},
   "outputs": [
    {
     "data": {
      "text/plain": [
       "'AGILENT TECHNOLOGIES,DSO-X 3024A,MY63080078,02.65.2021030741\\n'"
      ]
     },
     "execution_count": 4,
     "metadata": {},
     "output_type": "execute_result"
    }
   ],
   "source": [
    "keysightdsox3024a.idn(scope)"
   ]
  },
  {
   "cell_type": "code",
   "execution_count": 5,
   "metadata": {},
   "outputs": [
    {
     "data": {
      "text/plain": [
       "'Agilent Technologies,81150A,MY53821602,3.0.0.0-4.6\\n'"
      ]
     },
     "execution_count": 5,
     "metadata": {},
     "output_type": "execute_result"
    }
   ],
   "source": [
    "keysight81150a.idn(wavegen)"
   ]
  },
  {
   "cell_type": "code",
   "execution_count": 1,
   "metadata": {},
   "outputs": [],
   "source": [
    "def wakeup_sherry_old(wavegen, channel='1', num_cycles='1e8', voltage='4', pulse_width='0.5e-6'):\n",
    "    \"\"\"\n",
    "    This program will make a bipolar pulse and then configure it accordingly\n",
    "    wavegen (pyvisa.resources.gpib.GPIBInstrument): Keysight 81150a\n",
    "    channel (str): channel to output too ['1', '2']\n",
    "\n",
    "    \"\"\"\n",
    "    basic_bipolar_pulse = [1,1,-1,-1] #basic pulse train\n",
    "    keysight81150a.create_arb_wf(wavegen, basic_bipolar_pulse)\n",
    "    frequency = 1/(2*float(pulse_width))\n",
    "    keysight81150a.configure_arb_wf(wavegen, channel, freq=frequency, gain=voltage)\n",
    "    keysight81150a.enable_output(wavegen, channel)\n",
    "    total_wait_time = int(float(num_cycles)*(2* float(pulse_width)))\n",
    "    time.sleep(total_wait_time)\n",
    "    #time.sleep(10)\n",
    "    keysight81150a.enable_output(wavegen, channel, False)"
   ]
  },
  {
   "cell_type": "code",
   "execution_count": 53,
   "metadata": {},
   "outputs": [],
   "source": [
    "def wakeup_sherry(wavegen, channel='2', num_cycles='1e8', voltage='2', pulse_width='2e-6'):\n",
    "    \"\"\"\n",
    "    This program will make a bipolar pulse and then configure it accordingly\n",
    "    wavegen (pyvisa.resources.gpib.GPIBInstrument): Keysight 81150a\n",
    "    channel (str): channel to output too ['1', '2']\n",
    "    \n",
    "    notes: do not need an offset by default half is positive half is negative. Also Voltage is measured from 0 to a peak\n",
    "    not peak-to-peak even though the instrument panel says it is... Make sure to change cabling\n",
    "    \"\"\"\n",
    "    frequency = 1/(2*float(pulse_width))\n",
    "    keysight81150a.initialize(wavegen)\n",
    "    keysight81150a.set_output_wf(wavegen, channel, 'squ', frequency, voltage)\n",
    "    total_wait_time = int(float(num_cycles)*(2* float(pulse_width)))\n",
    "    td_str = str(timedelta(seconds=total_wait_time))\n",
    "    print(\"Estimated total wait time is: {}\".format(td_str))\n",
    "    print(\"Check cabling is good to go for wakeup\")\n",
    "    #check for user input if itme is ok\n",
    "    affirmative = input(\"Print y if the allotted time is correct\")\n",
    "    if affirmative == 'y':\n",
    "        keysight81150a.enable_output(wavegen, channel)\n",
    "        time.sleep(total_wait_time)\n",
    "        keysight81150a.enable_output(wavegen, channel, False)\n",
    "        print(\"Make sure to check cabling is correct now\")"
   ]
  },
  {
   "cell_type": "code",
   "execution_count": 54,
   "metadata": {},
   "outputs": [
    {
     "name": "stdout",
     "output_type": "stream",
     "text": [
      "Estimated total wait time is: 0:06:40\n",
      "Check cabling is good to go for wakeup\n",
      "Make sure to check cabling is correct now\n"
     ]
    }
   ],
   "source": [
    "wakeup_sherry(wavegen)"
   ]
  },
  {
   "cell_type": "code",
   "execution_count": 11,
   "metadata": {},
   "outputs": [],
   "source": [
    "keysight81150a.enable_output(wavegen, '2', False)"
   ]
  },
  {
   "cell_type": "code",
   "execution_count": 55,
   "metadata": {},
   "outputs": [],
   "source": [
    "exp_fe = FEHysteresis(wavegen,scope)\n",
    "\n",
    "# specify run function (if desired)\n",
    "# options are: run_function aka i havent added a different one\n",
    "\n",
    "\n",
    "# config data path\n",
    "exp_fe.config_path('./Data/Sherry Devices (JJ)/JJ_HZO_600_D1')"
   ]
  },
  {
   "cell_type": "code",
   "execution_count": 56,
   "metadata": {},
   "outputs": [],
   "source": [
    "voltages = ['2'] \n",
    "scan_params = {\n",
    "    'voltage':voltages\n",
    "}\n",
    "\n",
    "run_function_args = {\n",
    "    'wavegen':wavegen,\n",
    "    'scope':scope,\n",
    "    'initial_delay':'5e-5',\n",
    "    'pulse_delay':'5e-6',\n",
    "    'freq': '10',\n",
    "    'voltage':'2',\n",
    "    'capacitor_area':'4e-8',\n",
    "    'thickness':'10e-9',\n",
    "    'permittivity':'30',\n",
    "\t'amplification':'8',\n",
    "}\n",
    "\n",
    "order = ['voltage',]"
   ]
  },
  {
   "cell_type": "code",
   "execution_count": 57,
   "metadata": {},
   "outputs": [
    {
     "name": "stdout",
     "output_type": "stream",
     "text": [
      "done.\n"
     ]
    },
    {
     "data": {
      "image/png": "[encoded data removed]",
      "text/plain": [
       "<Figure size 640x480 with 1 Axes>"
      ]
     },
     "metadata": {},
     "output_type": "display_data"
    }
   ],
   "source": [
    "exp_fe.n_param_scan(scan_params, run_function_args, order, ntrials=1, plot=False)"
   ]
  },
  {
   "cell_type": "code",
   "execution_count": null,
   "metadata": {},
   "outputs": [],
   "source": []
  }
 ],
 "metadata": {
  "kernelspec": {
   "display_name": "Python 3",
   "language": "python",
   "name": "python3"
  },
  "language_info": {
   "codemirror_mode": {
    "name": "ipython",
    "version": 3
   },
   "file_extension": ".py",
   "mimetype": "text/x-python",
   "name": "python",
   "nbconvert_exporter": "python",
   "pygments_lexer": "ipython3",
   "version": "3.12.0"
  }
 },
 "nbformat": 4,
 "nbformat_minor": 2
}
