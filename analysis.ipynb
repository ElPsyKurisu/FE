{
 "cells": [
  {
   "cell_type": "code",
   "execution_count": 1,
   "metadata": {},
   "outputs": [],
   "source": [
    "from ekpy import analysis\n",
    "import numpy as np\n",
    "import scipy.integrate as it\n",
    "from scipy.signal import find_peaks, savgol_filter, peak_widths\n",
    "import matplotlib.pyplot as plt"
   ]
  },
  {
   "cell_type": "code",
   "execution_count": 2,
   "metadata": {},
   "outputs": [
    {
     "data": {
      "text/html": [
       "<div>\n",
       "<style scoped>\n",
       "    .dataframe tbody tr th:only-of-type {\n",
       "        vertical-align: middle;\n",
       "    }\n",
       "\n",
       "    .dataframe tbody tr th {\n",
       "        vertical-align: top;\n",
       "    }\n",
       "\n",
       "    .dataframe thead th {\n",
       "        text-align: right;\n",
       "    }\n",
       "</style>\n",
       "<table border=\"1\" class=\"dataframe\">\n",
       "  <thead>\n",
       "    <tr style=\"text-align: right;\">\n",
       "      <th></th>\n",
       "      <th>initial_delay</th>\n",
       "      <th>pulse_delay</th>\n",
       "      <th>freq</th>\n",
       "      <th>voltage</th>\n",
       "      <th>capacitor_area</th>\n",
       "      <th>thickness</th>\n",
       "      <th>permittivity</th>\n",
       "      <th>amplification</th>\n",
       "      <th>format</th>\n",
       "      <th>type</th>\n",
       "      <th>points</th>\n",
       "      <th>count</th>\n",
       "      <th>x_increment</th>\n",
       "      <th>x_origin</th>\n",
       "      <th>x_reference</th>\n",
       "      <th>y_increment</th>\n",
       "      <th>y_origin</th>\n",
       "      <th>y_reference</th>\n",
       "      <th>trial</th>\n",
       "      <th>filename</th>\n",
       "    </tr>\n",
       "  </thead>\n",
       "  <tbody>\n",
       "    <tr>\n",
       "      <th>0</th>\n",
       "      <td>0.00005</td>\n",
       "      <td>0.000005</td>\n",
       "      <td>10</td>\n",
       "      <td>1</td>\n",
       "      <td>4.000000e-08</td>\n",
       "      <td>1.000000e-08</td>\n",
       "      <td>30</td>\n",
       "      <td>8</td>\n",
       "      <td>0</td>\n",
       "      <td>0</td>\n",
       "      <td>995</td>\n",
       "      <td>1</td>\n",
       "      <td>4.720000e-07</td>\n",
       "      <td>2.710505e-20</td>\n",
       "      <td>0</td>\n",
       "      <td>0.01005</td>\n",
       "      <td>0.0</td>\n",
       "      <td>0</td>\n",
       "      <td>0</td>\n",
       "      <td>fe_pv__0.csv</td>\n",
       "    </tr>\n",
       "    <tr>\n",
       "      <th>1</th>\n",
       "      <td>0.00005</td>\n",
       "      <td>0.000005</td>\n",
       "      <td>10</td>\n",
       "      <td>1</td>\n",
       "      <td>4.000000e-08</td>\n",
       "      <td>1.000000e-08</td>\n",
       "      <td>30</td>\n",
       "      <td>8</td>\n",
       "      <td>0</td>\n",
       "      <td>0</td>\n",
       "      <td>995</td>\n",
       "      <td>1</td>\n",
       "      <td>4.720000e-07</td>\n",
       "      <td>2.710505e-20</td>\n",
       "      <td>0</td>\n",
       "      <td>0.01005</td>\n",
       "      <td>0.0</td>\n",
       "      <td>0</td>\n",
       "      <td>0</td>\n",
       "      <td>fe_pv__1.csv</td>\n",
       "    </tr>\n",
       "    <tr>\n",
       "      <th>2</th>\n",
       "      <td>0.00005</td>\n",
       "      <td>0.000005</td>\n",
       "      <td>10</td>\n",
       "      <td>1</td>\n",
       "      <td>4.000000e-08</td>\n",
       "      <td>1.000000e-08</td>\n",
       "      <td>30</td>\n",
       "      <td>8</td>\n",
       "      <td>0</td>\n",
       "      <td>0</td>\n",
       "      <td>995</td>\n",
       "      <td>1</td>\n",
       "      <td>4.720000e-07</td>\n",
       "      <td>2.710505e-20</td>\n",
       "      <td>0</td>\n",
       "      <td>0.01005</td>\n",
       "      <td>0.0</td>\n",
       "      <td>0</td>\n",
       "      <td>0</td>\n",
       "      <td>fe_pv__2.csv</td>\n",
       "    </tr>\n",
       "    <tr>\n",
       "      <th>3</th>\n",
       "      <td>0.00005</td>\n",
       "      <td>0.000005</td>\n",
       "      <td>10</td>\n",
       "      <td>1</td>\n",
       "      <td>4.000000e-08</td>\n",
       "      <td>1.000000e-08</td>\n",
       "      <td>30</td>\n",
       "      <td>8</td>\n",
       "      <td>0</td>\n",
       "      <td>0</td>\n",
       "      <td>995</td>\n",
       "      <td>1</td>\n",
       "      <td>4.720000e-07</td>\n",
       "      <td>2.710505e-20</td>\n",
       "      <td>0</td>\n",
       "      <td>0.01005</td>\n",
       "      <td>0.0</td>\n",
       "      <td>0</td>\n",
       "      <td>0</td>\n",
       "      <td>fe_pv__3.csv</td>\n",
       "    </tr>\n",
       "    <tr>\n",
       "      <th>4</th>\n",
       "      <td>0.00005</td>\n",
       "      <td>0.000005</td>\n",
       "      <td>10</td>\n",
       "      <td>1</td>\n",
       "      <td>4.000000e-08</td>\n",
       "      <td>1.000000e-08</td>\n",
       "      <td>30</td>\n",
       "      <td>8</td>\n",
       "      <td>0</td>\n",
       "      <td>0</td>\n",
       "      <td>995</td>\n",
       "      <td>1</td>\n",
       "      <td>4.720000e-07</td>\n",
       "      <td>2.710505e-20</td>\n",
       "      <td>0</td>\n",
       "      <td>0.01005</td>\n",
       "      <td>0.0</td>\n",
       "      <td>0</td>\n",
       "      <td>0</td>\n",
       "      <td>fe_pv__4.csv</td>\n",
       "    </tr>\n",
       "    <tr>\n",
       "      <th>5</th>\n",
       "      <td>0.00005</td>\n",
       "      <td>0.000005</td>\n",
       "      <td>10</td>\n",
       "      <td>1</td>\n",
       "      <td>4.000000e-08</td>\n",
       "      <td>1.000000e-08</td>\n",
       "      <td>30</td>\n",
       "      <td>8</td>\n",
       "      <td>0</td>\n",
       "      <td>0</td>\n",
       "      <td>995</td>\n",
       "      <td>1</td>\n",
       "      <td>4.720000e-07</td>\n",
       "      <td>2.710505e-20</td>\n",
       "      <td>0</td>\n",
       "      <td>0.01005</td>\n",
       "      <td>0.0</td>\n",
       "      <td>0</td>\n",
       "      <td>0</td>\n",
       "      <td>fe_pv__5.csv</td>\n",
       "    </tr>\n",
       "  </tbody>\n",
       "</table>\n",
       "</div>"
      ],
      "text/plain": [
       "   initial_delay  pulse_delay  freq  voltage  capacitor_area     thickness  \\\n",
       "0        0.00005     0.000005    10        1    4.000000e-08  1.000000e-08   \n",
       "1        0.00005     0.000005    10        1    4.000000e-08  1.000000e-08   \n",
       "2        0.00005     0.000005    10        1    4.000000e-08  1.000000e-08   \n",
       "3        0.00005     0.000005    10        1    4.000000e-08  1.000000e-08   \n",
       "4        0.00005     0.000005    10        1    4.000000e-08  1.000000e-08   \n",
       "5        0.00005     0.000005    10        1    4.000000e-08  1.000000e-08   \n",
       "\n",
       "   permittivity  amplification  format  type  points  count   x_increment  \\\n",
       "0            30              8       0     0     995      1  4.720000e-07   \n",
       "1            30              8       0     0     995      1  4.720000e-07   \n",
       "2            30              8       0     0     995      1  4.720000e-07   \n",
       "3            30              8       0     0     995      1  4.720000e-07   \n",
       "4            30              8       0     0     995      1  4.720000e-07   \n",
       "5            30              8       0     0     995      1  4.720000e-07   \n",
       "\n",
       "       x_origin  x_reference  y_increment  y_origin  y_reference  trial  \\\n",
       "0  2.710505e-20            0      0.01005       0.0            0      0   \n",
       "1  2.710505e-20            0      0.01005       0.0            0      0   \n",
       "2  2.710505e-20            0      0.01005       0.0            0      0   \n",
       "3  2.710505e-20            0      0.01005       0.0            0      0   \n",
       "4  2.710505e-20            0      0.01005       0.0            0      0   \n",
       "5  2.710505e-20            0      0.01005       0.0            0      0   \n",
       "\n",
       "       filename  \n",
       "0  fe_pv__0.csv  \n",
       "1  fe_pv__1.csv  \n",
       "2  fe_pv__2.csv  \n",
       "3  fe_pv__3.csv  \n",
       "4  fe_pv__4.csv  \n",
       "5  fe_pv__5.csv  "
      ]
     },
     "execution_count": 2,
     "metadata": {},
     "output_type": "execute_result"
    }
   ],
   "source": [
    "# load the dataset\n",
    "dset = analysis.load_Dataset('./newsampleworksradiant')\n",
    "\n",
    "# print dset, parsable collection of meta data which holds pointers to the real data files\n",
    "dset"
   ]
  },
  {
   "cell_type": "code",
   "execution_count": null,
   "metadata": {},
   "outputs": [],
   "source": [
    "data = dset.get_data()"
   ]
  },
  {
   "cell_type": "code",
   "execution_count": null,
   "metadata": {},
   "outputs": [],
   "source": [
    "type(data)"
   ]
  },
  {
   "cell_type": "code",
   "execution_count": null,
   "metadata": {},
   "outputs": [],
   "source": [
    "data2 = dset.query(\"voltage == 1\").get_data()"
   ]
  },
  {
   "cell_type": "code",
   "execution_count": 3,
   "metadata": {},
   "outputs": [],
   "source": [
    "data2 = dset.select_index(0).get_data()"
   ]
  },
  {
   "cell_type": "code",
   "execution_count": 4,
   "metadata": {},
   "outputs": [
    {
     "data": {
      "text/plain": [
       "{'initial_delay': {5e-05},\n",
       " 'pulse_delay': {5e-06},\n",
       " 'freq': {10},\n",
       " 'voltage': {1},\n",
       " 'capacitor_area': {4e-08},\n",
       " 'thickness': {1e-08},\n",
       " 'permittivity': {30},\n",
       " 'amplification': {8},\n",
       " 'format': {0},\n",
       " 'type': {0},\n",
       " 'points': {995},\n",
       " 'count': {1},\n",
       " 'x_increment': {4.72e-07},\n",
       " 'x_origin': {2.71050543e-20},\n",
       " 'x_reference': {0},\n",
       " 'y_increment': {0.01005025},\n",
       " 'y_origin': {0.0},\n",
       " 'y_reference': {0},\n",
       " 'trial': {0}}"
      ]
     },
     "execution_count": 4,
     "metadata": {},
     "output_type": "execute_result"
    }
   ],
   "source": [
    "data2.summary"
   ]
  },
  {
   "cell_type": "code",
   "execution_count": 5,
   "metadata": {},
   "outputs": [
    {
     "data": {
      "text/plain": [
       "['time_v', 'wfm_v', 'time_c', 'wfm_c']"
      ]
     },
     "execution_count": 5,
     "metadata": {},
     "output_type": "execute_result"
    }
   ],
   "source": [
    "data2.data_keys"
   ]
  },
  {
   "cell_type": "code",
   "execution_count": null,
   "metadata": {},
   "outputs": [],
   "source": [
    "data2.plot(x='time_v', y='wfm_v')"
   ]
  },
  {
   "cell_type": "code",
   "execution_count": null,
   "metadata": {},
   "outputs": [],
   "source": [
    "data2.plot(x='time_c', y='wfm_c')"
   ]
  },
  {
   "cell_type": "markdown",
   "metadata": {},
   "source": [
    "use data.definition (no parenthesis) to get all the meta data associated with the exp for all trials in the dset"
   ]
  },
  {
   "cell_type": "markdown",
   "metadata": {},
   "source": [
    "We may need to normalize the data for the wfm c to 0, aka shift it correspondingly. not sure why since it should be doing that but I will have to think about it"
   ]
  },
  {
   "cell_type": "code",
   "execution_count": null,
   "metadata": {},
   "outputs": [],
   "source": [
    "type(data2) #this is already a numpy array lets fucking gooo"
   ]
  },
  {
   "cell_type": "code",
   "execution_count": null,
   "metadata": {},
   "outputs": [],
   "source": [
    "data['time_v']"
   ]
  },
  {
   "cell_type": "code",
   "execution_count": null,
   "metadata": {},
   "outputs": [],
   "source": [
    "data.iloc[0].plot(x='time_v', y='wfm_v')"
   ]
  },
  {
   "cell_type": "code",
   "execution_count": null,
   "metadata": {},
   "outputs": [],
   "source": [
    "data.plot()"
   ]
  },
  {
   "cell_type": "code",
   "execution_count": null,
   "metadata": {},
   "outputs": [],
   "source": [
    "def generate_q_wfm(data_dict) -> 'dict':\n",
    "    wfm_q = it.cumulative_trapezoid(data_dict['wfm_c'], data_dict['time_c'], initial=0) \n",
    "    data_dict['wfm_q'] = wfm_q\n",
    "    return data_dict"
   ]
  },
  {
   "cell_type": "code",
   "execution_count": null,
   "metadata": {},
   "outputs": [],
   "source": [
    "def generate_q_wfm_wrong(data_dict) -> 'dict':\n",
    "    wfm_q = it.cumulative_trapezoid(data_dict['wfm_v'], data_dict['time_v'], initial=0) \n",
    "    data_dict['wfm_q_wrong'] = wfm_q\n",
    "    return data_dict"
   ]
  },
  {
   "cell_type": "code",
   "execution_count": null,
   "metadata": {},
   "outputs": [],
   "source": [
    "def drift_correct_q(data_dict)-> 'dict':\n",
    "    slope = (data_dict['wfm_q'][-1] - data_dict['wfm_q'][0])/(data_dict['time_c'][-1] - data_dict['time_c'][0])\n",
    "    wfm_q_drift_corrected = []\n",
    "    for i in range(len(data_dict['wfm_q'])):\n",
    "        wfm_q_drift_corrected.append(data_dict['wfm_q'][i]-(slope*data_dict['time_c'][i]))\n",
    "    data_dict['wfm_q'] = wfm_q_drift_corrected\n",
    "    return data_dict\n"
   ]
  },
  {
   "cell_type": "code",
   "execution_count": null,
   "metadata": {},
   "outputs": [],
   "source": [
    "newwwwww = data2.apply(generate_q_wfm)"
   ]
  },
  {
   "cell_type": "code",
   "execution_count": null,
   "metadata": {},
   "outputs": [],
   "source": [
    "newwwwww.plot(x='time_c', y='wfm_q') #IT WORKS!!"
   ]
  },
  {
   "cell_type": "code",
   "execution_count": null,
   "metadata": {},
   "outputs": [],
   "source": [
    "newwwwww2 = newwwwww.apply(drift_correct_q)"
   ]
  },
  {
   "cell_type": "code",
   "execution_count": null,
   "metadata": {},
   "outputs": [],
   "source": [
    "newwwwww2.plot(x='time_c', y='wfm_q')"
   ]
  },
  {
   "cell_type": "code",
   "execution_count": null,
   "metadata": {},
   "outputs": [],
   "source": [
    "wrong = data2.apply(generate_q_wfm_wrong)"
   ]
  },
  {
   "cell_type": "code",
   "execution_count": null,
   "metadata": {},
   "outputs": [],
   "source": [
    "wrong.plot(x='time_v', y='wfm_q_wrong')"
   ]
  },
  {
   "cell_type": "markdown",
   "metadata": {},
   "source": [
    "Now we need to convert this to polarization plot vs voltage. We are using the derivative of the waveform to essentially find out when the wavefoprm starts and ends\n",
    "1. First take derivative of wfm\n",
    "2. Then find points where it starts"
   ]
  },
  {
   "cell_type": "code",
   "execution_count": null,
   "metadata": {},
   "outputs": [],
   "source": [
    "def derivative(data_dict)->'dict':\n",
    "    wfm_int = np.gradient(data_dict['wfm_v'], data_dict['time_v'])\n",
    "    #add smoothing?\n",
    "    wfm_int_smooth = savgol_filter(wfm_int, 51, 3)\n",
    "    #normalize values to 1\n",
    "    wfm_int_smooth_norm =  2 * ((wfm_int_smooth - np.min(wfm_int_smooth)) / (np.max(wfm_int_smooth) - np.min(wfm_int_smooth))) - 1\n",
    "    data_dict['wfm_int'] = wfm_int_smooth_norm\n",
    "    return data_dict"
   ]
  },
  {
   "cell_type": "code",
   "execution_count": null,
   "metadata": {},
   "outputs": [],
   "source": [
    "wrong2 = wrong.apply(derivative) #bruh why did i call it wfm_int its not an integral lmfaooo, wrong 2 is useless in the grandscheme of things"
   ]
  },
  {
   "cell_type": "code",
   "execution_count": null,
   "metadata": {},
   "outputs": [],
   "source": []
  },
  {
   "cell_type": "code",
   "execution_count": null,
   "metadata": {},
   "outputs": [],
   "source": [
    "wrong2.plot(x='time_v', y='wfm_int')"
   ]
  },
  {
   "cell_type": "markdown",
   "metadata": {},
   "source": [
    "MAKE A FUNCTION CALLED VISUALIZE ANALYSIS THAT DOES EACH STEP OF THE PROCESS AND PLOTS SEQUENTIALLY WITH APPROPIATE CAPTIONS (TITLES)"
   ]
  },
  {
   "cell_type": "markdown",
   "metadata": {},
   "source": [
    "NEW METHOD, USE FINDPEAKS AND FINDTROUGHS (FIND PEAKS OF INVERTED DATASET) AND THAT IS EQUAL TO HALF OF THE TOTAL PULSE LENGTH AND JUST USE THAT TO FIND THE START AND END!"
   ]
  },
  {
   "cell_type": "code",
   "execution_count": null,
   "metadata": {},
   "outputs": [],
   "source": [
    "def find_peaks_troughs_index(data_dict)->'dict':\n",
    "    arr = data_dict['wfm_v']\n",
    "    arr_normalized = 2 * ((arr - np.min(arr)) / (np.max(arr) - np.min(arr))) - 1\n",
    "    peaks, _ = find_peaks(arr_normalized, height=0.8)\n",
    "    troughs, _ = find_peaks(-1*arr_normalized, height=0.8)\n",
    "    all_peaks = np.concatenate((peaks, troughs), axis=0)\n",
    "    #results_full = peak_widths(arr_normalized, peaks, rel_height=1)\n",
    "    #data_dict['results_full'] = results_full\n",
    "    data_dict['peaks'] = np.sort(all_peaks)\n",
    "    return data_dict\n",
    "    "
   ]
  },
  {
   "cell_type": "code",
   "execution_count": null,
   "metadata": {},
   "outputs": [],
   "source": [
    "wrong3 = wrong2.apply(find_peaks_troughs_index)"
   ]
  },
  {
   "cell_type": "code",
   "execution_count": null,
   "metadata": {},
   "outputs": [],
   "source": [
    "#changing this here\n",
    "wrong3 = newwwwww2.apply(find_peaks_troughs_index)"
   ]
  },
  {
   "cell_type": "code",
   "execution_count": null,
   "metadata": {},
   "outputs": [],
   "source": [
    "wrong3['peaks']"
   ]
  },
  {
   "cell_type": "code",
   "execution_count": null,
   "metadata": {},
   "outputs": [],
   "source": [
    "wrong3.plot(x='time_v', y='wfm_v')"
   ]
  },
  {
   "cell_type": "code",
   "execution_count": null,
   "metadata": {},
   "outputs": [],
   "source": [
    "def start_and_end_pulse(data_dict)->'dict':\n",
    "    x = data_dict['peaks']\n",
    "    counter = 0\n",
    "    green_points = []\n",
    "    while counter <(len(x)):\n",
    "        half_pulse_len = x[counter+1] - x[counter]\n",
    "        quarter_pulse_len = half_pulse_len/2\n",
    "        start_of_pulse = x[counter] - quarter_pulse_len\n",
    "        end_of_pulse = x[counter+1] + quarter_pulse_len\n",
    "        green_points.append(int(start_of_pulse))\n",
    "        green_points.append(int(end_of_pulse))\n",
    "        counter +=2\n",
    "    data_dict['start_and_end_pulse'] = green_points\n",
    "    return data_dict\n",
    "    "
   ]
  },
  {
   "cell_type": "code",
   "execution_count": null,
   "metadata": {},
   "outputs": [],
   "source": [
    "wrong4 = wrong3.apply(start_and_end_pulse)"
   ]
  },
  {
   "cell_type": "code",
   "execution_count": null,
   "metadata": {},
   "outputs": [],
   "source": [
    "wrong4['start_and_end_pulse']"
   ]
  },
  {
   "cell_type": "code",
   "execution_count": null,
   "metadata": {},
   "outputs": [],
   "source": [
    "wrong4.data_keys"
   ]
  },
  {
   "cell_type": "code",
   "execution_count": null,
   "metadata": {},
   "outputs": [],
   "source": [
    "x = wrong3['peaks']\n",
    "print(x)\n",
    "green_points = []\n",
    "counter = 0\n",
    "while counter <(len(x)):\n",
    "    half_pulse_len = x[counter+1] - x[counter]\n",
    "    quarter_pulse_len = half_pulse_len/2\n",
    "    start_of_pulse = x[counter] - quarter_pulse_len\n",
    "    end_of_pulse = x[counter+1] + quarter_pulse_len\n",
    "    green_points.append(int(start_of_pulse))\n",
    "    green_points.append(int(end_of_pulse))\n",
    "    counter +=2\n",
    "print(green_points)\n",
    "#witdthss = wrong3['results_full']\n",
    "#widthsfixed = (np.array([109.5, 222. , 222. , 108. ]), np.array([-0.02020202, -1.        , -1.        , -0.01010101]), np.array([103., 265., 604., 879.]), np.array([212.5, 487. , 826. , 987. ]))\n",
    "plt.scatter(wrong3['time_v'][x], wrong3['wfm_v'][x], color='red') #need to use a hieght\n",
    "#plt.hlines(*widthsfixed[1:], color='C2')\n",
    "plt.scatter(wrong3['time_v'][green_points], wrong3['wfm_v'][green_points], color='green')\n",
    "plt.plot(wrong3['time_v'], wrong3['wfm_v'])"
   ]
  },
  {
   "cell_type": "code",
   "execution_count": null,
   "metadata": {},
   "outputs": [],
   "source": [
    "plt.plot(wrong3['time_v'][green_points[0]:green_points[1]+1], wrong3['wfm_v'][green_points[0]:green_points[1]+1])"
   ]
  },
  {
   "cell_type": "code",
   "execution_count": null,
   "metadata": {},
   "outputs": [],
   "source": [
    "wrong4.data_keys"
   ]
  },
  {
   "cell_type": "code",
   "execution_count": null,
   "metadata": {},
   "outputs": [],
   "source": [
    "x1 = wrong4['wfm_v'][wrong4['start_and_end_pulse'][0]:wrong4['start_and_end_pulse'][1]+1]\n",
    "y1 = wrong4['wfm_q'][wrong4['start_and_end_pulse'][0]:wrong4['start_and_end_pulse'][1]+1]"
   ]
  },
  {
   "cell_type": "code",
   "execution_count": null,
   "metadata": {},
   "outputs": [],
   "source": [
    "plt.plot(x1,y1)"
   ]
  },
  {
   "cell_type": "code",
   "execution_count": null,
   "metadata": {},
   "outputs": [],
   "source": [
    "x2 = wrong4['wfm_v'][wrong4['start_and_end_pulse'][2]:wrong4['start_and_end_pulse'][3]+1]\n",
    "y2 = wrong4['wfm_q_wrong'][wrong4['start_and_end_pulse'][2]:wrong4['start_and_end_pulse'][3]+1]"
   ]
  },
  {
   "cell_type": "code",
   "execution_count": null,
   "metadata": {},
   "outputs": [],
   "source": [
    "plt.plot(x2,y2)"
   ]
  },
  {
   "cell_type": "code",
   "execution_count": null,
   "metadata": {},
   "outputs": [],
   "source": [
    "print(data2.data_keys)\n",
    "print(wrong.data_keys)\n",
    "print(wrong2.data_keys)\n",
    "print(wrong3.data_keys)\n",
    "print(wrong4.data_keys)"
   ]
  },
  {
   "cell_type": "code",
   "execution_count": null,
   "metadata": {},
   "outputs": [],
   "source": [
    "wrong4.to_ekpdat('./test69') #saves data when ur working, good to know to add lmao"
   ]
  },
  {
   "cell_type": "code",
   "execution_count": 6,
   "metadata": {},
   "outputs": [],
   "source": [
    "\"\"\"\n",
    "Here I will make a helper funciton that takes in a doc string and returns what funciton it appends based on the format\n",
    "\"\"\"\n",
    "\n",
    "def get_function_doc_append(doc_string):\n",
    "    \"\"\"\n",
    "    Helper function which takes in an appropiately formatted string and scans it for the appended value. See use_analysis_file for more\n",
    "    information\n",
    "    \"\"\"\n",
    "    ending_index_of_match = doc_string.find(\"MODIFIES:\") + len(\"MODIFIES:\")\n",
    "    func_name_appended = doc_string[ending_index_of_match:].strip()\n",
    "    return func_name_appended\n",
    "    "
   ]
  },
  {
   "cell_type": "code",
   "execution_count": 98,
   "metadata": {},
   "outputs": [],
   "source": [
    "from inspect import getmembers, isfunction, getdoc\n",
    "from importlib import import_module\n",
    "from ekpy.analysis.core import Data, Dataset\n",
    "import os\n",
    "import pandas as pd\n",
    "def use_analysis_file(module, data, saveall=False, path=None):\n",
    "    \"\"\"\n",
    "    Reads correctly formatted analysis file and performs all functions in sequential order and returns the final mutated Data. Only want it to return the final\n",
    "    mutated data alongside the original unless saveall=True\n",
    "\n",
    "    So because of overriding cases where a func overrides something by say data_dict['voltage'] = new_voltage but data_dict['voltage'] already existed we\n",
    "    have data saver to save the day!\n",
    "\n",
    "    Args:\n",
    "        module (str): the name of the analysis file which must be in the same directory.\n",
    "        data (ekpy.data): The data to use the analysis file on.\n",
    "        saveall (Boolean): If set to true it saves each intermediate step to a file\n",
    "        path (str): if savell is true you must set a path where to save the intermediate steps. Usually the path where you pulled the dset from.\n",
    "\n",
    "    Returns:\n",
    "        data (ekpy.data): The modified data.\n",
    "        data_saver (dict): A Dictionary containing all the intermediate steps of the data. (optional)\n",
    "    \"\"\"\n",
    "    module = import_module(module)\n",
    "    functions_list = module.__all__\n",
    "    data_saver = {'data0': data,}\n",
    "    funcs_modified = ['original',]\n",
    "    for i, name in enumerate(functions_list):\n",
    "        func = getattr(module, name)\n",
    "        func_doc_str = getdoc(func)\n",
    "        func_appended = get_function_doc_append(func_doc_str)\n",
    "        funcs_modified.append(func_appended)\n",
    "        key_name = f\"data{i + 1}\"\n",
    "        data_saver[key_name] = data.apply(func)\n",
    "        data = data_saver[key_name]\n",
    "    original_data = data_saver['data0'].to_dict()\n",
    "    last_data_added = data[data.data_keys[-1]]\n",
    "    original_data[0]['data'][data.data_keys[-1]] = last_data_added\n",
    "    data_out = Data(original_data)\n",
    "    if saveall:\n",
    "        if path is None:\n",
    "            print(\"Warning creating a directory since a path was not given\")\n",
    "            path = './'\n",
    "        path = path + '/data_saver0'\n",
    "        iterator = 1\n",
    "        while os.path.exists(path):\n",
    "            if iterator > 1000:\n",
    "                raise ValueError(\"Dog make a new directory. you have over 1000 folders here or something messed up\")\n",
    "            path = list(path)\n",
    "            path[-1] = str(iterator)\n",
    "            path = \"\".join(path)\n",
    "            iterator += 1\n",
    "        os.mkdir(path)\n",
    "        print(\"Folder %s created!\" % path)\n",
    "        meta_data_saver = Data({0: {'definition':0, 'data': {'funcs_modified': np.array(funcs_modified, dtype=str)}}})\n",
    "        meta_data_saver.to_ekpdat(path + '/saver.ekpdat')\n",
    "        for keys in data_saver:\n",
    "            data_saver[keys].to_ekpdat(path +f'\\\\{keys}'+'.ekpdat')\n",
    "        return data_out, data_saver\n",
    "    else:\n",
    "        return data_out, None"
   ]
  },
  {
   "cell_type": "code",
   "execution_count": 48,
   "metadata": {},
   "outputs": [],
   "source": [
    "data3 = data2.to_dict()"
   ]
  },
  {
   "cell_type": "code",
   "execution_count": 49,
   "metadata": {},
   "outputs": [
    {
     "data": {
      "text/plain": [
       "dict_keys(['time_v', 'wfm_v', 'time_c', 'wfm_c', 'wfm_q_wrong'])"
      ]
     },
     "execution_count": 49,
     "metadata": {},
     "output_type": "execute_result"
    }
   ],
   "source": [
    "data3[0]['data'].keys()"
   ]
  },
  {
   "cell_type": "code",
   "execution_count": null,
   "metadata": {},
   "outputs": [],
   "source": [
    "data2.to_ekpdat('testnew/yay') #saves modifed data_file"
   ]
  },
  {
   "cell_type": "code",
   "execution_count": 99,
   "metadata": {},
   "outputs": [],
   "source": [
    "betee, backup = use_analysis_file('analysisfile', data2, False, './testnew')"
   ]
  },
  {
   "cell_type": "code",
   "execution_count": 100,
   "metadata": {},
   "outputs": [
    {
     "name": "stdout",
     "output_type": "stream",
     "text": [
      "Folder ./testnew/data_saver7 created!\n"
     ]
    }
   ],
   "source": [
    "betee, backup = use_analysis_file('analysisfile', data2, True, './testnew')"
   ]
  },
  {
   "cell_type": "code",
   "execution_count": 62,
   "metadata": {},
   "outputs": [],
   "source": [
    "recovery = analysis.load_Dataset('./testnew/data_saver2')"
   ]
  },
  {
   "cell_type": "code",
   "execution_count": 67,
   "metadata": {},
   "outputs": [],
   "source": [
    "from ekpy.analysis.load import read_ekpdat"
   ]
  },
  {
   "cell_type": "code",
   "execution_count": 101,
   "metadata": {},
   "outputs": [],
   "source": [
    "gurrr = read_ekpdat('./testnew/data_saver7/saver.ekpdat')"
   ]
  },
  {
   "cell_type": "code",
   "execution_count": 106,
   "metadata": {},
   "outputs": [
    {
     "data": {
      "text/plain": [
       "array([2.71050543e-20, 4.72000000e-07, 9.44000000e-07, 1.41600000e-06,\n",
       "       1.88800000e-06, 2.36000000e-06, 2.83200000e-06, 3.30400000e-06,\n",
       "       3.77600000e-06, 4.24800000e-06, 4.72000000e-06, 5.19200000e-06,\n",
       "       5.66400000e-06, 6.13600000e-06, 6.60800000e-06, 7.08000000e-06,\n",
       "       7.55200000e-06, 8.02400000e-06, 8.49600000e-06, 8.96800000e-06,\n",
       "       9.44000000e-06, 9.91200000e-06, 1.03840000e-05, 1.08560000e-05,\n",
       "       1.13280000e-05, 1.18000000e-05, 1.22720000e-05, 1.27440000e-05,\n",
       "       1.32160000e-05, 1.36880000e-05, 1.41600000e-05, 1.46320000e-05,\n",
       "       1.51040000e-05, 1.55760000e-05, 1.60480000e-05, 1.65200000e-05,\n",
       "       1.69920000e-05, 1.74640000e-05, 1.79360000e-05, 1.84080000e-05,\n",
       "       1.88800000e-05, 1.93520000e-05, 1.98240000e-05, 2.02960000e-05,\n",
       "       2.07680000e-05, 2.12400000e-05, 2.17120000e-05, 2.21840000e-05,\n",
       "       2.26560000e-05, 2.31280000e-05, 2.36000000e-05, 2.40720000e-05,\n",
       "       2.45440000e-05, 2.50160000e-05, 2.54880000e-05, 2.59600000e-05,\n",
       "       2.64320000e-05, 2.69040000e-05, 2.73760000e-05, 2.78480000e-05,\n",
       "       2.83200000e-05, 2.87920000e-05, 2.92640000e-05, 2.97360000e-05,\n",
       "       3.02080000e-05, 3.06800000e-05, 3.11520000e-05, 3.16240000e-05,\n",
       "       3.20960000e-05, 3.25680000e-05, 3.30400000e-05, 3.35120000e-05,\n",
       "       3.39840000e-05, 3.44560000e-05, 3.49280000e-05, 3.54000000e-05,\n",
       "       3.58720000e-05, 3.63440000e-05, 3.68160000e-05, 3.72880000e-05,\n",
       "       3.77600000e-05, 3.82320000e-05, 3.87040000e-05, 3.91760000e-05,\n",
       "       3.96480000e-05, 4.01200000e-05, 4.05920000e-05, 4.10640000e-05,\n",
       "       4.15360000e-05, 4.20080000e-05, 4.24800000e-05, 4.29520000e-05,\n",
       "       4.34240000e-05, 4.38960000e-05, 4.43680000e-05, 4.48400000e-05,\n",
       "       4.53120000e-05, 4.57840000e-05, 4.62560000e-05, 4.67280000e-05,\n",
       "       4.72000000e-05, 4.76720000e-05, 4.81440000e-05, 4.86160000e-05,\n",
       "       4.90880000e-05, 4.95600000e-05, 5.00320000e-05, 5.05040000e-05,\n",
       "       5.09760000e-05, 5.14480000e-05, 5.19200000e-05, 5.23920000e-05,\n",
       "       5.28640000e-05, 5.33360000e-05, 5.38080000e-05, 5.42800000e-05,\n",
       "       5.47520000e-05, 5.52240000e-05, 5.56960000e-05, 5.61680000e-05,\n",
       "       5.66400000e-05, 5.71120000e-05, 5.75840000e-05, 5.80560000e-05,\n",
       "       5.85280000e-05, 5.90000000e-05, 5.94720000e-05, 5.99440000e-05,\n",
       "       6.04160000e-05, 6.08880000e-05, 6.13600000e-05, 6.18320000e-05,\n",
       "       6.23040000e-05, 6.27760000e-05, 6.32480000e-05, 6.37200000e-05,\n",
       "       6.41920000e-05, 6.46640000e-05, 6.51360000e-05, 6.56080000e-05,\n",
       "       6.60800000e-05, 6.65520000e-05, 6.70240000e-05, 6.74960000e-05,\n",
       "       6.79680000e-05, 6.84400000e-05, 6.89120000e-05, 6.93840000e-05,\n",
       "       6.98560000e-05, 7.03280000e-05, 7.08000000e-05, 7.12720000e-05,\n",
       "       7.17440000e-05, 7.22160000e-05, 7.26880000e-05, 7.31600000e-05,\n",
       "       7.36320000e-05, 7.41040000e-05, 7.45760000e-05, 7.50480000e-05,\n",
       "       7.55200000e-05, 7.59920000e-05, 7.64640000e-05, 7.69360000e-05,\n",
       "       7.74080000e-05, 7.78800000e-05, 7.83520000e-05, 7.88240000e-05,\n",
       "       7.92960000e-05, 7.97680000e-05, 8.02400000e-05, 8.07120000e-05,\n",
       "       8.11840000e-05, 8.16560000e-05, 8.21280000e-05, 8.26000000e-05,\n",
       "       8.30720000e-05, 8.35440000e-05, 8.40160000e-05, 8.44880000e-05,\n",
       "       8.49600000e-05, 8.54320000e-05, 8.59040000e-05, 8.63760000e-05,\n",
       "       8.68480000e-05, 8.73200000e-05, 8.77920000e-05, 8.82640000e-05,\n",
       "       8.87360000e-05, 8.92080000e-05, 8.96800000e-05, 9.01520000e-05,\n",
       "       9.06240000e-05, 9.10960000e-05, 9.15680000e-05, 9.20400000e-05,\n",
       "       9.25120000e-05, 9.29840000e-05, 9.34560000e-05, 9.39280000e-05,\n",
       "       9.44000000e-05, 9.48720000e-05, 9.53440000e-05, 9.58160000e-05,\n",
       "       9.62880000e-05, 9.67600000e-05, 9.72320000e-05, 9.77040000e-05,\n",
       "       9.81760000e-05, 9.86480000e-05, 9.91200000e-05, 9.95920000e-05,\n",
       "       1.00064000e-04, 1.00536000e-04, 1.01008000e-04, 1.01480000e-04,\n",
       "       1.01952000e-04, 1.02424000e-04, 1.02896000e-04, 1.03368000e-04,\n",
       "       1.03840000e-04, 1.04312000e-04, 1.04784000e-04, 1.05256000e-04,\n",
       "       1.05728000e-04, 1.06200000e-04, 1.06672000e-04, 1.07144000e-04,\n",
       "       1.07616000e-04, 1.08088000e-04, 1.08560000e-04, 1.09032000e-04,\n",
       "       1.09504000e-04, 1.09976000e-04, 1.10448000e-04, 1.10920000e-04,\n",
       "       1.11392000e-04, 1.11864000e-04, 1.12336000e-04, 1.12808000e-04,\n",
       "       1.13280000e-04, 1.13752000e-04, 1.14224000e-04, 1.14696000e-04,\n",
       "       1.15168000e-04, 1.15640000e-04, 1.16112000e-04, 1.16584000e-04,\n",
       "       1.17056000e-04, 1.17528000e-04, 1.18000000e-04, 1.18472000e-04,\n",
       "       1.18944000e-04, 1.19416000e-04, 1.19888000e-04, 1.20360000e-04,\n",
       "       1.20832000e-04, 1.21304000e-04, 1.21776000e-04, 1.22248000e-04,\n",
       "       1.22720000e-04, 1.23192000e-04, 1.23664000e-04, 1.24136000e-04,\n",
       "       1.24608000e-04, 1.25080000e-04, 1.25552000e-04, 1.26024000e-04,\n",
       "       1.26496000e-04, 1.26968000e-04, 1.27440000e-04, 1.27912000e-04,\n",
       "       1.28384000e-04, 1.28856000e-04, 1.29328000e-04, 1.29800000e-04,\n",
       "       1.30272000e-04, 1.30744000e-04, 1.31216000e-04, 1.31688000e-04,\n",
       "       1.32160000e-04, 1.32632000e-04, 1.33104000e-04, 1.33576000e-04,\n",
       "       1.34048000e-04, 1.34520000e-04, 1.34992000e-04, 1.35464000e-04,\n",
       "       1.35936000e-04, 1.36408000e-04, 1.36880000e-04, 1.37352000e-04,\n",
       "       1.37824000e-04, 1.38296000e-04, 1.38768000e-04, 1.39240000e-04,\n",
       "       1.39712000e-04, 1.40184000e-04, 1.40656000e-04, 1.41128000e-04,\n",
       "       1.41600000e-04, 1.42072000e-04, 1.42544000e-04, 1.43016000e-04,\n",
       "       1.43488000e-04, 1.43960000e-04, 1.44432000e-04, 1.44904000e-04,\n",
       "       1.45376000e-04, 1.45848000e-04, 1.46320000e-04, 1.46792000e-04,\n",
       "       1.47264000e-04, 1.47736000e-04, 1.48208000e-04, 1.48680000e-04,\n",
       "       1.49152000e-04, 1.49624000e-04, 1.50096000e-04, 1.50568000e-04,\n",
       "       1.51040000e-04, 1.51512000e-04, 1.51984000e-04, 1.52456000e-04,\n",
       "       1.52928000e-04, 1.53400000e-04, 1.53872000e-04, 1.54344000e-04,\n",
       "       1.54816000e-04, 1.55288000e-04, 1.55760000e-04, 1.56232000e-04,\n",
       "       1.56704000e-04, 1.57176000e-04, 1.57648000e-04, 1.58120000e-04,\n",
       "       1.58592000e-04, 1.59064000e-04, 1.59536000e-04, 1.60008000e-04,\n",
       "       1.60480000e-04, 1.60952000e-04, 1.61424000e-04, 1.61896000e-04,\n",
       "       1.62368000e-04, 1.62840000e-04, 1.63312000e-04, 1.63784000e-04,\n",
       "       1.64256000e-04, 1.64728000e-04, 1.65200000e-04, 1.65672000e-04,\n",
       "       1.66144000e-04, 1.66616000e-04, 1.67088000e-04, 1.67560000e-04,\n",
       "       1.68032000e-04, 1.68504000e-04, 1.68976000e-04, 1.69448000e-04,\n",
       "       1.69920000e-04, 1.70392000e-04, 1.70864000e-04, 1.71336000e-04,\n",
       "       1.71808000e-04, 1.72280000e-04, 1.72752000e-04, 1.73224000e-04,\n",
       "       1.73696000e-04, 1.74168000e-04, 1.74640000e-04, 1.75112000e-04,\n",
       "       1.75584000e-04, 1.76056000e-04, 1.76528000e-04, 1.77000000e-04,\n",
       "       1.77472000e-04, 1.77944000e-04, 1.78416000e-04, 1.78888000e-04,\n",
       "       1.79360000e-04, 1.79832000e-04, 1.80304000e-04, 1.80776000e-04,\n",
       "       1.81248000e-04, 1.81720000e-04, 1.82192000e-04, 1.82664000e-04,\n",
       "       1.83136000e-04, 1.83608000e-04, 1.84080000e-04, 1.84552000e-04,\n",
       "       1.85024000e-04, 1.85496000e-04, 1.85968000e-04, 1.86440000e-04,\n",
       "       1.86912000e-04, 1.87384000e-04, 1.87856000e-04, 1.88328000e-04,\n",
       "       1.88800000e-04, 1.89272000e-04, 1.89744000e-04, 1.90216000e-04,\n",
       "       1.90688000e-04, 1.91160000e-04, 1.91632000e-04, 1.92104000e-04,\n",
       "       1.92576000e-04, 1.93048000e-04, 1.93520000e-04, 1.93992000e-04,\n",
       "       1.94464000e-04, 1.94936000e-04, 1.95408000e-04, 1.95880000e-04,\n",
       "       1.96352000e-04, 1.96824000e-04, 1.97296000e-04, 1.97768000e-04,\n",
       "       1.98240000e-04, 1.98712000e-04, 1.99184000e-04, 1.99656000e-04,\n",
       "       2.00128000e-04, 2.00600000e-04, 2.01072000e-04, 2.01544000e-04,\n",
       "       2.02016000e-04, 2.02488000e-04, 2.02960000e-04, 2.03432000e-04,\n",
       "       2.03904000e-04, 2.04376000e-04, 2.04848000e-04, 2.05320000e-04,\n",
       "       2.05792000e-04, 2.06264000e-04, 2.06736000e-04, 2.07208000e-04,\n",
       "       2.07680000e-04, 2.08152000e-04, 2.08624000e-04, 2.09096000e-04,\n",
       "       2.09568000e-04, 2.10040000e-04, 2.10512000e-04, 2.10984000e-04,\n",
       "       2.11456000e-04, 2.11928000e-04, 2.12400000e-04, 2.12872000e-04,\n",
       "       2.13344000e-04, 2.13816000e-04, 2.14288000e-04, 2.14760000e-04,\n",
       "       2.15232000e-04, 2.15704000e-04, 2.16176000e-04, 2.16648000e-04,\n",
       "       2.17120000e-04, 2.17592000e-04, 2.18064000e-04, 2.18536000e-04,\n",
       "       2.19008000e-04, 2.19480000e-04, 2.19952000e-04, 2.20424000e-04,\n",
       "       2.20896000e-04, 2.21368000e-04, 2.21840000e-04, 2.22312000e-04,\n",
       "       2.22784000e-04, 2.23256000e-04, 2.23728000e-04, 2.24200000e-04,\n",
       "       2.24672000e-04, 2.25144000e-04, 2.25616000e-04, 2.26088000e-04,\n",
       "       2.26560000e-04, 2.27032000e-04, 2.27504000e-04, 2.27976000e-04,\n",
       "       2.28448000e-04, 2.28920000e-04, 2.29392000e-04, 2.29864000e-04,\n",
       "       2.30336000e-04, 2.30808000e-04, 2.31280000e-04, 2.31752000e-04,\n",
       "       2.32224000e-04, 2.32696000e-04, 2.33168000e-04, 2.33640000e-04,\n",
       "       2.34112000e-04, 2.34584000e-04, 2.35056000e-04, 2.35528000e-04,\n",
       "       2.36000000e-04, 2.36472000e-04, 2.36944000e-04, 2.37416000e-04,\n",
       "       2.37888000e-04, 2.38360000e-04, 2.38832000e-04, 2.39304000e-04,\n",
       "       2.39776000e-04, 2.40248000e-04, 2.40720000e-04, 2.41192000e-04,\n",
       "       2.41664000e-04, 2.42136000e-04, 2.42608000e-04, 2.43080000e-04,\n",
       "       2.43552000e-04, 2.44024000e-04, 2.44496000e-04, 2.44968000e-04,\n",
       "       2.45440000e-04, 2.45912000e-04, 2.46384000e-04, 2.46856000e-04,\n",
       "       2.47328000e-04, 2.47800000e-04, 2.48272000e-04, 2.48744000e-04,\n",
       "       2.49216000e-04, 2.49688000e-04, 2.50160000e-04, 2.50632000e-04,\n",
       "       2.51104000e-04, 2.51576000e-04, 2.52048000e-04, 2.52520000e-04,\n",
       "       2.52992000e-04, 2.53464000e-04, 2.53936000e-04, 2.54408000e-04,\n",
       "       2.54880000e-04, 2.55352000e-04, 2.55824000e-04, 2.56296000e-04,\n",
       "       2.56768000e-04, 2.57240000e-04, 2.57712000e-04, 2.58184000e-04,\n",
       "       2.58656000e-04, 2.59128000e-04, 2.59600000e-04, 2.60072000e-04,\n",
       "       2.60544000e-04, 2.61016000e-04, 2.61488000e-04, 2.61960000e-04,\n",
       "       2.62432000e-04, 2.62904000e-04, 2.63376000e-04, 2.63848000e-04,\n",
       "       2.64320000e-04, 2.64792000e-04, 2.65264000e-04, 2.65736000e-04,\n",
       "       2.66208000e-04, 2.66680000e-04, 2.67152000e-04, 2.67624000e-04,\n",
       "       2.68096000e-04, 2.68568000e-04, 2.69040000e-04, 2.69512000e-04,\n",
       "       2.69984000e-04, 2.70456000e-04, 2.70928000e-04, 2.71400000e-04,\n",
       "       2.71872000e-04, 2.72344000e-04, 2.72816000e-04, 2.73288000e-04,\n",
       "       2.73760000e-04, 2.74232000e-04, 2.74704000e-04, 2.75176000e-04,\n",
       "       2.75648000e-04, 2.76120000e-04, 2.76592000e-04, 2.77064000e-04,\n",
       "       2.77536000e-04, 2.78008000e-04, 2.78480000e-04, 2.78952000e-04,\n",
       "       2.79424000e-04, 2.79896000e-04, 2.80368000e-04, 2.80840000e-04,\n",
       "       2.81312000e-04, 2.81784000e-04, 2.82256000e-04, 2.82728000e-04,\n",
       "       2.83200000e-04, 2.83672000e-04, 2.84144000e-04, 2.84616000e-04,\n",
       "       2.85088000e-04, 2.85560000e-04, 2.86032000e-04, 2.86504000e-04,\n",
       "       2.86976000e-04, 2.87448000e-04, 2.87920000e-04, 2.88392000e-04,\n",
       "       2.88864000e-04, 2.89336000e-04, 2.89808000e-04, 2.90280000e-04,\n",
       "       2.90752000e-04, 2.91224000e-04, 2.91696000e-04, 2.92168000e-04,\n",
       "       2.92640000e-04, 2.93112000e-04, 2.93584000e-04, 2.94056000e-04,\n",
       "       2.94528000e-04, 2.95000000e-04, 2.95472000e-04, 2.95944000e-04,\n",
       "       2.96416000e-04, 2.96888000e-04, 2.97360000e-04, 2.97832000e-04,\n",
       "       2.98304000e-04, 2.98776000e-04, 2.99248000e-04, 2.99720000e-04,\n",
       "       3.00192000e-04, 3.00664000e-04, 3.01136000e-04, 3.01608000e-04,\n",
       "       3.02080000e-04, 3.02552000e-04, 3.03024000e-04, 3.03496000e-04,\n",
       "       3.03968000e-04, 3.04440000e-04, 3.04912000e-04, 3.05384000e-04,\n",
       "       3.05856000e-04, 3.06328000e-04, 3.06800000e-04, 3.07272000e-04,\n",
       "       3.07744000e-04, 3.08216000e-04, 3.08688000e-04, 3.09160000e-04,\n",
       "       3.09632000e-04, 3.10104000e-04, 3.10576000e-04, 3.11048000e-04,\n",
       "       3.11520000e-04, 3.11992000e-04, 3.12464000e-04, 3.12936000e-04,\n",
       "       3.13408000e-04, 3.13880000e-04, 3.14352000e-04, 3.14824000e-04,\n",
       "       3.15296000e-04, 3.15768000e-04, 3.16240000e-04, 3.16712000e-04,\n",
       "       3.17184000e-04, 3.17656000e-04, 3.18128000e-04, 3.18600000e-04,\n",
       "       3.19072000e-04, 3.19544000e-04, 3.20016000e-04, 3.20488000e-04,\n",
       "       3.20960000e-04, 3.21432000e-04, 3.21904000e-04, 3.22376000e-04,\n",
       "       3.22848000e-04, 3.23320000e-04, 3.23792000e-04, 3.24264000e-04,\n",
       "       3.24736000e-04, 3.25208000e-04, 3.25680000e-04, 3.26152000e-04,\n",
       "       3.26624000e-04, 3.27096000e-04, 3.27568000e-04, 3.28040000e-04,\n",
       "       3.28512000e-04, 3.28984000e-04, 3.29456000e-04, 3.29928000e-04,\n",
       "       3.30400000e-04, 3.30872000e-04, 3.31344000e-04, 3.31816000e-04,\n",
       "       3.32288000e-04, 3.32760000e-04, 3.33232000e-04, 3.33704000e-04,\n",
       "       3.34176000e-04, 3.34648000e-04, 3.35120000e-04, 3.35592000e-04,\n",
       "       3.36064000e-04, 3.36536000e-04, 3.37008000e-04, 3.37480000e-04,\n",
       "       3.37952000e-04, 3.38424000e-04, 3.38896000e-04, 3.39368000e-04,\n",
       "       3.39840000e-04, 3.40312000e-04, 3.40784000e-04, 3.41256000e-04,\n",
       "       3.41728000e-04, 3.42200000e-04, 3.42672000e-04, 3.43144000e-04,\n",
       "       3.43616000e-04, 3.44088000e-04, 3.44560000e-04, 3.45032000e-04,\n",
       "       3.45504000e-04, 3.45976000e-04, 3.46448000e-04, 3.46920000e-04,\n",
       "       3.47392000e-04, 3.47864000e-04, 3.48336000e-04, 3.48808000e-04,\n",
       "       3.49280000e-04, 3.49752000e-04, 3.50224000e-04, 3.50696000e-04,\n",
       "       3.51168000e-04, 3.51640000e-04, 3.52112000e-04, 3.52584000e-04,\n",
       "       3.53056000e-04, 3.53528000e-04, 3.54000000e-04, 3.54472000e-04,\n",
       "       3.54944000e-04, 3.55416000e-04, 3.55888000e-04, 3.56360000e-04,\n",
       "       3.56832000e-04, 3.57304000e-04, 3.57776000e-04, 3.58248000e-04,\n",
       "       3.58720000e-04, 3.59192000e-04, 3.59664000e-04, 3.60136000e-04,\n",
       "       3.60608000e-04, 3.61080000e-04, 3.61552000e-04, 3.62024000e-04,\n",
       "       3.62496000e-04, 3.62968000e-04, 3.63440000e-04, 3.63912000e-04,\n",
       "       3.64384000e-04, 3.64856000e-04, 3.65328000e-04, 3.65800000e-04,\n",
       "       3.66272000e-04, 3.66744000e-04, 3.67216000e-04, 3.67688000e-04,\n",
       "       3.68160000e-04, 3.68632000e-04, 3.69104000e-04, 3.69576000e-04,\n",
       "       3.70048000e-04, 3.70520000e-04, 3.70992000e-04, 3.71464000e-04,\n",
       "       3.71936000e-04, 3.72408000e-04, 3.72880000e-04, 3.73352000e-04,\n",
       "       3.73824000e-04, 3.74296000e-04, 3.74768000e-04, 3.75240000e-04,\n",
       "       3.75712000e-04, 3.76184000e-04, 3.76656000e-04, 3.77128000e-04,\n",
       "       3.77600000e-04, 3.78072000e-04, 3.78544000e-04, 3.79016000e-04,\n",
       "       3.79488000e-04, 3.79960000e-04, 3.80432000e-04, 3.80904000e-04,\n",
       "       3.81376000e-04, 3.81848000e-04, 3.82320000e-04, 3.82792000e-04,\n",
       "       3.83264000e-04, 3.83736000e-04, 3.84208000e-04, 3.84680000e-04,\n",
       "       3.85152000e-04, 3.85624000e-04, 3.86096000e-04, 3.86568000e-04,\n",
       "       3.87040000e-04, 3.87512000e-04, 3.87984000e-04, 3.88456000e-04,\n",
       "       3.88928000e-04, 3.89400000e-04, 3.89872000e-04, 3.90344000e-04,\n",
       "       3.90816000e-04, 3.91288000e-04, 3.91760000e-04, 3.92232000e-04,\n",
       "       3.92704000e-04, 3.93176000e-04, 3.93648000e-04, 3.94120000e-04,\n",
       "       3.94592000e-04, 3.95064000e-04, 3.95536000e-04, 3.96008000e-04,\n",
       "       3.96480000e-04, 3.96952000e-04, 3.97424000e-04, 3.97896000e-04,\n",
       "       3.98368000e-04, 3.98840000e-04, 3.99312000e-04, 3.99784000e-04,\n",
       "       4.00256000e-04, 4.00728000e-04, 4.01200000e-04, 4.01672000e-04,\n",
       "       4.02144000e-04, 4.02616000e-04, 4.03088000e-04, 4.03560000e-04,\n",
       "       4.04032000e-04, 4.04504000e-04, 4.04976000e-04, 4.05448000e-04,\n",
       "       4.05920000e-04, 4.06392000e-04, 4.06864000e-04, 4.07336000e-04,\n",
       "       4.07808000e-04, 4.08280000e-04, 4.08752000e-04, 4.09224000e-04,\n",
       "       4.09696000e-04, 4.10168000e-04, 4.10640000e-04, 4.11112000e-04,\n",
       "       4.11584000e-04, 4.12056000e-04, 4.12528000e-04, 4.13000000e-04,\n",
       "       4.13472000e-04, 4.13944000e-04, 4.14416000e-04, 4.14888000e-04,\n",
       "       4.15360000e-04, 4.15832000e-04, 4.16304000e-04, 4.16776000e-04,\n",
       "       4.17248000e-04, 4.17720000e-04, 4.18192000e-04, 4.18664000e-04,\n",
       "       4.19136000e-04, 4.19608000e-04, 4.20080000e-04, 4.20552000e-04,\n",
       "       4.21024000e-04, 4.21496000e-04, 4.21968000e-04, 4.22440000e-04,\n",
       "       4.22912000e-04, 4.23384000e-04, 4.23856000e-04, 4.24328000e-04,\n",
       "       4.24800000e-04, 4.25272000e-04, 4.25744000e-04, 4.26216000e-04,\n",
       "       4.26688000e-04, 4.27160000e-04, 4.27632000e-04, 4.28104000e-04,\n",
       "       4.28576000e-04, 4.29048000e-04, 4.29520000e-04, 4.29992000e-04,\n",
       "       4.30464000e-04, 4.30936000e-04, 4.31408000e-04, 4.31880000e-04,\n",
       "       4.32352000e-04, 4.32824000e-04, 4.33296000e-04, 4.33768000e-04,\n",
       "       4.34240000e-04, 4.34712000e-04, 4.35184000e-04, 4.35656000e-04,\n",
       "       4.36128000e-04, 4.36600000e-04, 4.37072000e-04, 4.37544000e-04,\n",
       "       4.38016000e-04, 4.38488000e-04, 4.38960000e-04, 4.39432000e-04,\n",
       "       4.39904000e-04, 4.40376000e-04, 4.40848000e-04, 4.41320000e-04,\n",
       "       4.41792000e-04, 4.42264000e-04, 4.42736000e-04, 4.43208000e-04,\n",
       "       4.43680000e-04, 4.44152000e-04, 4.44624000e-04, 4.45096000e-04,\n",
       "       4.45568000e-04, 4.46040000e-04, 4.46512000e-04, 4.46984000e-04,\n",
       "       4.47456000e-04, 4.47928000e-04, 4.48400000e-04, 4.48872000e-04,\n",
       "       4.49344000e-04, 4.49816000e-04, 4.50288000e-04, 4.50760000e-04,\n",
       "       4.51232000e-04, 4.51704000e-04, 4.52176000e-04, 4.52648000e-04,\n",
       "       4.53120000e-04, 4.53592000e-04, 4.54064000e-04, 4.54536000e-04,\n",
       "       4.55008000e-04, 4.55480000e-04, 4.55952000e-04, 4.56424000e-04,\n",
       "       4.56896000e-04, 4.57368000e-04, 4.57840000e-04, 4.58312000e-04,\n",
       "       4.58784000e-04, 4.59256000e-04, 4.59728000e-04, 4.60200000e-04,\n",
       "       4.60672000e-04, 4.61144000e-04, 4.61616000e-04, 4.62088000e-04,\n",
       "       4.62560000e-04, 4.63032000e-04, 4.63504000e-04, 4.63976000e-04,\n",
       "       4.64448000e-04, 4.64920000e-04, 4.65392000e-04, 4.65864000e-04,\n",
       "       4.66336000e-04, 4.66808000e-04, 4.67280000e-04, 4.67752000e-04,\n",
       "       4.68224000e-04, 4.68696000e-04, 4.69168000e-04])"
      ]
     },
     "execution_count": 106,
     "metadata": {},
     "output_type": "execute_result"
    }
   ],
   "source": [
    "data2.time_v"
   ]
  },
  {
   "cell_type": "code",
   "execution_count": 110,
   "metadata": {},
   "outputs": [
    {
     "data": {
      "text/plain": [
       "array(['original', 'wfm_q', 'wfm_q_wrong'], dtype='<U11')"
      ]
     },
     "execution_count": 110,
     "metadata": {},
     "output_type": "execute_result"
    }
   ],
   "source": [
    "gurrr.data['funcs_modified'] #THIS IS HOW U CAN READ OUT THE FUNCTIONS THAT WERE USED"
   ]
  },
  {
   "cell_type": "markdown",
   "metadata": {},
   "source": [
    "GOAL FOR NEXT TIME, WHEN WE GET THE PATH TO WHERE WE WANT TO RECOVER OUR MODIFIED DATA FROM CAN USE OS.LISTDIR\n",
    "THEN MATCH THE 0 INDEX TO THE 0 INDEX OF GURRR.DATA['FUNCS_MODIFIED][0] AND 1 TO 1 AND SO FORTH"
   ]
  },
  {
   "cell_type": "code",
   "execution_count": 66,
   "metadata": {},
   "outputs": [
    {
     "data": {
      "text/html": [
       "<div>\n",
       "<style scoped>\n",
       "    .dataframe tbody tr th:only-of-type {\n",
       "        vertical-align: middle;\n",
       "    }\n",
       "\n",
       "    .dataframe tbody tr th {\n",
       "        vertical-align: top;\n",
       "    }\n",
       "\n",
       "    .dataframe thead th {\n",
       "        text-align: right;\n",
       "    }\n",
       "</style>\n",
       "<table border=\"1\" class=\"dataframe\">\n",
       "  <thead>\n",
       "    <tr style=\"text-align: right;\">\n",
       "      <th></th>\n",
       "      <th>funcs_modified</th>\n",
       "      <th>filename</th>\n",
       "    </tr>\n",
       "  </thead>\n",
       "  <tbody>\n",
       "    <tr>\n",
       "      <th>0</th>\n",
       "      <td>original</td>\n",
       "      <td>data0.ekpdat</td>\n",
       "    </tr>\n",
       "    <tr>\n",
       "      <th>1</th>\n",
       "      <td>wfm_q</td>\n",
       "      <td>data1.ekpdat</td>\n",
       "    </tr>\n",
       "    <tr>\n",
       "      <th>2</th>\n",
       "      <td>wfm_q_wrong</td>\n",
       "      <td>data2.ekpdat</td>\n",
       "    </tr>\n",
       "  </tbody>\n",
       "</table>\n",
       "</div>"
      ],
      "text/plain": [
       "  funcs_modified      filename\n",
       "0       original  data0.ekpdat\n",
       "1          wfm_q  data1.ekpdat\n",
       "2    wfm_q_wrong  data2.ekpdat"
      ]
     },
     "execution_count": 66,
     "metadata": {},
     "output_type": "execute_result"
    }
   ],
   "source": [
    "recovery"
   ]
  },
  {
   "cell_type": "code",
   "execution_count": 65,
   "metadata": {},
   "outputs": [
    {
     "ename": "Exception",
     "evalue": "error reading data. ensure self.readfileby is correct and that readfileby returns a pandas dataframe. self.readfileby is currently set to read_ekpy_data.\nError was: 'charmap' codec can't decode byte 0x8f in position 50: character maps to <undefined>",
     "output_type": "error",
     "traceback": [
      "\u001b[1;31m---------------------------------------------------------------------------\u001b[0m",
      "\u001b[1;31mUnicodeDecodeError\u001b[0m                        Traceback (most recent call last)",
      "File \u001b[1;32mc:\\Users\\geofr\\AppData\\Local\\Programs\\Python\\Python312\\Lib\\site-packages\\ekpy\\analysis\\core.py:658\u001b[0m, in \u001b[0;36mDataset.get_data\u001b[1;34m(self, groupby, labelby)\u001b[0m\n\u001b[0;32m    657\u001b[0m \u001b[38;5;28;01mif\u001b[39;00m \u001b[38;5;28mself\u001b[39m\u001b[38;5;241m.\u001b[39mskiprows \u001b[38;5;129;01mis\u001b[39;00m \u001b[38;5;28;01mNone\u001b[39;00m:\n\u001b[1;32m--> 658\u001b[0m \ttdf, skiprows \u001b[38;5;241m=\u001b[39m \u001b[43mreadfileby\u001b[49m\u001b[43m(\u001b[49m\n\u001b[0;32m    659\u001b[0m \u001b[43m\t\t\u001b[49m\u001b[43mos\u001b[49m\u001b[38;5;241;43m.\u001b[39;49m\u001b[43mpath\u001b[49m\u001b[38;5;241;43m.\u001b[39;49m\u001b[43mjoin\u001b[49m\u001b[43m(\u001b[49m\u001b[38;5;28;43mself\u001b[39;49m\u001b[38;5;241;43m.\u001b[39;49m\u001b[43mindex_to_path\u001b[49m\u001b[43m[\u001b[49m\u001b[43mindex_of_original\u001b[49m\u001b[43m]\u001b[49m\u001b[43m,\u001b[49m\u001b[43m \u001b[49m\u001b[43mfilename_index_to_path_dict\u001b[49m\u001b[43m[\u001b[49m\u001b[43mindex_of_original\u001b[49m\u001b[43m]\u001b[49m\u001b[43m)\u001b[49m\u001b[43m,\u001b[49m\u001b[43m \u001b[49m\n\u001b[0;32m    660\u001b[0m \u001b[43m\t\t\u001b[49m\u001b[43mreturn_skiprows\u001b[49m\u001b[38;5;241;43m=\u001b[39;49m\u001b[38;5;28;43;01mTrue\u001b[39;49;00m\n\u001b[0;32m    661\u001b[0m \u001b[43m\t\t\u001b[49m\u001b[43m)\u001b[49m\n\u001b[0;32m    662\u001b[0m \t\u001b[38;5;28mself\u001b[39m\u001b[38;5;241m.\u001b[39mskiprows \u001b[38;5;241m=\u001b[39m skiprows\n",
      "File \u001b[1;32mc:\\Users\\geofr\\AppData\\Local\\Programs\\Python\\Python312\\Lib\\site-packages\\ekpy\\utils\\save.py:47\u001b[0m, in \u001b[0;36mread_ekpy_data\u001b[1;34m(file, skiprows, return_meta_data, return_skiprows)\u001b[0m\n\u001b[0;32m     46\u001b[0m \u001b[38;5;28;01mwith\u001b[39;00m \u001b[38;5;28mopen\u001b[39m(file, \u001b[38;5;124m'\u001b[39m\u001b[38;5;124mr\u001b[39m\u001b[38;5;124m'\u001b[39m) \u001b[38;5;28;01mas\u001b[39;00m f:\n\u001b[1;32m---> 47\u001b[0m \tlines \u001b[38;5;241m=\u001b[39m \u001b[43mf\u001b[49m\u001b[38;5;241;43m.\u001b[39;49m\u001b[43mreadlines\u001b[49m\u001b[43m(\u001b[49m\u001b[43m)\u001b[49m\n\u001b[0;32m     48\u001b[0m index\u001b[38;5;241m=\u001b[39m\u001b[38;5;28mlen\u001b[39m(lines)\u001b[38;5;241m+\u001b[39m\u001b[38;5;241m1\u001b[39m\n",
      "File \u001b[1;32mc:\\Users\\geofr\\AppData\\Local\\Programs\\Python\\Python312\\Lib\\encodings\\cp1252.py:23\u001b[0m, in \u001b[0;36mIncrementalDecoder.decode\u001b[1;34m(self, input, final)\u001b[0m\n\u001b[0;32m     22\u001b[0m \u001b[38;5;28;01mdef\u001b[39;00m \u001b[38;5;21mdecode\u001b[39m(\u001b[38;5;28mself\u001b[39m, \u001b[38;5;28minput\u001b[39m, final\u001b[38;5;241m=\u001b[39m\u001b[38;5;28;01mFalse\u001b[39;00m):\n\u001b[1;32m---> 23\u001b[0m     \u001b[38;5;28;01mreturn\u001b[39;00m \u001b[43mcodecs\u001b[49m\u001b[38;5;241;43m.\u001b[39;49m\u001b[43mcharmap_decode\u001b[49m\u001b[43m(\u001b[49m\u001b[38;5;28;43minput\u001b[39;49m\u001b[43m,\u001b[49m\u001b[38;5;28;43mself\u001b[39;49m\u001b[38;5;241;43m.\u001b[39;49m\u001b[43merrors\u001b[49m\u001b[43m,\u001b[49m\u001b[43mdecoding_table\u001b[49m\u001b[43m)\u001b[49m[\u001b[38;5;241m0\u001b[39m]\n",
      "\u001b[1;31mUnicodeDecodeError\u001b[0m: 'charmap' codec can't decode byte 0x8f in position 50: character maps to <undefined>",
      "\nDuring handling of the above exception, another exception occurred:\n",
      "\u001b[1;31mException\u001b[0m                                 Traceback (most recent call last)",
      "Cell \u001b[1;32mIn[65], line 1\u001b[0m\n\u001b[1;32m----> 1\u001b[0m \u001b[43mrecovery\u001b[49m\u001b[38;5;241;43m.\u001b[39;49m\u001b[43mget_data\u001b[49m\u001b[43m(\u001b[49m\u001b[43m)\u001b[49m\n",
      "File \u001b[1;32mc:\\Users\\geofr\\AppData\\Local\\Programs\\Python\\Python312\\Lib\\site-packages\\ekpy\\analysis\\core.py:674\u001b[0m, in \u001b[0;36mDataset.get_data\u001b[1;34m(self, groupby, labelby)\u001b[0m\n\u001b[0;32m    670\u001b[0m \t\ttdf \u001b[38;5;241m=\u001b[39m readfileby(\n\u001b[0;32m    671\u001b[0m \t\t\tos\u001b[38;5;241m.\u001b[39mpath\u001b[38;5;241m.\u001b[39mjoin(\u001b[38;5;28mself\u001b[39m\u001b[38;5;241m.\u001b[39mindex_to_path[index_of_original], filename_index_to_path_dict[index_of_original])\n\u001b[0;32m    672\u001b[0m \t\t\t)\n\u001b[0;32m    673\u001b[0m \u001b[38;5;28;01mexcept\u001b[39;00m \u001b[38;5;167;01mException\u001b[39;00m \u001b[38;5;28;01mas\u001b[39;00m e:\n\u001b[1;32m--> 674\u001b[0m \t\u001b[38;5;28;01mraise\u001b[39;00m \u001b[38;5;167;01mException\u001b[39;00m(\u001b[38;5;124m'\u001b[39m\u001b[38;5;124merror reading data. ensure self.readfileby is correct and that readfileby returns a pandas dataframe. self.readfileby is currently set to \u001b[39m\u001b[38;5;132;01m{}\u001b[39;00m\u001b[38;5;124m.\u001b[39m\u001b[38;5;130;01m\\n\u001b[39;00m\u001b[38;5;124mError was: \u001b[39m\u001b[38;5;132;01m{}\u001b[39;00m\u001b[38;5;124m'\u001b[39m\u001b[38;5;241m.\u001b[39mformat(\u001b[38;5;28mself\u001b[39m\u001b[38;5;241m.\u001b[39mreadfileby\u001b[38;5;241m.\u001b[39m\u001b[38;5;18m__name__\u001b[39m, e))\n\u001b[0;32m    676\u001b[0m \u001b[38;5;28;01mif\u001b[39;00m i \u001b[38;5;241m==\u001b[39m \u001b[38;5;241m0\u001b[39m:\n\u001b[0;32m    677\u001b[0m \tcolumns_set \u001b[38;5;241m=\u001b[39m \u001b[38;5;28mset\u001b[39m(tdf\u001b[38;5;241m.\u001b[39mcolumns)\n",
      "\u001b[1;31mException\u001b[0m: error reading data. ensure self.readfileby is correct and that readfileby returns a pandas dataframe. self.readfileby is currently set to read_ekpy_data.\nError was: 'charmap' codec can't decode byte 0x8f in position 50: character maps to <undefined>"
     ]
    }
   ],
   "source": [
    "recovery.get_data()"
   ]
  },
  {
   "cell_type": "code",
   "execution_count": 57,
   "metadata": {},
   "outputs": [
    {
     "ename": "Exception",
     "evalue": "error reading data. ensure self.readfileby is correct and that readfileby returns a pandas dataframe. self.readfileby is currently set to read_ekpy_data.\nError was: 'charmap' codec can't decode byte 0x8f in position 50: character maps to <undefined>",
     "output_type": "error",
     "traceback": [
      "\u001b[1;31m---------------------------------------------------------------------------\u001b[0m",
      "\u001b[1;31mUnicodeDecodeError\u001b[0m                        Traceback (most recent call last)",
      "File \u001b[1;32mc:\\Users\\geofr\\AppData\\Local\\Programs\\Python\\Python312\\Lib\\site-packages\\ekpy\\analysis\\core.py:658\u001b[0m, in \u001b[0;36mDataset.get_data\u001b[1;34m(self, groupby, labelby)\u001b[0m\n\u001b[0;32m    657\u001b[0m \u001b[38;5;28;01mif\u001b[39;00m \u001b[38;5;28mself\u001b[39m\u001b[38;5;241m.\u001b[39mskiprows \u001b[38;5;129;01mis\u001b[39;00m \u001b[38;5;28;01mNone\u001b[39;00m:\n\u001b[1;32m--> 658\u001b[0m \ttdf, skiprows \u001b[38;5;241m=\u001b[39m \u001b[43mreadfileby\u001b[49m\u001b[43m(\u001b[49m\n\u001b[0;32m    659\u001b[0m \u001b[43m\t\t\u001b[49m\u001b[43mos\u001b[49m\u001b[38;5;241;43m.\u001b[39;49m\u001b[43mpath\u001b[49m\u001b[38;5;241;43m.\u001b[39;49m\u001b[43mjoin\u001b[49m\u001b[43m(\u001b[49m\u001b[38;5;28;43mself\u001b[39;49m\u001b[38;5;241;43m.\u001b[39;49m\u001b[43mindex_to_path\u001b[49m\u001b[43m[\u001b[49m\u001b[43mindex_of_original\u001b[49m\u001b[43m]\u001b[49m\u001b[43m,\u001b[49m\u001b[43m \u001b[49m\u001b[43mfilename_index_to_path_dict\u001b[49m\u001b[43m[\u001b[49m\u001b[43mindex_of_original\u001b[49m\u001b[43m]\u001b[49m\u001b[43m)\u001b[49m\u001b[43m,\u001b[49m\u001b[43m \u001b[49m\n\u001b[0;32m    660\u001b[0m \u001b[43m\t\t\u001b[49m\u001b[43mreturn_skiprows\u001b[49m\u001b[38;5;241;43m=\u001b[39;49m\u001b[38;5;28;43;01mTrue\u001b[39;49;00m\n\u001b[0;32m    661\u001b[0m \u001b[43m\t\t\u001b[49m\u001b[43m)\u001b[49m\n\u001b[0;32m    662\u001b[0m \t\u001b[38;5;28mself\u001b[39m\u001b[38;5;241m.\u001b[39mskiprows \u001b[38;5;241m=\u001b[39m skiprows\n",
      "File \u001b[1;32mc:\\Users\\geofr\\AppData\\Local\\Programs\\Python\\Python312\\Lib\\site-packages\\ekpy\\utils\\save.py:47\u001b[0m, in \u001b[0;36mread_ekpy_data\u001b[1;34m(file, skiprows, return_meta_data, return_skiprows)\u001b[0m\n\u001b[0;32m     46\u001b[0m \u001b[38;5;28;01mwith\u001b[39;00m \u001b[38;5;28mopen\u001b[39m(file, \u001b[38;5;124m'\u001b[39m\u001b[38;5;124mr\u001b[39m\u001b[38;5;124m'\u001b[39m) \u001b[38;5;28;01mas\u001b[39;00m f:\n\u001b[1;32m---> 47\u001b[0m \tlines \u001b[38;5;241m=\u001b[39m \u001b[43mf\u001b[49m\u001b[38;5;241;43m.\u001b[39;49m\u001b[43mreadlines\u001b[49m\u001b[43m(\u001b[49m\u001b[43m)\u001b[49m\n\u001b[0;32m     48\u001b[0m index\u001b[38;5;241m=\u001b[39m\u001b[38;5;28mlen\u001b[39m(lines)\u001b[38;5;241m+\u001b[39m\u001b[38;5;241m1\u001b[39m\n",
      "File \u001b[1;32mc:\\Users\\geofr\\AppData\\Local\\Programs\\Python\\Python312\\Lib\\encodings\\cp1252.py:23\u001b[0m, in \u001b[0;36mIncrementalDecoder.decode\u001b[1;34m(self, input, final)\u001b[0m\n\u001b[0;32m     22\u001b[0m \u001b[38;5;28;01mdef\u001b[39;00m \u001b[38;5;21mdecode\u001b[39m(\u001b[38;5;28mself\u001b[39m, \u001b[38;5;28minput\u001b[39m, final\u001b[38;5;241m=\u001b[39m\u001b[38;5;28;01mFalse\u001b[39;00m):\n\u001b[1;32m---> 23\u001b[0m     \u001b[38;5;28;01mreturn\u001b[39;00m \u001b[43mcodecs\u001b[49m\u001b[38;5;241;43m.\u001b[39;49m\u001b[43mcharmap_decode\u001b[49m\u001b[43m(\u001b[49m\u001b[38;5;28;43minput\u001b[39;49m\u001b[43m,\u001b[49m\u001b[38;5;28;43mself\u001b[39;49m\u001b[38;5;241;43m.\u001b[39;49m\u001b[43merrors\u001b[49m\u001b[43m,\u001b[49m\u001b[43mdecoding_table\u001b[49m\u001b[43m)\u001b[49m[\u001b[38;5;241m0\u001b[39m]\n",
      "\u001b[1;31mUnicodeDecodeError\u001b[0m: 'charmap' codec can't decode byte 0x8f in position 50: character maps to <undefined>",
      "\nDuring handling of the above exception, another exception occurred:\n",
      "\u001b[1;31mException\u001b[0m                                 Traceback (most recent call last)",
      "Cell \u001b[1;32mIn[57], line 1\u001b[0m\n\u001b[1;32m----> 1\u001b[0m yesssy \u001b[38;5;241m=\u001b[39m \u001b[43mrecovery\u001b[49m\u001b[38;5;241;43m.\u001b[39;49m\u001b[43mget_data\u001b[49m\u001b[43m(\u001b[49m\u001b[43m)\u001b[49m\n",
      "File \u001b[1;32mc:\\Users\\geofr\\AppData\\Local\\Programs\\Python\\Python312\\Lib\\site-packages\\ekpy\\analysis\\core.py:674\u001b[0m, in \u001b[0;36mDataset.get_data\u001b[1;34m(self, groupby, labelby)\u001b[0m\n\u001b[0;32m    670\u001b[0m \t\ttdf \u001b[38;5;241m=\u001b[39m readfileby(\n\u001b[0;32m    671\u001b[0m \t\t\tos\u001b[38;5;241m.\u001b[39mpath\u001b[38;5;241m.\u001b[39mjoin(\u001b[38;5;28mself\u001b[39m\u001b[38;5;241m.\u001b[39mindex_to_path[index_of_original], filename_index_to_path_dict[index_of_original])\n\u001b[0;32m    672\u001b[0m \t\t\t)\n\u001b[0;32m    673\u001b[0m \u001b[38;5;28;01mexcept\u001b[39;00m \u001b[38;5;167;01mException\u001b[39;00m \u001b[38;5;28;01mas\u001b[39;00m e:\n\u001b[1;32m--> 674\u001b[0m \t\u001b[38;5;28;01mraise\u001b[39;00m \u001b[38;5;167;01mException\u001b[39;00m(\u001b[38;5;124m'\u001b[39m\u001b[38;5;124merror reading data. ensure self.readfileby is correct and that readfileby returns a pandas dataframe. self.readfileby is currently set to \u001b[39m\u001b[38;5;132;01m{}\u001b[39;00m\u001b[38;5;124m.\u001b[39m\u001b[38;5;130;01m\\n\u001b[39;00m\u001b[38;5;124mError was: \u001b[39m\u001b[38;5;132;01m{}\u001b[39;00m\u001b[38;5;124m'\u001b[39m\u001b[38;5;241m.\u001b[39mformat(\u001b[38;5;28mself\u001b[39m\u001b[38;5;241m.\u001b[39mreadfileby\u001b[38;5;241m.\u001b[39m\u001b[38;5;18m__name__\u001b[39m, e))\n\u001b[0;32m    676\u001b[0m \u001b[38;5;28;01mif\u001b[39;00m i \u001b[38;5;241m==\u001b[39m \u001b[38;5;241m0\u001b[39m:\n\u001b[0;32m    677\u001b[0m \tcolumns_set \u001b[38;5;241m=\u001b[39m \u001b[38;5;28mset\u001b[39m(tdf\u001b[38;5;241m.\u001b[39mcolumns)\n",
      "\u001b[1;31mException\u001b[0m: error reading data. ensure self.readfileby is correct and that readfileby returns a pandas dataframe. self.readfileby is currently set to read_ekpy_data.\nError was: 'charmap' codec can't decode byte 0x8f in position 50: character maps to <undefined>"
     ]
    }
   ],
   "source": [
    "read_ekpds"
   ]
  },
  {
   "cell_type": "code",
   "execution_count": 44,
   "metadata": {},
   "outputs": [
    {
     "ename": "AttributeError",
     "evalue": "'function' object has no attribute 'data_keys'",
     "output_type": "error",
     "traceback": [
      "\u001b[1;31m---------------------------------------------------------------------------\u001b[0m",
      "\u001b[1;31mAttributeError\u001b[0m                            Traceback (most recent call last)",
      "Cell \u001b[1;32mIn[44], line 1\u001b[0m\n\u001b[1;32m----> 1\u001b[0m \u001b[43myesssy\u001b[49m\u001b[38;5;241;43m.\u001b[39;49m\u001b[43mdata_keys\u001b[49m\n",
      "\u001b[1;31mAttributeError\u001b[0m: 'function' object has no attribute 'data_keys'"
     ]
    }
   ],
   "source": [
    "yesssy.data_keys"
   ]
  },
  {
   "cell_type": "code",
   "execution_count": 86,
   "metadata": {},
   "outputs": [
    {
     "data": {
      "text/plain": [
       "['time_v', 'wfm_v', 'time_c', 'wfm_c', 'wfm_q_wrong', 'wfm_q']"
      ]
     },
     "execution_count": 86,
     "metadata": {},
     "output_type": "execute_result"
    }
   ],
   "source": [
    "betee.data_keys"
   ]
  },
  {
   "cell_type": "code",
   "execution_count": 82,
   "metadata": {},
   "outputs": [
    {
     "ename": "TypeError",
     "evalue": "'NoneType' object is not iterable",
     "output_type": "error",
     "traceback": [
      "\u001b[1;31m---------------------------------------------------------------------------\u001b[0m",
      "\u001b[1;31mTypeError\u001b[0m                                 Traceback (most recent call last)",
      "Cell \u001b[1;32mIn[82], line 1\u001b[0m\n\u001b[1;32m----> 1\u001b[0m bbb \u001b[38;5;241m=\u001b[39m \u001b[38;5;28;43mlist\u001b[39;49m\u001b[43m(\u001b[49m\u001b[43mbackup\u001b[49m\u001b[43m)\u001b[49m \u001b[38;5;66;03m#can use list to just get the keys as a list\u001b[39;00m\n",
      "\u001b[1;31mTypeError\u001b[0m: 'NoneType' object is not iterable"
     ]
    }
   ],
   "source": [
    "bbb = list(backup) #can use list to just get the keys as a list"
   ]
  },
  {
   "cell_type": "code",
   "execution_count": 38,
   "metadata": {},
   "outputs": [
    {
     "name": "stdout",
     "output_type": "stream",
     "text": [
      "['data0', 'data1', 'data2']\n"
     ]
    }
   ],
   "source": [
    "print(bbb)"
   ]
  },
  {
   "cell_type": "code",
   "execution_count": 39,
   "metadata": {},
   "outputs": [
    {
     "data": {
      "text/plain": [
       "['time_v', 'wfm_v', 'time_c', 'wfm_c', 'wfm_q_wrong', 'wfm_q']"
      ]
     },
     "execution_count": 39,
     "metadata": {},
     "output_type": "execute_result"
    }
   ],
   "source": [
    "backup['data0'].data_keys"
   ]
  },
  {
   "cell_type": "code",
   "execution_count": null,
   "metadata": {},
   "outputs": [],
   "source": [
    "backup['data1'].data_keys"
   ]
  },
  {
   "cell_type": "code",
   "execution_count": 47,
   "metadata": {},
   "outputs": [
    {
     "data": {
      "text/plain": [
       "['time_v', 'wfm_v', 'time_c', 'wfm_c', 'wfm_q_wrong']"
      ]
     },
     "execution_count": 47,
     "metadata": {},
     "output_type": "execute_result"
    }
   ],
   "source": [
    "data2.data_keys"
   ]
  },
  {
   "cell_type": "code",
   "execution_count": null,
   "metadata": {},
   "outputs": [],
   "source": [
    "functions_list = getmembers(analysisfile, isfunction)"
   ]
  },
  {
   "cell_type": "code",
   "execution_count": null,
   "metadata": {},
   "outputs": [],
   "source": [
    "functions_list"
   ]
  },
  {
   "cell_type": "code",
   "execution_count": null,
   "metadata": {},
   "outputs": [],
   "source": []
  }
 ],
 "metadata": {
  "kernelspec": {
   "display_name": "Python 3",
   "language": "python",
   "name": "python3"
  },
  "language_info": {
   "codemirror_mode": {
    "name": "ipython",
    "version": 3
   },
   "file_extension": ".py",
   "mimetype": "text/x-python",
   "name": "python",
   "nbconvert_exporter": "python",
   "pygments_lexer": "ipython3",
   "version": "3.12.0"
  }
 },
 "nbformat": 4,
 "nbformat_minor": 2
}
