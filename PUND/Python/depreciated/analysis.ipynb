{
 "cells": [
  {
   "cell_type": "code",
   "execution_count": 22,
   "metadata": {},
   "outputs": [],
   "source": [
    "from ekpy import analysis\n",
    "import numpy as np\n",
    "import scipy.integrate as it\n",
    "from scipy.signal import find_peaks, savgol_filter, peak_widths\n",
    "import matplotlib.pyplot as plt\n",
    "from ekpy.analysis.analysisgeotemp import use_analysis_file #note need to make this under __all__"
   ]
  },
  {
   "cell_type": "code",
   "execution_count": 23,
   "metadata": {},
   "outputs": [
    {
     "data": {
      "text/html": [
       "<div>\n",
       "<style scoped>\n",
       "    .dataframe tbody tr th:only-of-type {\n",
       "        vertical-align: middle;\n",
       "    }\n",
       "\n",
       "    .dataframe tbody tr th {\n",
       "        vertical-align: top;\n",
       "    }\n",
       "\n",
       "    .dataframe thead th {\n",
       "        text-align: right;\n",
       "    }\n",
       "</style>\n",
       "<table border=\"1\" class=\"dataframe\">\n",
       "  <thead>\n",
       "    <tr style=\"text-align: right;\">\n",
       "      <th></th>\n",
       "      <th>pulse_width</th>\n",
       "      <th>pulse_delay</th>\n",
       "      <th>voltage_max</th>\n",
       "      <th>num_points</th>\n",
       "      <th>step_size</th>\n",
       "      <th>capacitor_area</th>\n",
       "      <th>thickness</th>\n",
       "      <th>permittivity</th>\n",
       "      <th>format</th>\n",
       "      <th>type</th>\n",
       "      <th>points</th>\n",
       "      <th>count</th>\n",
       "      <th>x_increment</th>\n",
       "      <th>x_origin</th>\n",
       "      <th>x_reference</th>\n",
       "      <th>y_increment</th>\n",
       "      <th>y_origin</th>\n",
       "      <th>y_reference</th>\n",
       "      <th>trial</th>\n",
       "      <th>filename</th>\n",
       "    </tr>\n",
       "  </thead>\n",
       "  <tbody>\n",
       "    <tr>\n",
       "      <th>0</th>\n",
       "      <td>0.0001</td>\n",
       "      <td>0.001</td>\n",
       "      <td>2</td>\n",
       "      <td>20</td>\n",
       "      <td>NaN</td>\n",
       "      <td>4.000000e-08</td>\n",
       "      <td>1.000000e-08</td>\n",
       "      <td>30</td>\n",
       "      <td>0</td>\n",
       "      <td>0</td>\n",
       "      <td>1000</td>\n",
       "      <td>1</td>\n",
       "      <td>0.000006</td>\n",
       "      <td>-0.000141</td>\n",
       "      <td>0</td>\n",
       "      <td>0.040201</td>\n",
       "      <td>0.0</td>\n",
       "      <td>0</td>\n",
       "      <td>0</td>\n",
       "      <td>fe_PUND_PV__0.csv</td>\n",
       "    </tr>\n",
       "    <tr>\n",
       "      <th>1</th>\n",
       "      <td>0.0001</td>\n",
       "      <td>0.001</td>\n",
       "      <td>2</td>\n",
       "      <td>20</td>\n",
       "      <td>NaN</td>\n",
       "      <td>4.000000e-08</td>\n",
       "      <td>1.000000e-08</td>\n",
       "      <td>30</td>\n",
       "      <td>0</td>\n",
       "      <td>0</td>\n",
       "      <td>1000</td>\n",
       "      <td>1</td>\n",
       "      <td>0.000006</td>\n",
       "      <td>-0.000141</td>\n",
       "      <td>0</td>\n",
       "      <td>0.040201</td>\n",
       "      <td>0.0</td>\n",
       "      <td>0</td>\n",
       "      <td>1</td>\n",
       "      <td>fe_PUND_PV__1.csv</td>\n",
       "    </tr>\n",
       "    <tr>\n",
       "      <th>2</th>\n",
       "      <td>0.0001</td>\n",
       "      <td>0.001</td>\n",
       "      <td>2</td>\n",
       "      <td>20</td>\n",
       "      <td>NaN</td>\n",
       "      <td>4.000000e-08</td>\n",
       "      <td>1.000000e-08</td>\n",
       "      <td>30</td>\n",
       "      <td>0</td>\n",
       "      <td>0</td>\n",
       "      <td>1000</td>\n",
       "      <td>1</td>\n",
       "      <td>0.000006</td>\n",
       "      <td>-0.000141</td>\n",
       "      <td>0</td>\n",
       "      <td>0.040201</td>\n",
       "      <td>0.0</td>\n",
       "      <td>0</td>\n",
       "      <td>2</td>\n",
       "      <td>fe_PUND_PV__2.csv</td>\n",
       "    </tr>\n",
       "    <tr>\n",
       "      <th>3</th>\n",
       "      <td>0.0001</td>\n",
       "      <td>0.001</td>\n",
       "      <td>2</td>\n",
       "      <td>20</td>\n",
       "      <td>NaN</td>\n",
       "      <td>4.000000e-08</td>\n",
       "      <td>1.000000e-08</td>\n",
       "      <td>30</td>\n",
       "      <td>0</td>\n",
       "      <td>0</td>\n",
       "      <td>1000</td>\n",
       "      <td>1</td>\n",
       "      <td>0.000006</td>\n",
       "      <td>-0.000141</td>\n",
       "      <td>0</td>\n",
       "      <td>0.040201</td>\n",
       "      <td>0.0</td>\n",
       "      <td>0</td>\n",
       "      <td>3</td>\n",
       "      <td>fe_PUND_PV__3.csv</td>\n",
       "    </tr>\n",
       "    <tr>\n",
       "      <th>4</th>\n",
       "      <td>0.0010</td>\n",
       "      <td>0.100</td>\n",
       "      <td>2</td>\n",
       "      <td>20</td>\n",
       "      <td>NaN</td>\n",
       "      <td>4.000000e-08</td>\n",
       "      <td>1.000000e-08</td>\n",
       "      <td>30</td>\n",
       "      <td>0</td>\n",
       "      <td>0</td>\n",
       "      <td>996</td>\n",
       "      <td>1</td>\n",
       "      <td>0.000512</td>\n",
       "      <td>-0.011953</td>\n",
       "      <td>0</td>\n",
       "      <td>0.040201</td>\n",
       "      <td>0.0</td>\n",
       "      <td>0</td>\n",
       "      <td>4</td>\n",
       "      <td>fe_PUND_PV__4.csv</td>\n",
       "    </tr>\n",
       "    <tr>\n",
       "      <th>5</th>\n",
       "      <td>0.0010</td>\n",
       "      <td>0.100</td>\n",
       "      <td>2</td>\n",
       "      <td>20</td>\n",
       "      <td>NaN</td>\n",
       "      <td>4.000000e-08</td>\n",
       "      <td>1.000000e-08</td>\n",
       "      <td>30</td>\n",
       "      <td>0</td>\n",
       "      <td>0</td>\n",
       "      <td>996</td>\n",
       "      <td>1</td>\n",
       "      <td>0.000512</td>\n",
       "      <td>-0.011953</td>\n",
       "      <td>0</td>\n",
       "      <td>0.040201</td>\n",
       "      <td>0.0</td>\n",
       "      <td>0</td>\n",
       "      <td>5</td>\n",
       "      <td>fe_PUND_PV__5.csv</td>\n",
       "    </tr>\n",
       "    <tr>\n",
       "      <th>6</th>\n",
       "      <td>0.0001</td>\n",
       "      <td>0.010</td>\n",
       "      <td>2</td>\n",
       "      <td>20</td>\n",
       "      <td>NaN</td>\n",
       "      <td>4.000000e-08</td>\n",
       "      <td>1.000000e-08</td>\n",
       "      <td>30</td>\n",
       "      <td>0</td>\n",
       "      <td>0</td>\n",
       "      <td>996</td>\n",
       "      <td>1</td>\n",
       "      <td>0.000051</td>\n",
       "      <td>-0.001195</td>\n",
       "      <td>0</td>\n",
       "      <td>0.040201</td>\n",
       "      <td>0.0</td>\n",
       "      <td>0</td>\n",
       "      <td>6</td>\n",
       "      <td>fe_PUND_PV__6.csv</td>\n",
       "    </tr>\n",
       "    <tr>\n",
       "      <th>7</th>\n",
       "      <td>0.0001</td>\n",
       "      <td>0.010</td>\n",
       "      <td>2</td>\n",
       "      <td>20</td>\n",
       "      <td>NaN</td>\n",
       "      <td>4.000000e-08</td>\n",
       "      <td>1.000000e-08</td>\n",
       "      <td>30</td>\n",
       "      <td>0</td>\n",
       "      <td>0</td>\n",
       "      <td>996</td>\n",
       "      <td>1</td>\n",
       "      <td>0.000051</td>\n",
       "      <td>-0.001195</td>\n",
       "      <td>0</td>\n",
       "      <td>0.040201</td>\n",
       "      <td>0.0</td>\n",
       "      <td>0</td>\n",
       "      <td>7</td>\n",
       "      <td>fe_PUND_PV__7.csv</td>\n",
       "    </tr>\n",
       "    <tr>\n",
       "      <th>8</th>\n",
       "      <td>0.0001</td>\n",
       "      <td>0.010</td>\n",
       "      <td>2</td>\n",
       "      <td>20</td>\n",
       "      <td>NaN</td>\n",
       "      <td>4.000000e-08</td>\n",
       "      <td>1.000000e-08</td>\n",
       "      <td>30</td>\n",
       "      <td>0</td>\n",
       "      <td>0</td>\n",
       "      <td>996</td>\n",
       "      <td>1</td>\n",
       "      <td>0.000051</td>\n",
       "      <td>-0.001195</td>\n",
       "      <td>0</td>\n",
       "      <td>0.040201</td>\n",
       "      <td>0.0</td>\n",
       "      <td>0</td>\n",
       "      <td>8</td>\n",
       "      <td>fe_PUND_PV__8.csv</td>\n",
       "    </tr>\n",
       "    <tr>\n",
       "      <th>9</th>\n",
       "      <td>0.0001</td>\n",
       "      <td>0.010</td>\n",
       "      <td>2</td>\n",
       "      <td>20</td>\n",
       "      <td>NaN</td>\n",
       "      <td>4.000000e-08</td>\n",
       "      <td>1.000000e-08</td>\n",
       "      <td>30</td>\n",
       "      <td>0</td>\n",
       "      <td>0</td>\n",
       "      <td>996</td>\n",
       "      <td>1</td>\n",
       "      <td>0.000051</td>\n",
       "      <td>-0.001195</td>\n",
       "      <td>0</td>\n",
       "      <td>0.040201</td>\n",
       "      <td>0.0</td>\n",
       "      <td>0</td>\n",
       "      <td>9</td>\n",
       "      <td>fe_PUND_PV__9.csv</td>\n",
       "    </tr>\n",
       "    <tr>\n",
       "      <th>10</th>\n",
       "      <td>0.0001</td>\n",
       "      <td>0.010</td>\n",
       "      <td>2</td>\n",
       "      <td>20</td>\n",
       "      <td>NaN</td>\n",
       "      <td>4.000000e-08</td>\n",
       "      <td>1.000000e-08</td>\n",
       "      <td>30</td>\n",
       "      <td>0</td>\n",
       "      <td>0</td>\n",
       "      <td>996</td>\n",
       "      <td>1</td>\n",
       "      <td>0.000051</td>\n",
       "      <td>-0.001195</td>\n",
       "      <td>0</td>\n",
       "      <td>0.040201</td>\n",
       "      <td>0.0</td>\n",
       "      <td>0</td>\n",
       "      <td>10</td>\n",
       "      <td>fe_PUND_PV__10.csv</td>\n",
       "    </tr>\n",
       "    <tr>\n",
       "      <th>11</th>\n",
       "      <td>0.0001</td>\n",
       "      <td>0.010</td>\n",
       "      <td>2</td>\n",
       "      <td>20</td>\n",
       "      <td>NaN</td>\n",
       "      <td>4.000000e-08</td>\n",
       "      <td>1.000000e-08</td>\n",
       "      <td>30</td>\n",
       "      <td>0</td>\n",
       "      <td>0</td>\n",
       "      <td>996</td>\n",
       "      <td>1</td>\n",
       "      <td>0.000051</td>\n",
       "      <td>-0.001195</td>\n",
       "      <td>0</td>\n",
       "      <td>0.040201</td>\n",
       "      <td>0.0</td>\n",
       "      <td>0</td>\n",
       "      <td>11</td>\n",
       "      <td>fe_PUND_PV__11.csv</td>\n",
       "    </tr>\n",
       "    <tr>\n",
       "      <th>12</th>\n",
       "      <td>0.0001</td>\n",
       "      <td>0.010</td>\n",
       "      <td>2</td>\n",
       "      <td>20</td>\n",
       "      <td>NaN</td>\n",
       "      <td>4.000000e-08</td>\n",
       "      <td>1.000000e-08</td>\n",
       "      <td>30</td>\n",
       "      <td>0</td>\n",
       "      <td>0</td>\n",
       "      <td>996</td>\n",
       "      <td>1</td>\n",
       "      <td>0.000051</td>\n",
       "      <td>-0.001195</td>\n",
       "      <td>0</td>\n",
       "      <td>0.040201</td>\n",
       "      <td>0.0</td>\n",
       "      <td>0</td>\n",
       "      <td>12</td>\n",
       "      <td>fe_PUND_PV__12.csv</td>\n",
       "    </tr>\n",
       "    <tr>\n",
       "      <th>13</th>\n",
       "      <td>0.0001</td>\n",
       "      <td>0.010</td>\n",
       "      <td>2</td>\n",
       "      <td>20</td>\n",
       "      <td>NaN</td>\n",
       "      <td>4.000000e-08</td>\n",
       "      <td>1.000000e-08</td>\n",
       "      <td>30</td>\n",
       "      <td>0</td>\n",
       "      <td>0</td>\n",
       "      <td>996</td>\n",
       "      <td>1</td>\n",
       "      <td>0.000051</td>\n",
       "      <td>-0.001195</td>\n",
       "      <td>0</td>\n",
       "      <td>0.040201</td>\n",
       "      <td>0.0</td>\n",
       "      <td>0</td>\n",
       "      <td>13</td>\n",
       "      <td>fe_PUND_PV__13.csv</td>\n",
       "    </tr>\n",
       "    <tr>\n",
       "      <th>14</th>\n",
       "      <td>0.0001</td>\n",
       "      <td>0.010</td>\n",
       "      <td>2</td>\n",
       "      <td>20</td>\n",
       "      <td>NaN</td>\n",
       "      <td>4.000000e-08</td>\n",
       "      <td>1.000000e-08</td>\n",
       "      <td>30</td>\n",
       "      <td>0</td>\n",
       "      <td>0</td>\n",
       "      <td>996</td>\n",
       "      <td>1</td>\n",
       "      <td>0.000051</td>\n",
       "      <td>-0.001195</td>\n",
       "      <td>0</td>\n",
       "      <td>0.040201</td>\n",
       "      <td>0.0</td>\n",
       "      <td>0</td>\n",
       "      <td>14</td>\n",
       "      <td>fe_PUND_PV__14.csv</td>\n",
       "    </tr>\n",
       "    <tr>\n",
       "      <th>15</th>\n",
       "      <td>0.0001</td>\n",
       "      <td>0.010</td>\n",
       "      <td>2</td>\n",
       "      <td>20</td>\n",
       "      <td>NaN</td>\n",
       "      <td>4.000000e-08</td>\n",
       "      <td>1.000000e-08</td>\n",
       "      <td>30</td>\n",
       "      <td>0</td>\n",
       "      <td>0</td>\n",
       "      <td>996</td>\n",
       "      <td>1</td>\n",
       "      <td>0.000051</td>\n",
       "      <td>-0.001195</td>\n",
       "      <td>0</td>\n",
       "      <td>0.040201</td>\n",
       "      <td>0.0</td>\n",
       "      <td>0</td>\n",
       "      <td>15</td>\n",
       "      <td>fe_PUND_PV__15.csv</td>\n",
       "    </tr>\n",
       "    <tr>\n",
       "      <th>16</th>\n",
       "      <td>0.0001</td>\n",
       "      <td>0.010</td>\n",
       "      <td>2</td>\n",
       "      <td>20</td>\n",
       "      <td>NaN</td>\n",
       "      <td>4.000000e-08</td>\n",
       "      <td>1.000000e-08</td>\n",
       "      <td>30</td>\n",
       "      <td>0</td>\n",
       "      <td>0</td>\n",
       "      <td>996</td>\n",
       "      <td>1</td>\n",
       "      <td>0.000051</td>\n",
       "      <td>-0.001195</td>\n",
       "      <td>0</td>\n",
       "      <td>0.040201</td>\n",
       "      <td>0.0</td>\n",
       "      <td>0</td>\n",
       "      <td>16</td>\n",
       "      <td>fe_PUND_PV__16.csv</td>\n",
       "    </tr>\n",
       "    <tr>\n",
       "      <th>17</th>\n",
       "      <td>0.0010</td>\n",
       "      <td>0.001</td>\n",
       "      <td>2</td>\n",
       "      <td>20</td>\n",
       "      <td>NaN</td>\n",
       "      <td>4.000000e-08</td>\n",
       "      <td>1.000000e-08</td>\n",
       "      <td>30</td>\n",
       "      <td>0</td>\n",
       "      <td>0</td>\n",
       "      <td>992</td>\n",
       "      <td>1</td>\n",
       "      <td>0.000015</td>\n",
       "      <td>-0.000352</td>\n",
       "      <td>0</td>\n",
       "      <td>0.040201</td>\n",
       "      <td>0.0</td>\n",
       "      <td>0</td>\n",
       "      <td>17</td>\n",
       "      <td>fe_PUND_PV__17.csv</td>\n",
       "    </tr>\n",
       "  </tbody>\n",
       "</table>\n",
       "</div>"
      ],
      "text/plain": [
       "    pulse_width  pulse_delay  voltage_max  num_points  step_size  \\\n",
       "0        0.0001        0.001            2          20        NaN   \n",
       "1        0.0001        0.001            2          20        NaN   \n",
       "2        0.0001        0.001            2          20        NaN   \n",
       "3        0.0001        0.001            2          20        NaN   \n",
       "4        0.0010        0.100            2          20        NaN   \n",
       "5        0.0010        0.100            2          20        NaN   \n",
       "6        0.0001        0.010            2          20        NaN   \n",
       "7        0.0001        0.010            2          20        NaN   \n",
       "8        0.0001        0.010            2          20        NaN   \n",
       "9        0.0001        0.010            2          20        NaN   \n",
       "10       0.0001        0.010            2          20        NaN   \n",
       "11       0.0001        0.010            2          20        NaN   \n",
       "12       0.0001        0.010            2          20        NaN   \n",
       "13       0.0001        0.010            2          20        NaN   \n",
       "14       0.0001        0.010            2          20        NaN   \n",
       "15       0.0001        0.010            2          20        NaN   \n",
       "16       0.0001        0.010            2          20        NaN   \n",
       "17       0.0010        0.001            2          20        NaN   \n",
       "\n",
       "    capacitor_area     thickness  permittivity  format  type  points  count  \\\n",
       "0     4.000000e-08  1.000000e-08            30       0     0    1000      1   \n",
       "1     4.000000e-08  1.000000e-08            30       0     0    1000      1   \n",
       "2     4.000000e-08  1.000000e-08            30       0     0    1000      1   \n",
       "3     4.000000e-08  1.000000e-08            30       0     0    1000      1   \n",
       "4     4.000000e-08  1.000000e-08            30       0     0     996      1   \n",
       "5     4.000000e-08  1.000000e-08            30       0     0     996      1   \n",
       "6     4.000000e-08  1.000000e-08            30       0     0     996      1   \n",
       "7     4.000000e-08  1.000000e-08            30       0     0     996      1   \n",
       "8     4.000000e-08  1.000000e-08            30       0     0     996      1   \n",
       "9     4.000000e-08  1.000000e-08            30       0     0     996      1   \n",
       "10    4.000000e-08  1.000000e-08            30       0     0     996      1   \n",
       "11    4.000000e-08  1.000000e-08            30       0     0     996      1   \n",
       "12    4.000000e-08  1.000000e-08            30       0     0     996      1   \n",
       "13    4.000000e-08  1.000000e-08            30       0     0     996      1   \n",
       "14    4.000000e-08  1.000000e-08            30       0     0     996      1   \n",
       "15    4.000000e-08  1.000000e-08            30       0     0     996      1   \n",
       "16    4.000000e-08  1.000000e-08            30       0     0     996      1   \n",
       "17    4.000000e-08  1.000000e-08            30       0     0     992      1   \n",
       "\n",
       "    x_increment  x_origin  x_reference  y_increment  y_origin  y_reference  \\\n",
       "0      0.000006 -0.000141            0     0.040201       0.0            0   \n",
       "1      0.000006 -0.000141            0     0.040201       0.0            0   \n",
       "2      0.000006 -0.000141            0     0.040201       0.0            0   \n",
       "3      0.000006 -0.000141            0     0.040201       0.0            0   \n",
       "4      0.000512 -0.011953            0     0.040201       0.0            0   \n",
       "5      0.000512 -0.011953            0     0.040201       0.0            0   \n",
       "6      0.000051 -0.001195            0     0.040201       0.0            0   \n",
       "7      0.000051 -0.001195            0     0.040201       0.0            0   \n",
       "8      0.000051 -0.001195            0     0.040201       0.0            0   \n",
       "9      0.000051 -0.001195            0     0.040201       0.0            0   \n",
       "10     0.000051 -0.001195            0     0.040201       0.0            0   \n",
       "11     0.000051 -0.001195            0     0.040201       0.0            0   \n",
       "12     0.000051 -0.001195            0     0.040201       0.0            0   \n",
       "13     0.000051 -0.001195            0     0.040201       0.0            0   \n",
       "14     0.000051 -0.001195            0     0.040201       0.0            0   \n",
       "15     0.000051 -0.001195            0     0.040201       0.0            0   \n",
       "16     0.000051 -0.001195            0     0.040201       0.0            0   \n",
       "17     0.000015 -0.000352            0     0.040201       0.0            0   \n",
       "\n",
       "    trial            filename  \n",
       "0       0   fe_PUND_PV__0.csv  \n",
       "1       1   fe_PUND_PV__1.csv  \n",
       "2       2   fe_PUND_PV__2.csv  \n",
       "3       3   fe_PUND_PV__3.csv  \n",
       "4       4   fe_PUND_PV__4.csv  \n",
       "5       5   fe_PUND_PV__5.csv  \n",
       "6       6   fe_PUND_PV__6.csv  \n",
       "7       7   fe_PUND_PV__7.csv  \n",
       "8       8   fe_PUND_PV__8.csv  \n",
       "9       9   fe_PUND_PV__9.csv  \n",
       "10     10  fe_PUND_PV__10.csv  \n",
       "11     11  fe_PUND_PV__11.csv  \n",
       "12     12  fe_PUND_PV__12.csv  \n",
       "13     13  fe_PUND_PV__13.csv  \n",
       "14     14  fe_PUND_PV__14.csv  \n",
       "15     15  fe_PUND_PV__15.csv  \n",
       "16     16  fe_PUND_PV__16.csv  \n",
       "17     17  fe_PUND_PV__17.csv  "
      ]
     },
     "execution_count": 23,
     "metadata": {},
     "output_type": "execute_result"
    }
   ],
   "source": [
    "# load the dataset\n",
    "Data_folder_path = r\"C:\\Users\\geofr\\Desktop\\Research\\Data\\FE\\PUND\\Python\"\n",
    "\n",
    "dset = analysis.load_Dataset(Data_folder_path + '/BTO')\n",
    "\n",
    "# print dset, parsable collection of meta data which holds pointers to the real data files\n",
    "dset"
   ]
  },
  {
   "cell_type": "code",
   "execution_count": 24,
   "metadata": {},
   "outputs": [],
   "source": [
    "data2= dset.select_index(17).get_data()"
   ]
  },
  {
   "cell_type": "code",
   "execution_count": 73,
   "metadata": {},
   "outputs": [
    {
     "data": {
      "text/plain": [
       "{'pulse_width': {0.001},\n",
       " 'pulse_delay': {0.001},\n",
       " 'voltage_max': {2},\n",
       " 'num_points': {20},\n",
       " 'step_size': {nan},\n",
       " 'capacitor_area': {4e-08},\n",
       " 'thickness': {1e-08},\n",
       " 'permittivity': {30},\n",
       " 'format': {0},\n",
       " 'type': {0},\n",
       " 'points': {992},\n",
       " 'count': {1},\n",
       " 'x_increment': {1.512e-05},\n",
       " 'x_origin': {-0.0003515625},\n",
       " 'x_reference': {0},\n",
       " 'y_increment': {0.0402010008692741},\n",
       " 'y_origin': {0.0},\n",
       " 'y_reference': {0},\n",
       " 'trial': {17}}"
      ]
     },
     "execution_count": 73,
     "metadata": {},
     "output_type": "execute_result"
    }
   ],
   "source": [
    "data2.definition\n"
   ]
  },
  {
   "cell_type": "code",
   "execution_count": 26,
   "metadata": {},
   "outputs": [
    {
     "data": {
      "text/plain": [
       "(<Figure size 640x480 with 1 Axes>, <Axes: >)"
      ]
     },
     "execution_count": 26,
     "metadata": {},
     "output_type": "execute_result"
    },
    {
     "data": {
      "image/png": "[encoded data removed]",
      "text/plain": [
       "<Figure size 640x480 with 1 Axes>"
      ]
     },
     "metadata": {},
     "output_type": "display_data"
    }
   ],
   "source": [
    "data2.plot('time_v', 'wfm_v')"
   ]
  },
  {
   "cell_type": "code",
   "execution_count": 186,
   "metadata": {},
   "outputs": [
    {
     "data": {
      "text/plain": [
       "(<Figure size 640x480 with 1 Axes>, <Axes: >)"
      ]
     },
     "execution_count": 186,
     "metadata": {},
     "output_type": "execute_result"
    },
    {
     "data": {
      "image/png": "[encoded data removed]",
      "text/plain": [
       "<Figure size 640x480 with 1 Axes>"
      ]
     },
     "metadata": {},
     "output_type": "display_data"
    }
   ],
   "source": [
    "data2.plot('time_c', 'wfm_c')"
   ]
  },
  {
   "cell_type": "code",
   "execution_count": 52,
   "metadata": {},
   "outputs": [],
   "source": [
    "wfm_v = data2['wfm_v']\n",
    "wfm_c = data2['wfm_c']\n",
    "time_v = data2['time_v']\n",
    "time_c = data2['time_c']\n",
    "pulse_width = data2['pulse_width']\n",
    "t_increment = data2['x_increment']"
   ]
  },
  {
   "cell_type": "code",
   "execution_count": 60,
   "metadata": {},
   "outputs": [
    {
     "data": {
      "text/plain": [
       "66.13756613756614"
      ]
     },
     "execution_count": 60,
     "metadata": {},
     "output_type": "execute_result"
    }
   ],
   "source": [
    "list(pulse_width)[0]/list(t_increment)[0]"
   ]
  },
  {
   "cell_type": "code",
   "execution_count": 29,
   "metadata": {},
   "outputs": [
    {
     "data": {
      "text/plain": [
       "992"
      ]
     },
     "execution_count": 29,
     "metadata": {},
     "output_type": "execute_result"
    }
   ],
   "source": [
    "np.argmax(wfm_v)\n",
    "wfm_v[223]\n",
    "len(wfm_v)"
   ]
  },
  {
   "cell_type": "code",
   "execution_count": 30,
   "metadata": {},
   "outputs": [
    {
     "data": {
      "text/plain": [
       "<matplotlib.collections.PathCollection at 0x1a8da1105c0>"
      ]
     },
     "execution_count": 30,
     "metadata": {},
     "output_type": "execute_result"
    },
    {
     "data": {
      "image/png": "[encoded data removed]",
      "text/plain": [
       "<Figure size 640x480 with 1 Axes>"
      ]
     },
     "metadata": {},
     "output_type": "display_data"
    }
   ],
   "source": [
    "plt.scatter(time_v[:40], wfm_v[:40])"
   ]
  },
  {
   "cell_type": "code",
   "execution_count": 31,
   "metadata": {},
   "outputs": [
    {
     "data": {
      "text/plain": [
       "array([0., 0., 0., 0., 0., 0., 0., 0., 0., 0., 0., 0., 0., 0., 0., 0., 0.,\n",
       "       0., 0., 0., 0., 0., 0., 0., 0., 0., 0., 0., 0., 0., 0., 0., 0., 0.,\n",
       "       0., 0., 0., 0., 0., 0., 0., 0., 0., 0., 0., 0., 0., 0., 0., 0., 0.,\n",
       "       0., 0., 0., 0., 0., 0., 0., 0., 0., 0., 0., 0., 0., 0., 0., 0., 0.,\n",
       "       0., 0., 0., 0., 0., 0., 0., 0., 0., 0., 0., 0., 0., 0., 0., 0., 0.,\n",
       "       0., 0., 0., 0., 0., 0., 0., 0., 0., 0., 0., 0., 0., 0., 0., 0., 0.,\n",
       "       0., 0., 0., 0., 0., 0., 0., 0., 0., 0., 0., 0., 0., 0., 0., 0., 0.,\n",
       "       0., 0., 0., 0., 0., 0., 0., 0., 0., 0., 0., 0., 0., 0., 0., 0., 0.,\n",
       "       0., 0., 0., 0., 0., 0., 0., 0., 0., 0., 0., 0., 0., 0., 0., 0., 0.,\n",
       "       0., 0., 0., 0., 0., 0., 0., 0., 0., 0., 0., 0., 0., 0., 0., 0., 0.,\n",
       "       0., 0., 0., 0., 0., 0., 0., 0., 0., 0., 0., 0., 0., 0., 0., 0., 0.,\n",
       "       0., 0., 0., 0., 0., 0., 0., 0., 0., 0., 0., 0., 0., 0., 0., 0., 0.,\n",
       "       0., 0., 0., 0., 0., 0., 0., 0., 0., 0., 0., 0., 0., 0., 0., 0., 0.,\n",
       "       0., 0., 0., 0., 0., 0., 0., 0., 0., 0., 0., 0., 0., 0., 0., 0., 0.,\n",
       "       0., 0., 0., 0., 0., 0., 0., 0., 0., 0., 0., 0., 0., 0., 0., 0., 0.,\n",
       "       0., 0., 0., 0., 0., 0., 0., 0., 0., 0., 0., 0., 0., 0., 0., 0., 0.,\n",
       "       0., 0., 0., 0., 0., 0., 0., 0., 0., 0., 0., 0., 0., 0., 0., 0., 0.,\n",
       "       0., 0., 0., 0., 0., 0., 0., 0., 0., 0., 0., 0., 0., 0., 0., 0., 0.,\n",
       "       0., 0., 0., 0., 0., 0., 0., 0., 0., 0., 0., 0., 0., 0., 0., 0., 0.,\n",
       "       0., 0., 0., 0., 0., 0., 0., 0., 0., 0., 0., 0., 0., 0., 0., 0., 0.,\n",
       "       0., 0., 0., 0., 0., 0., 0., 0., 0., 0., 0., 0., 0., 0., 0., 0., 0.,\n",
       "       0., 0., 0., 0., 0., 0., 0., 0., 0., 0., 0., 0., 0., 0., 0., 0., 0.,\n",
       "       0., 0., 0., 0., 0., 0., 0., 0., 0., 0., 0., 0., 0., 0., 0., 0., 0.,\n",
       "       0., 0., 0., 0., 0., 0., 0., 0., 0., 0., 0., 0., 0., 0., 0., 0., 0.,\n",
       "       0., 0., 0., 0., 0., 0., 0., 0., 0., 0., 0., 0., 0., 0., 0., 0., 0.,\n",
       "       0., 0., 0., 0., 0., 0., 0., 0., 0., 0., 0., 0., 0., 0., 0., 0., 0.,\n",
       "       0., 0., 0., 0., 0., 0., 0., 0., 0., 0., 0., 0., 0., 0., 0., 0., 0.,\n",
       "       0., 0., 0., 0., 0., 0., 0., 0., 0., 0., 0., 0., 0., 0., 0., 0., 0.,\n",
       "       0., 0., 0., 0., 0., 0., 0., 0., 0., 0., 0., 0., 0., 0., 0., 0., 0.,\n",
       "       0., 0., 0., 0., 0., 0., 0., 0., 0., 0., 0., 0., 0., 0., 0., 0., 0.,\n",
       "       0., 0., 0., 0., 0., 0., 0., 0., 0., 0., 0., 0., 0., 0., 0., 0., 0.,\n",
       "       0., 0., 0., 0., 0., 0., 0., 0., 0., 0., 0., 0., 0., 0., 0., 0., 0.,\n",
       "       0., 0., 0., 0., 0., 0., 0., 0., 0., 0., 0., 0., 0., 0., 0., 0., 0.,\n",
       "       0., 0., 0., 0., 0., 0., 0., 0., 0., 0., 0., 0., 0., 0., 0., 0., 0.,\n",
       "       0., 0., 0., 0., 0., 0., 0., 0., 0., 0., 0., 0., 0., 0., 0., 0., 0.,\n",
       "       0., 0., 0., 0., 0., 0., 0., 0., 0., 0., 0., 0., 0., 0., 0., 0., 0.,\n",
       "       0., 0., 0., 0., 0., 0., 0., 0., 0., 0., 0., 0., 0., 0., 0., 0., 0.,\n",
       "       0., 0., 0., 0., 0., 0., 0., 0., 0., 0., 0., 0., 0., 0., 0., 0., 0.,\n",
       "       0., 0., 0., 0., 0., 0., 0., 0., 0., 0., 0., 0., 0., 0., 0., 0., 0.,\n",
       "       0., 0., 0., 0., 0., 0., 0., 0., 0., 0., 0., 0., 0., 0., 0., 0., 0.,\n",
       "       0., 0., 0., 0., 0., 0., 0., 0., 0., 0., 0., 0., 0., 0., 0., 0., 0.,\n",
       "       0., 0., 0., 0., 0., 0., 0., 0., 0., 0., 0., 0., 0., 0., 0., 0., 0.,\n",
       "       0., 0., 0., 0., 0., 0., 0., 0., 0., 0., 0., 0., 0., 0., 0., 0., 0.,\n",
       "       0., 0., 0., 0., 0., 0., 0., 0., 0., 0., 0., 0., 0., 0., 0., 0., 0.,\n",
       "       0., 0., 0., 0., 0., 0., 0., 0., 0., 0., 0., 0., 0., 0., 0., 0., 0.,\n",
       "       0., 0., 0., 0., 0., 0., 0., 0., 0., 0., 0., 0., 0., 0., 0., 0., 0.,\n",
       "       0., 0., 0., 0., 0., 0., 0., 0., 0., 0., 0., 0., 0., 0., 0., 0., 0.,\n",
       "       0., 0., 0., 0., 0., 0., 0., 0., 0., 0., 0., 0., 0., 0., 0., 0., 0.,\n",
       "       0., 0., 0., 0., 0., 0., 0., 0., 0., 0., 0., 0., 0., 0., 0., 0., 0.,\n",
       "       0., 0., 0., 0., 0., 0., 0., 0., 0., 0., 0., 0., 0., 0., 0., 0., 0.,\n",
       "       0., 0., 0., 0., 0., 0., 0., 0., 0., 0., 0., 0., 0., 0., 0., 0., 0.,\n",
       "       0., 0., 0., 0., 0., 0., 0., 0., 0., 0., 0., 0., 0., 0., 0., 0., 0.,\n",
       "       0., 0., 0., 0., 0., 0., 0., 0., 0., 0., 0., 0., 0., 0., 0., 0., 0.,\n",
       "       0., 0., 0., 0., 0., 0., 0., 0., 0., 0., 0., 0., 0., 0., 0., 0., 0.,\n",
       "       0., 0., 0., 0., 0., 0., 0., 0., 0., 0., 0., 0., 0., 0., 0., 0., 0.,\n",
       "       0., 0., 0., 0., 0., 0., 0., 0., 0., 0., 0., 0., 0., 0., 0., 0., 0.,\n",
       "       0., 0., 0., 0., 0., 0., 0., 0., 0., 0., 0., 0., 0., 0., 0., 0., 0.,\n",
       "       0., 0., 0., 0., 0., 0., 0., 0., 0., 0., 0., 0., 0., 0., 0., 0., 0.,\n",
       "       0., 0., 0., 0., 0., 0.])"
      ]
     },
     "execution_count": 31,
     "metadata": {},
     "output_type": "execute_result"
    }
   ],
   "source": [
    "time_v - time_c #therefore same array"
   ]
  },
  {
   "cell_type": "code",
   "execution_count": 44,
   "metadata": {},
   "outputs": [],
   "source": [
    "def find_peaks_troughs_index_start(data_dict)->'dict':\n",
    "    \"\"\"\n",
    "    Adds 'peaks' to the given data_dict by using scipy to find the peaks and troughs.\n",
    "    modified to skip based on pulse length\n",
    "\n",
    "    Requirements\n",
    "    ------------\n",
    "    wfm_v: dict key \n",
    "        The data_dict key containing the voltage wf\n",
    "    Returns\n",
    "    -------\n",
    "    data_dict: dict\n",
    "        The mutated dictionary with the peaks indexes added.\n",
    "\n",
    "    MODIFIES: peaks\"\"\"\n",
    "    arr = data_dict['wfm_v']\n",
    "    arr_normalized = 2 * ((arr - np.min(arr)) / (np.max(arr) - np.min(arr))) - 1\n",
    "    peaks, _ = find_peaks(arr_normalized, height=0.8, distance=50)\n",
    "    troughs, _ = find_peaks(-1*arr_normalized, height=0.8, distance=50)\n",
    "    all_peaks = np.concatenate((peaks, troughs), axis=0)\n",
    "    data_dict['peaks'] = np.sort(all_peaks)\n",
    "    return data_dict"
   ]
  },
  {
   "cell_type": "code",
   "execution_count": 45,
   "metadata": {},
   "outputs": [
    {
     "data": {
      "text/plain": [
       "array([ 24,  80, 230, 281, 421, 486, 629, 683, 833], dtype=int64)"
      ]
     },
     "execution_count": 45,
     "metadata": {},
     "output_type": "execute_result"
    }
   ],
   "source": [
    "bet = find_peaks_troughs_index_start(data2.data)\n",
    "jesus = bet['peaks']\n",
    "jesus"
   ]
  },
  {
   "cell_type": "code",
   "execution_count": 46,
   "metadata": {},
   "outputs": [
    {
     "data": {
      "text/plain": [
       "[<matplotlib.lines.Line2D at 0x1a8da5b25a0>]"
      ]
     },
     "execution_count": 46,
     "metadata": {},
     "output_type": "execute_result"
    },
    {
     "data": {
      "image/png": "[encoded data removed]",
      "text/plain": [
       "<Figure size 640x480 with 1 Axes>"
      ]
     },
     "metadata": {},
     "output_type": "display_data"
    }
   ],
   "source": [
    "plt.scatter(time_v[jesus], wfm_v[jesus])\n",
    "plt.plot(time_v, wfm_v)\n"
   ]
  },
  {
   "cell_type": "code",
   "execution_count": 35,
   "metadata": {},
   "outputs": [
    {
     "data": {
      "text/plain": [
       "[<matplotlib.lines.Line2D at 0x1a8da3671d0>]"
      ]
     },
     "execution_count": 35,
     "metadata": {},
     "output_type": "execute_result"
    },
    {
     "data": {
      "image/png": "[encoded data removed]",
      "text/plain": [
       "<Figure size 640x480 with 1 Axes>"
      ]
     },
     "metadata": {},
     "output_type": "display_data"
    }
   ],
   "source": [
    "plt.scatter(time_v[jesus[1]], wfm_v[jesus[1]])\n",
    "plt.plot(time_v[220:230], wfm_v[220:230])"
   ]
  },
  {
   "cell_type": "markdown",
   "metadata": {},
   "source": [
    "Idea, to get the end of the peak, we just repeat the process with a reversed list, therefore we get the same effect, and then we just reverse it back?"
   ]
  },
  {
   "cell_type": "code",
   "execution_count": 47,
   "metadata": {},
   "outputs": [],
   "source": [
    "def find_peaks_troughs_index_end(data_dict)->'dict':\n",
    "    \"\"\"\n",
    "    Adds 'peaks' to the given data_dict by using scipy to find the peaks and troughs.\n",
    "    modified to skip based on pulse length\n",
    "\n",
    "    Requirements\n",
    "    ------------\n",
    "    wfm_v: dict key \n",
    "        The data_dict key containing the voltage wf\n",
    "    Returns\n",
    "    -------\n",
    "    data_dict: dict\n",
    "        The mutated dictionary with the peaks indexes added.\n",
    "\n",
    "    MODIFIES: peaks\"\"\"\n",
    "    arr = data_dict['wfm_v'][::-1] #reverse the list and repeat process\n",
    "    arr_normalized = 2 * ((arr - np.min(arr)) / (np.max(arr) - np.min(arr))) - 1\n",
    "    peaks, _ = find_peaks(arr_normalized, height=0.8, distance=50)\n",
    "    troughs, _ = find_peaks(-1*arr_normalized, height=0.8, distance=50)\n",
    "    offset = len(arr) - 1\n",
    "    all_peaks = offset - np.concatenate((peaks, troughs), axis=0) \n",
    "    data_dict['peaks_reverse'] = np.sort(all_peaks)\n",
    "    return data_dict"
   ]
  },
  {
   "cell_type": "code",
   "execution_count": 50,
   "metadata": {},
   "outputs": [
    {
     "data": {
      "text/plain": [
       "array([ 24,  81, 223, 285, 422, 472, 630, 683, 833], dtype=int64)"
      ]
     },
     "execution_count": 50,
     "metadata": {},
     "output_type": "execute_result"
    }
   ],
   "source": [
    "bet = find_peaks_troughs_index_end(data2.data)\n",
    "jesus2 = bet['peaks_reverse']\n",
    "jesus2"
   ]
  },
  {
   "cell_type": "code",
   "execution_count": 51,
   "metadata": {},
   "outputs": [
    {
     "data": {
      "text/plain": [
       "[<matplotlib.lines.Line2D at 0x1a8da6ac2f0>]"
      ]
     },
     "execution_count": 51,
     "metadata": {},
     "output_type": "execute_result"
    },
    {
     "data": {
      "image/png": "[encoded data removed]",
      "text/plain": [
       "<Figure size 640x480 with 1 Axes>"
      ]
     },
     "metadata": {},
     "output_type": "display_data"
    }
   ],
   "source": [
    "plt.scatter(time_v[jesus2], wfm_v[jesus2])\n",
    "plt.plot(time_v, wfm_v)"
   ]
  },
  {
   "cell_type": "code",
   "execution_count": 21,
   "metadata": {},
   "outputs": [
    {
     "data": {
      "text/plain": [
       "[<matplotlib.lines.Line2D at 0x1a8d9026720>]"
      ]
     },
     "execution_count": 21,
     "metadata": {},
     "output_type": "execute_result"
    },
    {
     "data": {
      "image/png": "[encoded data removed]",
      "text/plain": [
       "<Figure size 640x480 with 1 Axes>"
      ]
     },
     "metadata": {},
     "output_type": "display_data"
    }
   ],
   "source": [
    "plt.scatter(time_v[jesus2[2]], wfm_v[jesus2[2]])\n",
    "plt.plot(time_v[419:425], wfm_v[419:425])"
   ]
  },
  {
   "cell_type": "markdown",
   "metadata": {},
   "source": [
    "okay so we got the start and end of each pulse! now we just need to integrate the respective parts,\n",
    "do I just integrate everything? and then partition from the parts. lets integrate seperately from place to place"
   ]
  },
  {
   "cell_type": "code",
   "execution_count": 19,
   "metadata": {},
   "outputs": [],
   "source": [
    "def generate_q_wfm(data_dict) -> 'dict':\n",
    "    \"\"\"\n",
    "    Adds 'wfm_q' to the given data_dict by integrating over the given waveform.\n",
    "\n",
    "    Requirements\n",
    "    ------------\n",
    "    wfm_c: dict key \n",
    "        The data_dict key containing the current wf\n",
    "    time_c: dict key\n",
    "        The data_dict key containing the time wf\n",
    "    Returns\n",
    "    -------\n",
    "    data_dict: dict\n",
    "        The mutated dictionary with the q_wfm added.\n",
    "    PLOT_AGAINST: time_c\n",
    "    MODIFIES: wfm_q\"\"\"\n",
    "    wfm_q = it.cumulative_trapezoid(data_dict['wfm_c'], data_dict['time_c'], initial=0) \n",
    "    data_dict['wfm_q'] = wfm_q\n",
    "    return data_dict"
   ]
  },
  {
   "cell_type": "code",
   "execution_count": 25,
   "metadata": {},
   "outputs": [
    {
     "name": "stdout",
     "output_type": "stream",
     "text": [
      "[ 24 223 422 621 821] [ 25 224 422 622 822]\n"
     ]
    }
   ],
   "source": [
    "#lets write the code just for the first set of points\n",
    "print(jesus, jesus2)"
   ]
  },
  {
   "cell_type": "code",
   "execution_count": 41,
   "metadata": {},
   "outputs": [],
   "source": [
    "def find_peaks_troughs_index_start_and_end(data_dict)->'dict':\n",
    "    \"\"\"\n",
    "    Adds 'start_and_end' to the given data_dict by using scipy to find the peaks and troughs which only finds the start,\n",
    "    reverses the list and repeats and then transforms the data to find the end.\n",
    "\n",
    "    Requirements\n",
    "    ------------\n",
    "    wfm_v: dict key \n",
    "        The data_dict key containing the voltage wf\n",
    "    Returns\n",
    "    -------\n",
    "    data_dict: dict\n",
    "        The mutated dictionary with the start and end of the pulses added.\n",
    "\n",
    "    MODIFIES: start_and_end_pulse\"\"\"\n",
    "    arr = data_dict['wfm_v']\n",
    "    arr_normalized = 2 * ((arr - np.min(arr)) / (np.max(arr) - np.min(arr))) - 1\n",
    "    peaks, _ = find_peaks(arr_normalized, height=0.8, distance=50)\n",
    "    troughs, _ = find_peaks(-1*arr_normalized, height=0.8, distance=50)\n",
    "    all_peaks = np.concatenate((peaks, troughs), axis=0)\n",
    "\n",
    "    arr2 = data_dict['wfm_v'][::-1]\n",
    "    arr_normalized2 = 2 * ((arr2 - np.min(arr2)) / (np.max(arr2) - np.min(arr2))) - 1\n",
    "    peaks2, _ = find_peaks(arr_normalized2, height=0.8, distance=50)\n",
    "    troughs2, _ = find_peaks(-1*arr_normalized2, height=0.8, distance=50)\n",
    "    offset = len(arr2) - 1\n",
    "    all_peaks = offset - np.concatenate((peaks, troughs, peaks2, troughs2), axis=0)\n",
    "\n",
    "    data_dict['start_and_end_pulse'] = np.sort(all_peaks)\n",
    "    return data_dict"
   ]
  },
  {
   "cell_type": "code",
   "execution_count": 42,
   "metadata": {},
   "outputs": [
    {
     "data": {
      "text/plain": [
       "array([ 24,  81, 158, 223, 285, 308, 362, 422, 472, 505, 570, 630, 683,\n",
       "       710, 761, 833, 911, 967], dtype=int64)"
      ]
     },
     "execution_count": 42,
     "metadata": {},
     "output_type": "execute_result"
    }
   ],
   "source": [
    "bet3 = find_peaks_troughs_index_start_and_end(data2.data)\n",
    "jesus3 = bet3['start_and_end_pulse']\n",
    "jesus3"
   ]
  },
  {
   "cell_type": "code",
   "execution_count": 43,
   "metadata": {},
   "outputs": [
    {
     "data": {
      "text/plain": [
       "[<matplotlib.lines.Line2D at 0x1a8da555a00>]"
      ]
     },
     "execution_count": 43,
     "metadata": {},
     "output_type": "execute_result"
    },
    {
     "data": {
      "image/png": "[encoded data removed]",
      "text/plain": [
       "<Figure size 640x480 with 1 Axes>"
      ]
     },
     "metadata": {},
     "output_type": "display_data"
    }
   ],
   "source": [
    "plt.scatter(time_v[jesus3], wfm_v[jesus3])\n",
    "plt.plot(time_v, wfm_v)"
   ]
  },
  {
   "cell_type": "code",
   "execution_count": 114,
   "metadata": {},
   "outputs": [],
   "source": [
    "from itertools import islice\n",
    "import collections\n",
    "\n",
    "def consume(iterator, n):\n",
    "    \"Advance the iterator n-steps ahead. If n is none, consume entirely.\"\n",
    "    # Use functions that consume iterators at C speed.\n",
    "    if n is None:\n",
    "        # feed the entire iterator into a zero-length deque\n",
    "        collections.deque(iterator, maxlen=0)\n",
    "    else:\n",
    "        # advance to the empty slice starting at position n\n",
    "        next(islice(iterator, n, n), None)"
   ]
  },
  {
   "cell_type": "code",
   "execution_count": 158,
   "metadata": {},
   "outputs": [],
   "source": [
    "#new metho screw scipy\n",
    "def find_peaks_troughs_index_start(data_dict, **kwargs)->'dict':\n",
    "    \"\"\"\n",
    "    Adds 'peaks' to the given data_dict by using scipy to find the peaks and troughs.\n",
    "    modified to skip based on pulse length\n",
    "\n",
    "    Requirements\n",
    "    ------------\n",
    "    wfm_v: dict key \n",
    "        The data_dict key containing the voltage wf\n",
    "    Returns\n",
    "    -------\n",
    "    data_dict: dict\n",
    "        The mutated dictionary with the peaks indexes added.\n",
    "\n",
    "    MODIFIES: peaks\"\"\"\n",
    "    arr = data_dict['wfm_v']\n",
    "    arr_normalized = np.abs(2 * ((arr - np.min(arr)) / (np.max(arr) - np.min(arr))) - 1)\n",
    "    print(len(arr))\n",
    "    pulse_width = list(kwargs['pulse_width'])[0]\n",
    "    t_increment = list(kwargs['x_increment'])[0]\n",
    "    valid_indexes = []\n",
    "    threshold = 0.5\n",
    "    pulse_start = None\n",
    "    holder = 0\n",
    "    for i, val in enumerate(arr_normalized):\n",
    "        if val > threshold:\n",
    "            if pulse_start is None:\n",
    "                pulse_start = i\n",
    "            elif pulse_start is not None:\n",
    "                valid_indexes.append((pulse_start, i - 1))\n",
    "                pulse_start = None\n",
    "            #consume(arr_normalized, pulse_size) #this skips ahead in the loop very efficiently by pulse_size\n",
    "            #print(\"consumed\", val, index)\n",
    "    flat_list = [item for sublist in valid_indexes for item in sublist]\n",
    "    data_dict['tst'] = np.array(flat_list)\n",
    "    return data_dict"
   ]
  },
  {
   "cell_type": "code",
   "execution_count": 159,
   "metadata": {},
   "outputs": [
    {
     "name": "stdout",
     "output_type": "stream",
     "text": [
      "992\n"
     ]
    },
    {
     "data": {
      "text/plain": [
       "array([ 24,  24,  26,  26,  28,  28,  30,  30,  32,  32,  34,  34,  36,\n",
       "        36,  38,  38,  40,  40,  42,  42,  44,  44,  46,  46,  48,  48,\n",
       "        50,  50,  52,  52,  54,  54,  56,  56,  58,  58,  60,  60,  62,\n",
       "        62,  64,  64,  66,  66,  68,  68,  70,  70,  72,  72,  74,  74,\n",
       "        76,  76,  78,  78,  80,  80,  82,  82,  84,  84,  86,  86,  88,\n",
       "        88, 222, 222, 224, 224, 226, 226, 228, 228, 230, 230, 232, 232,\n",
       "       234, 234, 236, 236, 238, 238, 240, 240, 242, 242, 244, 244, 246,\n",
       "       246, 248, 248, 250, 250, 252, 252, 254, 254, 256, 256, 258, 258,\n",
       "       260, 260, 262, 262, 264, 264, 266, 266, 268, 268, 270, 270, 272,\n",
       "       272, 274, 274, 276, 276, 278, 278, 280, 280, 282, 282, 284, 284,\n",
       "       286, 286, 421, 421, 423, 423, 425, 425, 427, 427, 429, 429, 431,\n",
       "       431, 433, 433, 435, 435, 437, 437, 439, 439, 441, 441, 443, 443,\n",
       "       445, 445, 447, 447, 449, 449, 451, 451, 453, 453, 455, 455, 457,\n",
       "       457, 459, 459, 461, 461, 463, 463, 465, 465, 467, 467, 469, 469,\n",
       "       471, 471, 473, 473, 475, 475, 477, 477, 479, 479, 481, 481, 483,\n",
       "       483, 485, 485, 619, 619, 621, 621, 623, 623, 625, 625, 627, 627,\n",
       "       629, 629, 631, 631, 633, 633, 635, 635, 637, 637, 639, 639, 641,\n",
       "       641, 643, 643, 645, 645, 647, 647, 649, 649, 651, 651, 653, 653,\n",
       "       655, 655, 657, 657, 659, 659, 661, 661, 663, 663, 665, 665, 667,\n",
       "       667, 669, 669, 671, 671, 673, 673, 675, 675, 677, 677, 679, 679,\n",
       "       681, 681, 683, 683, 817, 817, 819, 819, 821, 821, 823, 823, 825,\n",
       "       825, 827, 827, 829, 829, 831, 831, 833, 833, 835, 835, 837, 837,\n",
       "       839, 839, 841, 841, 843, 843, 845, 845, 847, 847, 849, 849, 851,\n",
       "       851, 853, 853, 855, 855, 857, 857, 859, 859, 861, 861, 863, 863,\n",
       "       865, 865, 867, 867, 869, 869, 871, 871, 873, 873, 875, 875, 877,\n",
       "       877, 879, 879, 881, 881])"
      ]
     },
     "execution_count": 159,
     "metadata": {},
     "output_type": "execute_result"
    }
   ],
   "source": [
    "bet4 = data2.apply(find_peaks_troughs_index_start, pass_defn=True)\n",
    "jesus4 = bet4['tst']\n",
    "jesus4"
   ]
  },
  {
   "cell_type": "code",
   "execution_count": 173,
   "metadata": {},
   "outputs": [
    {
     "data": {
      "text/plain": [
       "array([ 24,  89, 222, 287, 421, 486, 619, 684, 817, 882])"
      ]
     },
     "execution_count": 173,
     "metadata": {},
     "output_type": "execute_result"
    }
   ],
   "source": [
    "import numpy as np\n",
    "\n",
    "def find_pulse_indices(signal):\n",
    "    \"\"\"\n",
    "    Finds the start and end indices of rectangular pulses in a given signal.\n",
    "\n",
    "    Args:\n",
    "        signal (np.ndarray): Input signal (1D array).\n",
    "\n",
    "    Returns:\n",
    "        list of tuples: Each tuple contains the start and end indices of a pulse.\n",
    "    \"\"\"\n",
    "    pulse_indices = []\n",
    "    pulse_start = None\n",
    "    threshold = 0.8\n",
    "    for i, value in enumerate(signal):\n",
    "        if value > threshold:  # Assuming 1 represents the pulse\n",
    "            if pulse_start is None:\n",
    "                pulse_start = i\n",
    "        elif pulse_start is not None:\n",
    "            pulse_indices.append((pulse_start, i - 1))\n",
    "            pulse_start = None\n",
    "    \n",
    "    return pulse_indices\n",
    "\n",
    "# Example usage\n",
    "arr = data2['wfm_v']\n",
    "arr_normalized = np.abs(2 * ((arr - np.min(arr)) / (np.max(arr) - np.min(arr))) - 1)\n",
    "my_signal = np.abs(arr_normalized)\n",
    "pulse_indices = find_pulse_indices(my_signal)\n",
    "flat_list = np.array([item for sublist in pulse_indices for item in sublist])\n",
    "flat_list\n"
   ]
  },
  {
   "cell_type": "code",
   "execution_count": 194,
   "metadata": {},
   "outputs": [],
   "source": [
    "def find_peaks_troughs_index_start_and_end(data_dict, **kwargs)->'dict':\n",
    "    \"\"\"\n",
    "    Adds 'start_and_end' to the given data_dict by using scipy to find the peaks and troughs which only finds the start,\n",
    "    reverses the list and repeats and then transforms the data to find the end.\n",
    "\n",
    "    Requirements\n",
    "    ------------\n",
    "    wfm_v: dict key \n",
    "        The data_dict key containing the voltage wf\n",
    "    Returns\n",
    "    -------\n",
    "    data_dict: dict\n",
    "        The mutated dictionary with the start and end of the pulses added.\n",
    "\n",
    "    MODIFIES: start_and_end_pulse\"\"\"\n",
    "    arr = data_dict['wfm_v']\n",
    "    arr_normalized = np.abs(2 * ((arr - np.min(arr)) / (np.max(arr) - np.min(arr))) - 1)\n",
    "    my_signal = np.abs(arr_normalized)\n",
    "    pulse_indices = find_pulse_indices(my_signal)\n",
    "    print(pulse_indices, 'pulse_indeces')\n",
    "    flat_list = np.array([item for sublist in pulse_indices for item in sublist])\n",
    "    print(flat_list)\n",
    "    data_dict['start_and_end_pulse'] = flat_list\n",
    "    return data_dict"
   ]
  },
  {
   "cell_type": "code",
   "execution_count": 195,
   "metadata": {},
   "outputs": [
    {
     "name": "stdout",
     "output_type": "stream",
     "text": [
      "[(24, 89), (222, 287), (421, 486), (619, 684), (817, 882)] pulse_indeces\n",
      "[ 24  89 222 287 421 486 619 684 817 882]\n"
     ]
    },
    {
     "data": {
      "text/plain": [
       "array([ 24,  89, 222, 287, 421, 486, 619, 684, 817, 882])"
      ]
     },
     "execution_count": 195,
     "metadata": {},
     "output_type": "execute_result"
    }
   ],
   "source": [
    "bet4 = data2.apply(find_peaks_troughs_index_start_and_end, pass_defn=True)\n",
    "jesus4 = bet4['start_and_end_pulse']\n",
    "jesus4"
   ]
  },
  {
   "cell_type": "code",
   "execution_count": 196,
   "metadata": {},
   "outputs": [
    {
     "data": {
      "text/plain": [
       "[<matplotlib.lines.Line2D at 0x1a8dc5f2990>]"
      ]
     },
     "execution_count": 196,
     "metadata": {},
     "output_type": "execute_result"
    },
    {
     "data": {
      "image/png": "[encoded data removed]",
      "text/plain": [
       "<Figure size 640x480 with 1 Axes>"
      ]
     },
     "metadata": {},
     "output_type": "display_data"
    }
   ],
   "source": [
    "plt.scatter(time_v[jesus4], wfm_v[jesus4])\n",
    "plt.plot(time_v, wfm_v)"
   ]
  },
  {
   "cell_type": "code",
   "execution_count": 197,
   "metadata": {},
   "outputs": [],
   "source": [
    "def generate_q_values(data_dict, **kwargs) -> 'dict':\n",
    "    \"\"\"\n",
    "    Adds 'q_vals' to the given data_dict by integrating over the given waveform. Returns a list of values\n",
    "    corresponding to the 8 measuremnts as described by Radiant used in PUND, p1, p1r, p2, p2r, p3, p3r, p4, p4r\n",
    "\n",
    "    Requirements\n",
    "    ------------\n",
    "    wfm_c: dict key \n",
    "        The data_dict key containing the current wf\n",
    "    time_c: dict key\n",
    "        The data_dict key containing the time wf\n",
    "    Returns\n",
    "    -------\n",
    "    data_dict: dict\n",
    "        The mutated dictionary with the q_vals added.\n",
    "    PLOT_AGAINST: time_c need to change lmao\n",
    "    MODIFIES: q_vals\"\"\"\n",
    "    start_and_end_pulse = data_dict['start_and_end_pulse'][2:]\n",
    "    print(start_and_end_pulse)\n",
    "    pulse_width = list(kwargs['pulse_width'])[0]\n",
    "    t_increment = list(kwargs['x_increment'])[0]\n",
    "    pulse_index_len = int(pulse_width/t_increment)\n",
    "    q1 = it.trapezoid(data_dict['wfm_c'][start_and_end_pulse[0]:start_and_end_pulse[1]], dx=t_increment)\n",
    "    q2 = it.trapezoid(data_dict['wfm_c'][start_and_end_pulse[2]:start_and_end_pulse[3]], dx=t_increment)\n",
    "    q3 = it.trapezoid(data_dict['wfm_c'][start_and_end_pulse[4]:start_and_end_pulse[5]], dx=t_increment)\n",
    "    q4 = it.trapezoid(data_dict['wfm_c'][start_and_end_pulse[6]:start_and_end_pulse[7]], dx=t_increment)\n",
    "\n",
    "    #time to also got the remnamnt values by using end values plus 1 plus step size to know how long it is\n",
    "\n",
    "    q1r = it.trapezoid(data_dict['wfm_c'][start_and_end_pulse[1]+1:start_and_end_pulse[1]+pulse_index_len + 1], dx=t_increment)\n",
    "    q2r = it.trapezoid(data_dict['wfm_c'][start_and_end_pulse[3]+1:start_and_end_pulse[3]+pulse_index_len + 1], dx=t_increment)\n",
    "    q3r = it.trapezoid(data_dict['wfm_c'][start_and_end_pulse[5]+1:start_and_end_pulse[5]+pulse_index_len + 1], dx=t_increment)\n",
    "    q4r = it.trapezoid(data_dict['wfm_c'][start_and_end_pulse[7]+1:start_and_end_pulse[7]+pulse_index_len + 1], dx=t_increment)\n",
    "    \n",
    "\n",
    "\n",
    "\n",
    "    data_dict['q_vals'] = np.array([q1,q2,q3,q4,q1r,q2r,q3r,q4r])\n",
    "    return data_dict"
   ]
  },
  {
   "cell_type": "code",
   "execution_count": 200,
   "metadata": {},
   "outputs": [
    {
     "name": "stdout",
     "output_type": "stream",
     "text": [
      "[222 287 421 486 619 684 817 882]\n"
     ]
    },
    {
     "data": {
      "text/plain": [
       "array([ 1.92441870e-03,  1.92229126e-03, -1.98216341e-03, -1.98216341e-03,\n",
       "       -1.67155762e-05, -1.85390936e-05, -2.06665305e-05, -1.39803001e-05])"
      ]
     },
     "execution_count": 200,
     "metadata": {},
     "output_type": "execute_result"
    }
   ],
   "source": [
    "bet4 = data2.apply(generate_q_values, pass_defn=True)\n",
    "jesus4 = bet4['q_vals']\n",
    "jesus4"
   ]
  },
  {
   "cell_type": "code",
   "execution_count": 199,
   "metadata": {},
   "outputs": [
    {
     "name": "stdout",
     "output_type": "stream",
     "text": [
      "[(24, 89), (222, 287), (421, 486), (619, 684), (817, 882)] pulse_indeces\n",
      "[ 24  89 222 287 421 486 619 684 817 882]\n"
     ]
    },
    {
     "data": {
      "text/plain": [
       "array([ 24,  89, 222, 287, 421, 486, 619, 684, 817, 882])"
      ]
     },
     "execution_count": 199,
     "metadata": {},
     "output_type": "execute_result"
    }
   ],
   "source": [
    "bet5 = find_peaks_troughs_index_start_and_end(data2.data)\n",
    "jesus5 = bet5['start_and_end_pulse']\n",
    "jesus5"
   ]
  },
  {
   "cell_type": "code",
   "execution_count": null,
   "metadata": {},
   "outputs": [],
   "source": []
  }
 ],
 "metadata": {
  "kernelspec": {
   "display_name": "Python 3",
   "language": "python",
   "name": "python3"
  },
  "language_info": {
   "codemirror_mode": {
    "name": "ipython",
    "version": 3
   },
   "file_extension": ".py",
   "mimetype": "text/x-python",
   "name": "python",
   "nbconvert_exporter": "python",
   "pygments_lexer": "ipython3",
   "version": "3.12.0"
  }
 },
 "nbformat": 4,
 "nbformat_minor": 2
}
