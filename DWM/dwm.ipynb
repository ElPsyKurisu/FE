{
 "cells": [
  {
   "cell_type": "code",
   "execution_count": 10,
   "metadata": {},
   "outputs": [],
   "source": [
    "import matplotlib.pyplot as plt\n",
    "from ekpy import control\n",
    "from ekpy.control.instruments import keysight81150a, keysightdsox3024a\n",
    "from dwm import DWM\n",
    "import numpy as np"
   ]
  },
  {
   "cell_type": "code",
   "execution_count": 2,
   "metadata": {},
   "outputs": [
    {
     "data": {
      "text/plain": [
       "('GPIB0::7::INSTR',\n",
       " 'GPIB0::8::INSTR',\n",
       " 'USB0::0x0957::0x17A6::MY63080078::0::INSTR')"
      ]
     },
     "execution_count": 2,
     "metadata": {},
     "output_type": "execute_result"
    }
   ],
   "source": [
    "rm = control.ResourceManager()\n",
    "rm.list_resources()"
   ]
  },
  {
   "cell_type": "code",
   "execution_count": 3,
   "metadata": {},
   "outputs": [],
   "source": [
    "scope = rm.open_resource('GPIB0::7::INSTR')\n",
    "wavegen = rm.open_resource('GPIB0::8::INSTR')"
   ]
  },
  {
   "cell_type": "code",
   "execution_count": 4,
   "metadata": {},
   "outputs": [
    {
     "data": {
      "text/plain": [
       "'Agilent Technologies,81150A,MY53821602,3.0.0.0-4.6\\n'"
      ]
     },
     "execution_count": 4,
     "metadata": {},
     "output_type": "execute_result"
    }
   ],
   "source": [
    "keysightdsox3024a.idn(scope)\n",
    "keysight81150a.idn(wavegen)"
   ]
  },
  {
   "cell_type": "code",
   "execution_count": 5,
   "metadata": {},
   "outputs": [],
   "source": [
    "exp_fe = DWM(wavegen,scope)\n",
    "\n",
    "# specify run function (if desired)\n",
    "# options are: run_function aka i havent added a different one\n",
    "\n",
    "\n",
    "# config data path\n",
    "Data_folder_path = \"C:/Users/geofr/Desktop/Research/Data/FE/DWM/\"\n",
    "\n",
    "exp_fe.config_path(Data_folder_path + r'test')"
   ]
  },
  {
   "cell_type": "code",
   "execution_count": 6,
   "metadata": {},
   "outputs": [],
   "source": [
    "voltages = ['1'] \n",
    "scan_params = {\n",
    "    'voltage':voltages, #Note overwrites values below so a voltage of 2 is not given in this context\n",
    "}\n",
    "\n",
    "run_function_args = {\n",
    "    'wavegen':wavegen,\n",
    "    'scope':scope,\n",
    "    'pulse_width':'1e-3',\n",
    "    'pulse_delay':'1e-4',\n",
    "    'voltage':'2',\n",
    "    'capacitor_area':'4e-8',\n",
    "    'thickness':'10e-9',\n",
    "    'permittivity':'30',\n",
    "}\n",
    "\n",
    "order = ['voltage',]"
   ]
  },
  {
   "cell_type": "code",
   "execution_count": 7,
   "metadata": {},
   "outputs": [
    {
     "name": "stdout",
     "output_type": "stream",
     "text": [
      "done.\n"
     ]
    }
   ],
   "source": [
    "exp_fe.n_param_scan(scan_params, run_function_args, order, ntrials=1, plot=False)"
   ]
  }
 ],
 "metadata": {
  "kernelspec": {
   "display_name": "Python 3",
   "language": "python",
   "name": "python3"
  },
  "language_info": {
   "codemirror_mode": {
    "name": "ipython",
    "version": 3
   },
   "file_extension": ".py",
   "mimetype": "text/x-python",
   "name": "python",
   "nbconvert_exporter": "python",
   "pygments_lexer": "ipython3",
   "version": "3.12.0"
  }
 },
 "nbformat": 4,
 "nbformat_minor": 2
}
