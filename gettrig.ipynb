{
 "cells": [
  {
   "cell_type": "code",
   "execution_count": 2,
   "metadata": {},
   "outputs": [],
   "source": [
    "import matplotlib.pyplot as plt\n",
    "from ekpy import control\n",
    "from ekpy.control.instruments import keysight81150a, keysightdsox3024a\n",
    "from singlePVhysteresis import FEHysteresis\n",
    "import numpy as np\n",
    "import time\n",
    "import matplotlib.pyplot as plt"
   ]
  },
  {
   "cell_type": "markdown",
   "metadata": {},
   "source": [
    "This is will be deleted after I can get the scope to digitize one set of info and trig successfuly from the software trigger from\n",
    "the wavegen"
   ]
  },
  {
   "cell_type": "code",
   "execution_count": 3,
   "metadata": {},
   "outputs": [
    {
     "data": {
      "text/plain": [
       "('GPIB0::8::INSTR', 'USB0::0x0957::0x17A6::MY63080078::0::INSTR')"
      ]
     },
     "execution_count": 3,
     "metadata": {},
     "output_type": "execute_result"
    }
   ],
   "source": [
    "rm = control.ResourceManager()\n",
    "rm.list_resources()"
   ]
  },
  {
   "cell_type": "code",
   "execution_count": 5,
   "metadata": {},
   "outputs": [],
   "source": [
    "scope = rm.open_resource('USB0::0x0957::0x17A6::MY63080078::INSTR')\n",
    "wavegen = rm.open_resource('GPIB0::8::INSTR')"
   ]
  },
  {
   "cell_type": "code",
   "execution_count": 6,
   "metadata": {},
   "outputs": [
    {
     "data": {
      "text/plain": [
       "'AGILENT TECHNOLOGIES,DSO-X 3024A,MY63080078,02.65.2021030741\\n'"
      ]
     },
     "execution_count": 6,
     "metadata": {},
     "output_type": "execute_result"
    }
   ],
   "source": [
    "keysightdsox3024a.idn(scope)"
   ]
  },
  {
   "cell_type": "code",
   "execution_count": 7,
   "metadata": {},
   "outputs": [
    {
     "data": {
      "text/plain": [
       "'Agilent Technologies,81150A,MY53821602,3.0.0.0-4.6\\n'"
      ]
     },
     "execution_count": 7,
     "metadata": {},
     "output_type": "execute_result"
    }
   ],
   "source": [
    "keysight81150a.idn(wavegen)"
   ]
  },
  {
   "cell_type": "markdown",
   "metadata": {},
   "source": [
    "okay so first we will setup the wavegen and scope (start with a simple sine wave)"
   ]
  },
  {
   "cell_type": "code",
   "execution_count": 8,
   "metadata": {},
   "outputs": [],
   "source": [
    "keysightdsox3024a.initialize(scope)\n",
    "keysightdsox3024a.configure_timebase(scope, scale='200e-6') #This is a random number I picked\n",
    "keysightdsox3024a.configure_channel(scope, channel='1', vertical_scale='0.25', impedance='ONEM')\n",
    "keysightdsox3024a.configure_channel(scope, channel='2', vertical_scale='0.008', impedance='FIFT')\n",
    "#keysightdsox3024a.configure_scale(scope, channel='1', vertical_scale='4') #All this does is set the timebase again aka scale, and then the vertical range\n",
    "#NOTE HERE FOR ME TO TEST, THE CONFIGURE SCALE COMMAND IS USELESS IMO SINCE IT IS DONE BEFORE IN CONFIGURE CHANNEL AND NOTHING IS DIFFERENT, HOWEVER IT ADDS A 'V' IN THE COMMAND STRUCTURE\n",
    "keysightdsox3024a.configure_trigger_characteristics(scope, trigger_source='EXT', low_voltage_level='0.75', high_voltage_level='0.95', sweep='NORM')\n",
    "keysightdsox3024a.configure_trigger_edge(scope, trigger_source='EXT', input_coupling='DC')"
   ]
  },
  {
   "cell_type": "code",
   "execution_count": 9,
   "metadata": {},
   "outputs": [],
   "source": [
    "keysight81150a.initialize(wavegen)\n",
    "keysight81150a.configure_impedance(wavegen, '1', source_impedance='50.0', load_impedance='1000000')\n",
    "keysight81150a.configure_trigger(wavegen, '1', source='MAN')\n",
    "keysight81150a.configure_output_amplifier(wavegen, '1') #note this is the channel on the wavegen\n",
    "#note we are just taking the waveform stored on the wavegen\n",
    "keysight81150a.configure_arb_wf(wavegen, '1', 'VOLATILE', gain='1', freq='1000')\n",
    "#keysight81150a.set_output_wf(wavegen)\n"
   ]
  },
  {
   "cell_type": "markdown",
   "metadata": {},
   "source": [
    "NOW we try to take the data, aka initiate and do all that fun stuff"
   ]
  },
  {
   "cell_type": "code",
   "execution_count": 10,
   "metadata": {},
   "outputs": [],
   "source": [
    "keysightdsox3024a.initiate(scope)"
   ]
  },
  {
   "cell_type": "code",
   "execution_count": 11,
   "metadata": {},
   "outputs": [],
   "source": [
    "keysight81150a.enable_output(wavegen)\n",
    "#time.sleep(0.5)\n",
    "keysight81150a.send_software_trigger(wavegen)\n"
   ]
  },
  {
   "cell_type": "code",
   "execution_count": 12,
   "metadata": {},
   "outputs": [
    {
     "data": {
      "text/plain": [
       "'1\\n'"
      ]
     },
     "execution_count": 12,
     "metadata": {},
     "output_type": "execute_result"
    }
   ],
   "source": [
    "scope.query(\"*OPC?\")"
   ]
  },
  {
   "cell_type": "code",
   "execution_count": 13,
   "metadata": {},
   "outputs": [],
   "source": [
    "keysightdsox3024a.setup_wf(scope, 'CHAN1')\n",
    "meta_data_v, time_v, wfm_v = keysightdsox3024a.query_wf(scope)"
   ]
  },
  {
   "cell_type": "code",
   "execution_count": 14,
   "metadata": {},
   "outputs": [],
   "source": [
    "keysightdsox3024a.setup_wf(scope, 'CHAN2')\n",
    "meta_data_c, time_c, wfm_c = keysightdsox3024a.query_wf(scope)"
   ]
  },
  {
   "cell_type": "code",
   "execution_count": 15,
   "metadata": {},
   "outputs": [
    {
     "data": {
      "text/plain": [
       "'1\\n'"
      ]
     },
     "execution_count": 15,
     "metadata": {},
     "output_type": "execute_result"
    }
   ],
   "source": [
    "scope.query(\"*OPC?\")"
   ]
  },
  {
   "cell_type": "code",
   "execution_count": 12,
   "metadata": {},
   "outputs": [
    {
     "name": "stdout",
     "output_type": "stream",
     "text": [
      "2 seconds have passed\n"
     ]
    }
   ],
   "source": [
    "start = time.time()\n",
    "now = 0\n",
    "while now < start + 2:\n",
    "    #do nothing\n",
    "    now = time.time()\n",
    "print(\"2 seconds have passed\")"
   ]
  },
  {
   "cell_type": "code",
   "execution_count": 11,
   "metadata": {},
   "outputs": [
    {
     "data": {
      "text/plain": [
       "1704936088.2011251"
      ]
     },
     "execution_count": 11,
     "metadata": {},
     "output_type": "execute_result"
    }
   ],
   "source": [
    "start = time.time()\n",
    "now = 0\n",
    "while now < start + 2:\n",
    "    \n",
    "    now = time.time()\n",
    "print(\"2 seconds have passed\")"
   ]
  },
  {
   "cell_type": "code",
   "execution_count": null,
   "metadata": {},
   "outputs": [],
   "source": [
    "plt.plot(time_v, wfm_v)\n",
    "plt.show()"
   ]
  },
  {
   "cell_type": "code",
   "execution_count": null,
   "metadata": {},
   "outputs": [],
   "source": [
    "plt.plot(time_c, wfm_c)\n",
    "plt.show()"
   ]
  },
  {
   "cell_type": "code",
   "execution_count": null,
   "metadata": {},
   "outputs": [],
   "source": [
    "def pv_hysteresis_wf(initial_delay, freq, pulse_delay, voltage, qtimepoints=12):\n",
    "\t'''\n",
    "\tModified from my original one to only return my time_arr thats been interpolated using good commands\n",
    "\tayo this already interps the voltage array??? \n",
    "\t'''\n",
    "\t#first build Qtime\n",
    "\tinitial_delay = float(initial_delay)\n",
    "\tfreq = float(freq)\n",
    "\tpulse_delay = float(pulse_delay)\n",
    "\tvoltage = float(voltage)\n",
    "\tq_time = []\n",
    "\tt_increment = 0.0005/freq\n",
    "\tsumsofar = initial_delay\n",
    "\tq_time.append(sumsofar)\n",
    "\tcount = 0\n",
    "\tfor i in range(qtimepoints - 1):\n",
    "\t\tif count == 2:\n",
    "\t\t\tcount = 0\n",
    "\t\t\tvalue = sumsofar + pulse_delay\n",
    "\t\telse:\n",
    "\t\t\tvalue = sumsofar + t_increment\n",
    "\t\t\tcount += 1\n",
    "\t\tq_time.append(value)\n",
    "\t\tsumsofar = value\n",
    "\t#Now we build the time_array\n",
    "\ttime_array = []\n",
    "\ttime_array.append(0)\n",
    "\ttime_array.append(initial_delay)\n",
    "\tt_increment2 = 0.00025/freq\n",
    "\tfor i in range(4):\n",
    "\t\tsumsofar2 = 0\n",
    "\t\tlast_element = time_array[-1]\n",
    "\t\tsumsofar2 = t_increment2 + last_element\n",
    "\t\ttime_array.append(sumsofar2)\n",
    "\t\tsumsofar2 += t_increment\n",
    "\t\ttime_array.append(sumsofar2)\n",
    "\t\tsumsofar2 += t_increment2\n",
    "\t\ttime_array.append(sumsofar2)\n",
    "\t\tsumsofar2 += pulse_delay\n",
    "\t\ttime_array.append(sumsofar2)\n",
    "\t\n",
    "\t#Now we calculate the Waveform frequency\n",
    "\twaveform_freq = 1/time_array[-1]\n",
    "\t#Now we calculate the interpolated time [This is a dumb method probably way easier way to do it]\n",
    "\tinterp_time = []\n",
    "\tinterp_time.append(0)\n",
    "\titeration_count = 10000 - 1\n",
    "\tfor i in range(iteration_count):\n",
    "\t\tinterp_time.append((i + 1) * (time_array[-1]/iteration_count))\n",
    "\t#note this was the same shit as doing like np.linearinterpolate or linspace with max being the last element\n",
    "\n",
    "\t#Now we make a voltage array\n",
    "\tvoltage_array = voltage*np.array([0,0,1,-1,0,0,1,-1,0,0,-1,1,0,0,-1,1,0,0])\n",
    "\ttemp = interpolate.interp1d(time_array, voltage_array)\n",
    "\tinterp_voltage_array = temp(interp_time)\n",
    "\t#only thing we use from this is interp_voltage_array wtf\n",
    "\treturn q_time, time_array, waveform_freq, interp_time, interp_voltage_array"
   ]
  }
 ],
 "metadata": {
  "kernelspec": {
   "display_name": "Python 3",
   "language": "python",
   "name": "python3"
  },
  "language_info": {
   "codemirror_mode": {
    "name": "ipython",
    "version": 3
   },
   "file_extension": ".py",
   "mimetype": "text/x-python",
   "name": "python",
   "nbconvert_exporter": "python",
   "pygments_lexer": "ipython3",
   "version": "3.12.0"
  }
 },
 "nbformat": 4,
 "nbformat_minor": 2
}
