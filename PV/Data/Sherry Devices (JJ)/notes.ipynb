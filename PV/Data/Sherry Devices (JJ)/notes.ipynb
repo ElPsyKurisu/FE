{
 "cells": [
  {
   "cell_type": "markdown",
   "metadata": {},
   "source": [
    "HERE I WILL PUT WHAT NOTES i DID FOR THESE SAMPLES. NOT STARTED 3/26/2424\n",
    "\n",
    "Currently trying Sample \n",
    "![alt text](PXL_20240326_160129518.MP.jpg)\n",
    "Top right currently on A1 80um\n",
    "\n",
    "Assuming linear wake up relationship (20um sample is 2us pulse while 100um sample is 20us) -> 80um we should do 10us pulses (since I dont want to break down) for 1e8 cycles"
   ]
  },
  {
   "cell_type": "markdown",
   "metadata": {},
   "source": [
    "MOVED on to C1 200um, going to try to wake it up now and compare, on first pass before wakeup it looks good (see images)\n",
    "Going to do 1e7 cycles at 40us time"
   ]
  },
  {
   "cell_type": "code",
   "execution_count": null,
   "metadata": {},
   "outputs": [],
   "source": []
  }
 ],
 "metadata": {
  "kernelspec": {
   "display_name": "Python 3",
   "language": "python",
   "name": "python3"
  },
  "language_info": {
   "codemirror_mode": {
    "name": "ipython",
    "version": 3
   },
   "file_extension": ".py",
   "mimetype": "text/x-python",
   "name": "python",
   "nbconvert_exporter": "python",
   "pygments_lexer": "ipython3",
   "version": "3.12.0"
  }
 },
 "nbformat": 4,
 "nbformat_minor": 2
}
