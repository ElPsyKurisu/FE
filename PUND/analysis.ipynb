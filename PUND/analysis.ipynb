{
 "cells": [
  {
   "cell_type": "code",
   "execution_count": 1,
   "metadata": {},
   "outputs": [],
   "source": [
    "from ekpy import analysis\n",
    "import numpy as np\n",
    "import scipy.integrate as it\n",
    "from scipy.signal import find_peaks, savgol_filter, peak_widths\n",
    "import matplotlib.pyplot as plt\n",
    "from ekpy.analysis.analysisgeotemp import use_analysis_file #note need to make this under __all__"
   ]
  },
  {
   "cell_type": "code",
   "execution_count": 6,
   "metadata": {},
   "outputs": [
    {
     "data": {
      "text/html": [
       "<div>\n",
       "<style scoped>\n",
       "    .dataframe tbody tr th:only-of-type {\n",
       "        vertical-align: middle;\n",
       "    }\n",
       "\n",
       "    .dataframe tbody tr th {\n",
       "        vertical-align: top;\n",
       "    }\n",
       "\n",
       "    .dataframe thead th {\n",
       "        text-align: right;\n",
       "    }\n",
       "</style>\n",
       "<table border=\"1\" class=\"dataframe\">\n",
       "  <thead>\n",
       "    <tr style=\"text-align: right;\">\n",
       "      <th></th>\n",
       "      <th>pulse_width</th>\n",
       "      <th>pulse_delay</th>\n",
       "      <th>voltage_max</th>\n",
       "      <th>num_points</th>\n",
       "      <th>step_size</th>\n",
       "      <th>capacitor_area</th>\n",
       "      <th>thickness</th>\n",
       "      <th>permittivity</th>\n",
       "      <th>format</th>\n",
       "      <th>type</th>\n",
       "      <th>points</th>\n",
       "      <th>count</th>\n",
       "      <th>x_increment</th>\n",
       "      <th>x_origin</th>\n",
       "      <th>x_reference</th>\n",
       "      <th>y_increment</th>\n",
       "      <th>y_origin</th>\n",
       "      <th>y_reference</th>\n",
       "      <th>trial</th>\n",
       "      <th>filename</th>\n",
       "    </tr>\n",
       "  </thead>\n",
       "  <tbody>\n",
       "    <tr>\n",
       "      <th>0</th>\n",
       "      <td>0.000001</td>\n",
       "      <td>0.0001</td>\n",
       "      <td>2</td>\n",
       "      <td>20</td>\n",
       "      <td>NaN</td>\n",
       "      <td>4.000000e-08</td>\n",
       "      <td>1.000000e-08</td>\n",
       "      <td>30</td>\n",
       "      <td>0</td>\n",
       "      <td>0</td>\n",
       "      <td>996</td>\n",
       "      <td>1</td>\n",
       "      <td>5.120000e-07</td>\n",
       "      <td>-0.000255</td>\n",
       "      <td>0</td>\n",
       "      <td>0.040201</td>\n",
       "      <td>0.0</td>\n",
       "      <td>0</td>\n",
       "      <td>0</td>\n",
       "      <td>fe_PUND_PV__0.csv</td>\n",
       "    </tr>\n",
       "    <tr>\n",
       "      <th>1</th>\n",
       "      <td>0.000001</td>\n",
       "      <td>0.0001</td>\n",
       "      <td>2</td>\n",
       "      <td>20</td>\n",
       "      <td>NaN</td>\n",
       "      <td>4.000000e-08</td>\n",
       "      <td>1.000000e-08</td>\n",
       "      <td>30</td>\n",
       "      <td>0</td>\n",
       "      <td>0</td>\n",
       "      <td>996</td>\n",
       "      <td>1</td>\n",
       "      <td>5.120000e-07</td>\n",
       "      <td>-0.000255</td>\n",
       "      <td>0</td>\n",
       "      <td>0.040201</td>\n",
       "      <td>0.0</td>\n",
       "      <td>0</td>\n",
       "      <td>1</td>\n",
       "      <td>fe_PUND_PV__1.csv</td>\n",
       "    </tr>\n",
       "    <tr>\n",
       "      <th>2</th>\n",
       "      <td>0.000001</td>\n",
       "      <td>0.0001</td>\n",
       "      <td>2</td>\n",
       "      <td>20</td>\n",
       "      <td>NaN</td>\n",
       "      <td>4.000000e-08</td>\n",
       "      <td>1.000000e-08</td>\n",
       "      <td>30</td>\n",
       "      <td>0</td>\n",
       "      <td>0</td>\n",
       "      <td>996</td>\n",
       "      <td>1</td>\n",
       "      <td>5.120000e-07</td>\n",
       "      <td>-0.000255</td>\n",
       "      <td>0</td>\n",
       "      <td>0.040201</td>\n",
       "      <td>0.0</td>\n",
       "      <td>0</td>\n",
       "      <td>2</td>\n",
       "      <td>fe_PUND_PV__2.csv</td>\n",
       "    </tr>\n",
       "    <tr>\n",
       "      <th>3</th>\n",
       "      <td>0.000100</td>\n",
       "      <td>0.0001</td>\n",
       "      <td>2</td>\n",
       "      <td>20</td>\n",
       "      <td>NaN</td>\n",
       "      <td>4.000000e-08</td>\n",
       "      <td>1.000000e-08</td>\n",
       "      <td>30</td>\n",
       "      <td>0</td>\n",
       "      <td>0</td>\n",
       "      <td>992</td>\n",
       "      <td>1</td>\n",
       "      <td>1.512000e-06</td>\n",
       "      <td>-0.000750</td>\n",
       "      <td>0</td>\n",
       "      <td>0.040201</td>\n",
       "      <td>0.0</td>\n",
       "      <td>0</td>\n",
       "      <td>3</td>\n",
       "      <td>fe_PUND_PV__3.csv</td>\n",
       "    </tr>\n",
       "  </tbody>\n",
       "</table>\n",
       "</div>"
      ],
      "text/plain": [
       "   pulse_width  pulse_delay  voltage_max  num_points  step_size  \\\n",
       "0     0.000001       0.0001            2          20        NaN   \n",
       "1     0.000001       0.0001            2          20        NaN   \n",
       "2     0.000001       0.0001            2          20        NaN   \n",
       "3     0.000100       0.0001            2          20        NaN   \n",
       "\n",
       "   capacitor_area     thickness  permittivity  format  type  points  count  \\\n",
       "0    4.000000e-08  1.000000e-08            30       0     0     996      1   \n",
       "1    4.000000e-08  1.000000e-08            30       0     0     996      1   \n",
       "2    4.000000e-08  1.000000e-08            30       0     0     996      1   \n",
       "3    4.000000e-08  1.000000e-08            30       0     0     992      1   \n",
       "\n",
       "    x_increment  x_origin  x_reference  y_increment  y_origin  y_reference  \\\n",
       "0  5.120000e-07 -0.000255            0     0.040201       0.0            0   \n",
       "1  5.120000e-07 -0.000255            0     0.040201       0.0            0   \n",
       "2  5.120000e-07 -0.000255            0     0.040201       0.0            0   \n",
       "3  1.512000e-06 -0.000750            0     0.040201       0.0            0   \n",
       "\n",
       "   trial           filename  \n",
       "0      0  fe_PUND_PV__0.csv  \n",
       "1      1  fe_PUND_PV__1.csv  \n",
       "2      2  fe_PUND_PV__2.csv  \n",
       "3      3  fe_PUND_PV__3.csv  "
      ]
     },
     "execution_count": 6,
     "metadata": {},
     "output_type": "execute_result"
    }
   ],
   "source": [
    "# load the dataset\n",
    "Data_folder_path = r\"C:\\Users\\geofr\\Desktop\\Research\\Data\\FE\\PUND\\Python\"\n",
    "\n",
    "dset = analysis.load_Dataset(Data_folder_path + '/test')\n",
    "\n",
    "# print dset, parsable collection of meta data which holds pointers to the real data files\n",
    "dset"
   ]
  },
  {
   "cell_type": "code",
   "execution_count": 7,
   "metadata": {},
   "outputs": [],
   "source": [
    "data2= dset.select_index(3).get_data()"
   ]
  },
  {
   "cell_type": "code",
   "execution_count": 8,
   "metadata": {},
   "outputs": [
    {
     "data": {
      "text/plain": [
       "['time_v', 'wfm_v', 'time_c', 'wfm_c']"
      ]
     },
     "execution_count": 8,
     "metadata": {},
     "output_type": "execute_result"
    }
   ],
   "source": [
    "data2.data_keys"
   ]
  },
  {
   "cell_type": "code",
   "execution_count": 9,
   "metadata": {},
   "outputs": [
    {
     "data": {
      "text/plain": [
       "(<Figure size 640x480 with 1 Axes>, <Axes: >)"
      ]
     },
     "execution_count": 9,
     "metadata": {},
     "output_type": "execute_result"
    },
    {
     "data": {
      "image/png": "[encoded data removed]",
      "text/plain": [
       "<Figure size 640x480 with 1 Axes>"
      ]
     },
     "metadata": {},
     "output_type": "display_data"
    }
   ],
   "source": [
    "data2.plot('time_v', 'wfm_v')"
   ]
  },
  {
   "cell_type": "code",
   "execution_count": null,
   "metadata": {},
   "outputs": [],
   "source": []
  }
 ],
 "metadata": {
  "kernelspec": {
   "display_name": "Python 3",
   "language": "python",
   "name": "python3"
  },
  "language_info": {
   "codemirror_mode": {
    "name": "ipython",
    "version": 3
   },
   "file_extension": ".py",
   "mimetype": "text/x-python",
   "name": "python",
   "nbconvert_exporter": "python",
   "pygments_lexer": "ipython3",
   "version": "3.12.0"
  }
 },
 "nbformat": 4,
 "nbformat_minor": 2
}
