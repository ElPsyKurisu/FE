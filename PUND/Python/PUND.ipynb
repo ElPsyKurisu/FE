{
 "cells": [
  {
   "cell_type": "code",
   "execution_count": null,
   "metadata": {},
   "outputs": [],
   "source": [
    "import matplotlib.pyplot as plt\n",
    "from ekpy import control\n",
    "from ekpy.control.instruments import keysight81150a, keysightdsox3024a\n",
    "from PUND import PUND\n",
    "import numpy as np\n",
    "import time\n",
    "from datetime import timedelta"
   ]
  },
  {
   "cell_type": "code",
   "execution_count": null,
   "metadata": {},
   "outputs": [],
   "source": [
    "rm = control.ResourceManager()\n",
    "rm.list_resources()"
   ]
  },
  {
   "cell_type": "code",
   "execution_count": null,
   "metadata": {},
   "outputs": [],
   "source": [
    "scope = rm.open_resource('GPIB0::7::INSTR')\n",
    "wavegen = rm.open_resource('GPIB0::8::INSTR')"
   ]
  },
  {
   "cell_type": "code",
   "execution_count": null,
   "metadata": {},
   "outputs": [],
   "source": [
    "keysightdsox3024a.idn(scope)"
   ]
  },
  {
   "cell_type": "code",
   "execution_count": null,
   "metadata": {},
   "outputs": [],
   "source": [
    "keysight81150a.idn(wavegen)"
   ]
  },
  {
   "cell_type": "code",
   "execution_count": null,
   "metadata": {},
   "outputs": [],
   "source": [
    "exp_fe = PUND(wavegen,scope)\n",
    "\n",
    "# specify run function (if desired)\n",
    "# options are: run_function aka i havent added a different one\n",
    "\n",
    "\n",
    "# config data path\n",
    "Data_folder_path = r\"C:\\Users\\geofr\\Desktop\\Research\\Data\\FE\\PUND\\Python\"\n",
    "exp_fe.config_path(Data_folder_path + '/BTO11')"
   ]
  },
  {
   "cell_type": "code",
   "execution_count": null,
   "metadata": {},
   "outputs": [],
   "source": [
    "\n",
    "voltages = [] \n",
    "i=0 #note will give us 0 data which should be nothing lol\n",
    "while i < 2.01:\n",
    "    voltages.append(\"{}\".format(round(i, 2)))\n",
    "    i +=0.1\n",
    "voltages = ['2']\n",
    "print(voltages)\n",
    "scan_params = {\n",
    "    'voltage_max':voltages\n",
    "}\n",
    "\n",
    "run_function_args = {\n",
    "    'wavegen':wavegen,\n",
    "    'scope':scope,\n",
    "    'pulse_width':'1e-4',\n",
    "    'pulse_delay':'1e-2',\n",
    "    'voltage_max':'2',\n",
    "    'num_points':'20',\n",
    "    'step_size':None,\n",
    "    'capacitor_area':'4e-8',\n",
    "    'thickness':'10e-9',\n",
    "    'permittivity':'30',\n",
    "}\n",
    "\n",
    "order = ['voltage_max',]"
   ]
  },
  {
   "cell_type": "code",
   "execution_count": null,
   "metadata": {},
   "outputs": [],
   "source": [
    "exp_fe.n_param_scan(scan_params, run_function_args, order, ntrials=1, plot=False)"
   ]
  },
  {
   "cell_type": "code",
   "execution_count": null,
   "metadata": {},
   "outputs": [],
   "source": [
    "def create_PUND_wf(pulse_width, pulse_delay):\n",
    "    \"\"\"\n",
    "    Helper function that creates the PUND wf, can be later replaced by a read file if it is desired\n",
    "    to have an external file hold the PUND wf and gives us the frequnecy\n",
    "    \"\"\"\n",
    "    pulse_width = float(pulse_width)\n",
    "    pulse_delay = float(pulse_delay)\n",
    "    if pulse_delay < pulse_width:\n",
    "        raise ValueError(\"Pulse delay cannot be lower than pulse width, check your values and try again\")\n",
    "    ratio = int(pulse_delay/pulse_width) #this tells us how much longer the pulse width is careful cuz its rounding to nearest int btw\n",
    "    delay_list = [0] * ratio\n",
    "    pulse_1 = [-1, 0] + delay_list\n",
    "    pulse_2 = [1, 0] + delay_list\n",
    "    pulse_3 = [1, 0] + delay_list\n",
    "    pulse_4 = [-1, 0] + delay_list\n",
    "    pulse_5 = [-1, 0] + delay_list\n",
    "    PUND_wf = pulse_1 + pulse_2 + pulse_3 + pulse_4 + pulse_5\n",
    "    scale_factor = 10\n",
    "    index = 0\n",
    "    scaled_PUND_wf = PUND_wf[:]\n",
    "    for i in range(len(PUND_wf)):\n",
    "        value = PUND_wf[i]\n",
    "        to_be_inserted = [value]*scale_factor \n",
    "        scaled_PUND_wf[index:index] = to_be_inserted\n",
    "        index += 5\n",
    "    scaled_PUND_wf = scaled_PUND_wf[:-len(PUND_wf)]\n",
    "\n",
    "    total_wf_len = 10*(pulse_width) + 5*(pulse_delay) #see img for reasoning\n",
    "    freq = 1/total_wf_len\n",
    "    return scaled_PUND_wf, freq, total_wf_len"
   ]
  },
  {
   "cell_type": "code",
   "execution_count": null,
   "metadata": {},
   "outputs": [],
   "source": [
    "def create_PUND_wf(pulse_width, pulse_delay):\n",
    "    \"\"\"\n",
    "    Helper function that creates the PUND wf, can be later replaced by a read file if it is desired\n",
    "    to have an external file hold the PUND wf and gives us the frequnecy\n",
    "    \"\"\"\n",
    "    pulse_width = float(pulse_width)\n",
    "    pulse_delay = float(pulse_delay)\n",
    "    if pulse_delay < pulse_width:\n",
    "        raise ValueError(\"Pulse delay cannot be lower than pulse width, check your values and try again\")\n",
    "    ratio = int(pulse_delay/pulse_width) #this tells us how much longer the pulse width is careful cuz its rounding to nearest int btw\n",
    "    delay_list = [0] * ratio\n",
    "    pulse_1 = [-1, 0] + delay_list\n",
    "    pulse_2 = [1, 0] + delay_list\n",
    "    pulse_3 = [1, 0] + delay_list\n",
    "    pulse_4 = [-1, 0] + delay_list\n",
    "    pulse_5 = [-1, 0] + delay_list\n",
    "    PUND_wf = pulse_1 + pulse_2 + pulse_3 + pulse_4 + pulse_5\n",
    "    scale_factor = 5\n",
    "    index = 0\n",
    "    scaled_PUND_wf = PUND_wf[:]\n",
    "    for i in range(len(PUND_wf)):\n",
    "        value = PUND_wf[i]\n",
    "        to_be_inserted = [value]*scale_factor \n",
    "        scaled_PUND_wf[index:index] = to_be_inserted\n",
    "        index += 5\n",
    "    scaled_PUND_wf = scaled_PUND_wf[:-len(PUND_wf)]\n",
    "\n",
    "    total_wf_len = 10*(pulse_width) + 5*(pulse_delay) #see img for reasoning\n",
    "    freq = 1/total_wf_len\n",
    "    return scaled_PUND_wf, freq, total_wf_len"
   ]
  },
  {
   "cell_type": "code",
   "execution_count": null,
   "metadata": {},
   "outputs": [],
   "source": [
    "p,f,t = create_PUND_wf('1e-6', '2e-6')"
   ]
  },
  {
   "cell_type": "code",
   "execution_count": null,
   "metadata": {},
   "outputs": [],
   "source": [
    "import matplotlib.pyplot as plt"
   ]
  },
  {
   "cell_type": "code",
   "execution_count": null,
   "metadata": {},
   "outputs": [],
   "source": [
    "y = np.linspace(0,len(p), len(p))"
   ]
  },
  {
   "cell_type": "code",
   "execution_count": null,
   "metadata": {},
   "outputs": [],
   "source": [
    "plt.plot(y,p)"
   ]
  },
  {
   "cell_type": "code",
   "execution_count": null,
   "metadata": {},
   "outputs": [],
   "source": []
  }
 ],
 "metadata": {
  "kernelspec": {
   "display_name": "Python 3",
   "language": "python",
   "name": "python3"
  },
  "language_info": {
   "codemirror_mode": {
    "name": "ipython",
    "version": 3
   },
   "file_extension": ".py",
   "mimetype": "text/x-python",
   "name": "python",
   "nbconvert_exporter": "python",
   "pygments_lexer": "ipython3",
   "version": "3.12.0"
  }
 },
 "nbformat": 4,
 "nbformat_minor": 2
}
