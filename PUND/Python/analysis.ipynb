{
 "cells": [
  {
   "cell_type": "code",
   "execution_count": null,
   "metadata": {},
   "outputs": [],
   "source": [
    "from ekpy import analysis\n",
    "import numpy as np\n",
    "import scipy.integrate as it\n",
    "from scipy.signal import find_peaks, savgol_filter, peak_widths\n",
    "import matplotlib.pyplot as plt\n",
    "from ekpy.analysis.analysisgeotemp import use_analysis_file #note need to make this under __all__"
   ]
  },
  {
   "cell_type": "code",
   "execution_count": null,
   "metadata": {},
   "outputs": [],
   "source": [
    "# load the dataset\n",
    "Data_folder_path = \"C:/Users/geofr/Desktop/Research/Data/FE/PV/\"\n",
    "\n",
    "dset = analysis.load_Dataset(Data_folder_path + r'BTO')\n",
    "\n",
    "# print dset, parsable collection of meta data which holds pointers to the real data files\n",
    "dset"
   ]
  },
  {
   "cell_type": "code",
   "execution_count": null,
   "metadata": {},
   "outputs": [],
   "source": [
    "data2= dset.select_index(17).get_data()"
   ]
  },
  {
   "cell_type": "code",
   "execution_count": null,
   "metadata": {},
   "outputs": [],
   "source": [
    "modified_data, interm_steps = use_analysis_file('analysisfile', data2, verbose=True, dont_pass_defn=False)"
   ]
  }
 ],
 "metadata": {
  "kernelspec": {
   "display_name": "Python 3",
   "language": "python",
   "name": "python3"
  },
  "language_info": {
   "name": "python",
   "version": "3.12.0"
  }
 },
 "nbformat": 4,
 "nbformat_minor": 2
}
