{
 "cells": [
  {
   "cell_type": "markdown",
   "metadata": {},
   "source": [
    "This will be used to show how to create a file (from file in the Radiant) with python\n",
    "First Example"
   ]
  },
  {
   "cell_type": "code",
   "execution_count": 5,
   "metadata": {},
   "outputs": [
    {
     "name": "stdout",
     "output_type": "stream",
     "text": [
      "File 'cycle_20_times.txt' created successfully.\n"
     ]
    }
   ],
   "source": [
    "import numpy as np\n",
    "\n",
    "# Define the step size and the number of cycles\n",
    "#note used ChatGPT to generate this\n",
    "step_size = 0.1\n",
    "num_cycles = 20\n",
    "\n",
    "# Create the pattern for one cycle\n",
    "one_cycle = np.concatenate([\n",
    "    np.arange(0, 1, step_size),\n",
    "    np.arange(1, 0, -step_size),\n",
    "    np.arange(0, -1, -step_size),\n",
    "    np.arange(-1, 0, step_size)\n",
    "])\n",
    "\n",
    "# Repeat the pattern for the specified number of cycles\n",
    "pattern = np.tile(one_cycle, num_cycles)\n",
    "\n",
    "# Calculate the number of points\n",
    "num_points = len(pattern)\n",
    "\n",
    "# Write the pattern to a text file with the additional lines\n",
    "with open('cycle_20_times.txt', 'w') as file:\n",
    "    file.write(f\"{num_points}\\n\")\n",
    "    file.write(\"0.005\\n\")\n",
    "    for value in pattern:\n",
    "        file.write(f\"{value}\\n\")\n",
    "\n",
    "print(\"File 'cycle_20_times.txt' created successfully.\")\n"
   ]
  }
 ],
 "metadata": {
  "kernelspec": {
   "display_name": "Python 3",
   "language": "python",
   "name": "python3"
  },
  "language_info": {
   "codemirror_mode": {
    "name": "ipython",
    "version": 3
   },
   "file_extension": ".py",
   "mimetype": "text/x-python",
   "name": "python",
   "nbconvert_exporter": "python",
   "pygments_lexer": "ipython3",
   "version": "3.12.0"
  }
 },
 "nbformat": 4,
 "nbformat_minor": 2
}
